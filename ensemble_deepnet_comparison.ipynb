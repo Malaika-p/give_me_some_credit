{
 "cells": [
  {
   "cell_type": "code",
   "execution_count": 17,
   "metadata": {},
   "outputs": [],
   "source": [
    "import pandas\n",
    "from pandas import DataFrame, read_csv\n",
    "import bigml.api\n",
    "from bigml.api import BigML\n",
    "import matplotlib.pyplot as plt"
   ]
  },
  {
   "cell_type": "code",
   "execution_count": 18,
   "metadata": {},
   "outputs": [],
   "source": [
    "api = BigML(project='project/5dbc4cc1f80b1640d7002229')"
   ]
  },
  {
   "cell_type": "markdown",
   "metadata": {},
   "source": [
    "we retrieve our data"
   ]
  },
  {
   "cell_type": "code",
   "execution_count": 9,
   "metadata": {},
   "outputs": [],
   "source": [
    "df1 =read_csv(r'dataset_deepnet_ensemble/training_set1.csv',index_col=0)\n",
    "df2 =read_csv('dataset_deepnet_ensemble/training_set2.csv',index_col=0)\n",
    "df3 =read_csv('dataset_deepnet_ensemble/training_set3.csv',index_col=0)\n",
    "df4 =read_csv('dataset_deepnet_ensemble/training_set4.csv',index_col=0)\n",
    "df5 =read_csv('dataset_deepnet_ensemble/training_set5.csv',index_col=0)\n",
    "df6 =read_csv('dataset_deepnet_ensemble/training_set6.csv',index_col=0)\n",
    "df7 =read_csv('dataset_deepnet_ensemble/training_set7.csv',index_col=0)\n",
    "df8 =read_csv('dataset_deepnet_ensemble/training_set8.csv',index_col=0)\n",
    "df9=read_csv('dataset_deepnet_ensemble/training_set9.csv',index_col=0)\n",
    "df10 =read_csv('dataset_deepnet_ensemble/training_set10.csv',index_col=0)\n",
    "df11 =read_csv('dataset_deepnet_ensemble/training_set11.csv',index_col=0)\n",
    "df12 =read_csv('dataset_deepnet_ensemble/training_set12.csv',index_col=0)\n",
    "df13 =read_csv('dataset_deepnet_ensemble/training_set13.csv',index_col=0)\n",
    "df14 =read_csv('dataset_deepnet_ensemble/training_set14.csv',index_col=0)\n",
    "df15 =read_csv('dataset_deepnet_ensemble/training_set15.csv',index_col=0)\n",
    "df16 =read_csv('dataset_deepnet_ensemble/training_set16.csv',index_col=0)\n",
    "df17 =read_csv('dataset_deepnet_ensemble/training_set17.csv',index_col=0)\n",
    "df18 =read_csv('dataset_deepnet_ensemble/training_set18.csv',index_col=0)\n",
    "df19 =read_csv('dataset_deepnet_ensemble/training_set19.csv',index_col=0)\n",
    "df20 =read_csv('dataset_deepnet_ensemble/training_set20.csv',index_col=0)"
   ]
  },
  {
   "cell_type": "code",
   "execution_count": 10,
   "metadata": {},
   "outputs": [],
   "source": [
    "train1 = df1\n",
    "train2 = pandas.concat([train1,df2])\n",
    "train3 = pandas.concat([train2 , df3])\n",
    "train4 = pandas.concat([train3 , df4])\n",
    "train5 = pandas.concat([train4,df5])\n",
    "train6 = pandas.concat([train5 , df6])\n",
    "train7 = pandas.concat([train6 , df7])\n",
    "train8 = pandas.concat([train7 , df8])\n",
    "train9 = pandas.concat([train8 , df9])\n",
    "train10= pandas.concat([train9 , df10])\n",
    "train11 = pandas.concat([train10 , df11])\n",
    "train12 = pandas.concat([train11 , df12])\n",
    "train13 = pandas.concat([train12 , df13])\n",
    "train14 = pandas.concat([train13 , df14])\n",
    "train15 = pandas.concat([train14 , df15])\n",
    "train16 = pandas.concat([train15 , df16])\n",
    "train17 = pandas.concat([train16 , df17])\n",
    "train18 = pandas.concat([train17 , df18])\n",
    "train19 = pandas.concat([train18 , df19])\n",
    "train20 = pandas.concat([train19 , df20])\n"
   ]
  },
  {
   "cell_type": "code",
   "execution_count": 11,
   "metadata": {
    "scrolled": true
   },
   "outputs": [
    {
     "data": {
      "text/html": [
       "<div>\n",
       "<style scoped>\n",
       "    .dataframe tbody tr th:only-of-type {\n",
       "        vertical-align: middle;\n",
       "    }\n",
       "\n",
       "    .dataframe tbody tr th {\n",
       "        vertical-align: top;\n",
       "    }\n",
       "\n",
       "    .dataframe thead th {\n",
       "        text-align: right;\n",
       "    }\n",
       "</style>\n",
       "<table border=\"1\" class=\"dataframe\">\n",
       "  <thead>\n",
       "    <tr style=\"text-align: right;\">\n",
       "      <th></th>\n",
       "      <th>RevolvingUtilizationOfUnsecuredLines</th>\n",
       "      <th>age</th>\n",
       "      <th>DebtRatio</th>\n",
       "      <th>MonthlyIncome</th>\n",
       "      <th>MonthlyDebt</th>\n",
       "      <th>DisposableIncome</th>\n",
       "      <th>BalancedIncome</th>\n",
       "      <th>NumberOfOpenCreditLinesAndLoans</th>\n",
       "      <th>NumberRealEstateLoansOrLines</th>\n",
       "      <th>NumberOfTime30-59DaysPastDueNotWorse</th>\n",
       "      <th>NumberOfTime60-89DaysPastDueNotWorse</th>\n",
       "      <th>NumberOfTimes90DaysLate</th>\n",
       "      <th>WeightedOfLatePayment</th>\n",
       "      <th>NumberOfDependents</th>\n",
       "      <th>SeriousDlqin2yrs</th>\n",
       "    </tr>\n",
       "  </thead>\n",
       "  <tbody>\n",
       "    <tr>\n",
       "      <td>71137</td>\n",
       "      <td>0.048342</td>\n",
       "      <td>56</td>\n",
       "      <td>0.398815</td>\n",
       "      <td>5736.0</td>\n",
       "      <td>2287.601188</td>\n",
       "      <td>3448.398812</td>\n",
       "      <td>5736.0</td>\n",
       "      <td>10</td>\n",
       "      <td>1</td>\n",
       "      <td>0</td>\n",
       "      <td>0</td>\n",
       "      <td>1</td>\n",
       "      <td>3</td>\n",
       "      <td>0.0</td>\n",
       "      <td>0</td>\n",
       "    </tr>\n",
       "    <tr>\n",
       "      <td>2884</td>\n",
       "      <td>0.010038</td>\n",
       "      <td>58</td>\n",
       "      <td>0.004386</td>\n",
       "      <td>9803.0</td>\n",
       "      <td>42.995615</td>\n",
       "      <td>9760.004385</td>\n",
       "      <td>9803.0</td>\n",
       "      <td>10</td>\n",
       "      <td>0</td>\n",
       "      <td>0</td>\n",
       "      <td>0</td>\n",
       "      <td>0</td>\n",
       "      <td>0</td>\n",
       "      <td>0.0</td>\n",
       "      <td>0</td>\n",
       "    </tr>\n",
       "    <tr>\n",
       "      <td>126665</td>\n",
       "      <td>0.015350</td>\n",
       "      <td>86</td>\n",
       "      <td>0.002369</td>\n",
       "      <td>4221.0</td>\n",
       "      <td>9.997633</td>\n",
       "      <td>4211.002367</td>\n",
       "      <td>4221.0</td>\n",
       "      <td>7</td>\n",
       "      <td>0</td>\n",
       "      <td>0</td>\n",
       "      <td>0</td>\n",
       "      <td>0</td>\n",
       "      <td>0</td>\n",
       "      <td>0.0</td>\n",
       "      <td>0</td>\n",
       "    </tr>\n",
       "    <tr>\n",
       "      <td>2262</td>\n",
       "      <td>0.038046</td>\n",
       "      <td>56</td>\n",
       "      <td>0.240269</td>\n",
       "      <td>14000.0</td>\n",
       "      <td>3363.759728</td>\n",
       "      <td>10636.240272</td>\n",
       "      <td>7000.0</td>\n",
       "      <td>8</td>\n",
       "      <td>2</td>\n",
       "      <td>0</td>\n",
       "      <td>0</td>\n",
       "      <td>0</td>\n",
       "      <td>0</td>\n",
       "      <td>1.0</td>\n",
       "      <td>0</td>\n",
       "    </tr>\n",
       "    <tr>\n",
       "      <td>50256</td>\n",
       "      <td>0.031339</td>\n",
       "      <td>50</td>\n",
       "      <td>0.355433</td>\n",
       "      <td>4720.0</td>\n",
       "      <td>1677.644567</td>\n",
       "      <td>3042.355433</td>\n",
       "      <td>1180.0</td>\n",
       "      <td>7</td>\n",
       "      <td>1</td>\n",
       "      <td>1</td>\n",
       "      <td>0</td>\n",
       "      <td>1</td>\n",
       "      <td>4</td>\n",
       "      <td>3.0</td>\n",
       "      <td>1</td>\n",
       "    </tr>\n",
       "    <tr>\n",
       "      <td>...</td>\n",
       "      <td>...</td>\n",
       "      <td>...</td>\n",
       "      <td>...</td>\n",
       "      <td>...</td>\n",
       "      <td>...</td>\n",
       "      <td>...</td>\n",
       "      <td>...</td>\n",
       "      <td>...</td>\n",
       "      <td>...</td>\n",
       "      <td>...</td>\n",
       "      <td>...</td>\n",
       "      <td>...</td>\n",
       "      <td>...</td>\n",
       "      <td>...</td>\n",
       "      <td>...</td>\n",
       "    </tr>\n",
       "    <tr>\n",
       "      <td>60457</td>\n",
       "      <td>1.027431</td>\n",
       "      <td>66</td>\n",
       "      <td>0.003842</td>\n",
       "      <td>3122.0</td>\n",
       "      <td>11.996157</td>\n",
       "      <td>3110.003843</td>\n",
       "      <td>3122.0</td>\n",
       "      <td>1</td>\n",
       "      <td>0</td>\n",
       "      <td>0</td>\n",
       "      <td>0</td>\n",
       "      <td>0</td>\n",
       "      <td>0</td>\n",
       "      <td>0.0</td>\n",
       "      <td>0</td>\n",
       "    </tr>\n",
       "    <tr>\n",
       "      <td>66338</td>\n",
       "      <td>0.003457</td>\n",
       "      <td>58</td>\n",
       "      <td>0.176551</td>\n",
       "      <td>11650.0</td>\n",
       "      <td>2056.823449</td>\n",
       "      <td>9593.176551</td>\n",
       "      <td>11650.0</td>\n",
       "      <td>6</td>\n",
       "      <td>1</td>\n",
       "      <td>0</td>\n",
       "      <td>0</td>\n",
       "      <td>0</td>\n",
       "      <td>0</td>\n",
       "      <td>0.0</td>\n",
       "      <td>0</td>\n",
       "    </tr>\n",
       "    <tr>\n",
       "      <td>115551</td>\n",
       "      <td>0.112720</td>\n",
       "      <td>24</td>\n",
       "      <td>0.548726</td>\n",
       "      <td>2000.0</td>\n",
       "      <td>1097.451274</td>\n",
       "      <td>902.548726</td>\n",
       "      <td>1000.0</td>\n",
       "      <td>6</td>\n",
       "      <td>1</td>\n",
       "      <td>0</td>\n",
       "      <td>0</td>\n",
       "      <td>0</td>\n",
       "      <td>0</td>\n",
       "      <td>1.0</td>\n",
       "      <td>0</td>\n",
       "    </tr>\n",
       "    <tr>\n",
       "      <td>4903</td>\n",
       "      <td>0.985735</td>\n",
       "      <td>51</td>\n",
       "      <td>0.413799</td>\n",
       "      <td>5405.0</td>\n",
       "      <td>2236.586200</td>\n",
       "      <td>3168.413800</td>\n",
       "      <td>5405.0</td>\n",
       "      <td>6</td>\n",
       "      <td>1</td>\n",
       "      <td>0</td>\n",
       "      <td>0</td>\n",
       "      <td>0</td>\n",
       "      <td>0</td>\n",
       "      <td>0.0</td>\n",
       "      <td>0</td>\n",
       "    </tr>\n",
       "    <tr>\n",
       "      <td>48369</td>\n",
       "      <td>0.127976</td>\n",
       "      <td>57</td>\n",
       "      <td>0.300000</td>\n",
       "      <td>0.0</td>\n",
       "      <td>6211.000000</td>\n",
       "      <td>0.000000</td>\n",
       "      <td>0.0</td>\n",
       "      <td>35</td>\n",
       "      <td>2</td>\n",
       "      <td>0</td>\n",
       "      <td>0</td>\n",
       "      <td>0</td>\n",
       "      <td>0</td>\n",
       "      <td>0.0</td>\n",
       "      <td>0</td>\n",
       "    </tr>\n",
       "  </tbody>\n",
       "</table>\n",
       "<p>12000 rows × 15 columns</p>\n",
       "</div>"
      ],
      "text/plain": [
       "        RevolvingUtilizationOfUnsecuredLines  age  DebtRatio  MonthlyIncome  \\\n",
       "71137                               0.048342   56   0.398815         5736.0   \n",
       "2884                                0.010038   58   0.004386         9803.0   \n",
       "126665                              0.015350   86   0.002369         4221.0   \n",
       "2262                                0.038046   56   0.240269        14000.0   \n",
       "50256                               0.031339   50   0.355433         4720.0   \n",
       "...                                      ...  ...        ...            ...   \n",
       "60457                               1.027431   66   0.003842         3122.0   \n",
       "66338                               0.003457   58   0.176551        11650.0   \n",
       "115551                              0.112720   24   0.548726         2000.0   \n",
       "4903                                0.985735   51   0.413799         5405.0   \n",
       "48369                               0.127976   57   0.300000            0.0   \n",
       "\n",
       "        MonthlyDebt  DisposableIncome  BalancedIncome  \\\n",
       "71137   2287.601188       3448.398812          5736.0   \n",
       "2884      42.995615       9760.004385          9803.0   \n",
       "126665     9.997633       4211.002367          4221.0   \n",
       "2262    3363.759728      10636.240272          7000.0   \n",
       "50256   1677.644567       3042.355433          1180.0   \n",
       "...             ...               ...             ...   \n",
       "60457     11.996157       3110.003843          3122.0   \n",
       "66338   2056.823449       9593.176551         11650.0   \n",
       "115551  1097.451274        902.548726          1000.0   \n",
       "4903    2236.586200       3168.413800          5405.0   \n",
       "48369   6211.000000          0.000000             0.0   \n",
       "\n",
       "        NumberOfOpenCreditLinesAndLoans  NumberRealEstateLoansOrLines  \\\n",
       "71137                                10                             1   \n",
       "2884                                 10                             0   \n",
       "126665                                7                             0   \n",
       "2262                                  8                             2   \n",
       "50256                                 7                             1   \n",
       "...                                 ...                           ...   \n",
       "60457                                 1                             0   \n",
       "66338                                 6                             1   \n",
       "115551                                6                             1   \n",
       "4903                                  6                             1   \n",
       "48369                                35                             2   \n",
       "\n",
       "        NumberOfTime30-59DaysPastDueNotWorse  \\\n",
       "71137                                      0   \n",
       "2884                                       0   \n",
       "126665                                     0   \n",
       "2262                                       0   \n",
       "50256                                      1   \n",
       "...                                      ...   \n",
       "60457                                      0   \n",
       "66338                                      0   \n",
       "115551                                     0   \n",
       "4903                                       0   \n",
       "48369                                      0   \n",
       "\n",
       "        NumberOfTime60-89DaysPastDueNotWorse  NumberOfTimes90DaysLate  \\\n",
       "71137                                      0                        1   \n",
       "2884                                       0                        0   \n",
       "126665                                     0                        0   \n",
       "2262                                       0                        0   \n",
       "50256                                      0                        1   \n",
       "...                                      ...                      ...   \n",
       "60457                                      0                        0   \n",
       "66338                                      0                        0   \n",
       "115551                                     0                        0   \n",
       "4903                                       0                        0   \n",
       "48369                                      0                        0   \n",
       "\n",
       "        WeightedOfLatePayment  NumberOfDependents  SeriousDlqin2yrs  \n",
       "71137                       3                 0.0                 0  \n",
       "2884                        0                 0.0                 0  \n",
       "126665                      0                 0.0                 0  \n",
       "2262                        0                 1.0                 0  \n",
       "50256                       4                 3.0                 1  \n",
       "...                       ...                 ...               ...  \n",
       "60457                       0                 0.0                 0  \n",
       "66338                       0                 0.0                 0  \n",
       "115551                      0                 1.0                 0  \n",
       "4903                        0                 0.0                 0  \n",
       "48369                       0                 0.0                 0  \n",
       "\n",
       "[12000 rows x 15 columns]"
      ]
     },
     "execution_count": 11,
     "metadata": {},
     "output_type": "execute_result"
    }
   ],
   "source": [
    "train2"
   ]
  },
  {
   "cell_type": "code",
   "execution_count": 12,
   "metadata": {},
   "outputs": [],
   "source": [
    "train1.to_csv(r'dataset_deepnet_ensemble/bigml/training_set1.csv',  header=True)\n",
    "train2.to_csv(r'dataset_deepnet_ensemble/bigml/training_set2.csv',  header=True)\n",
    "train3.to_csv(r'dataset_deepnet_ensemble/bigml/training_set3.csv',  header=True)\n",
    "train4.to_csv(r'dataset_deepnet_ensemble/bigml/training_set4.csv',  header=True)\n",
    "train5.to_csv(r'dataset_deepnet_ensemble/bigml/training_set5.csv',  header=True)\n",
    "train6.to_csv(r'dataset_deepnet_ensemble/bigml/training_set6.csv',  header=True)\n",
    "train7.to_csv(r'dataset_deepnet_ensemble/bigml/training_set7.csv',  header=True)\n",
    "train8.to_csv(r'dataset_deepnet_ensemble/bigml/training_set8.csv',  header=True)\n",
    "train9.to_csv(r'dataset_deepnet_ensemble/bigml/training_set9.csv',  header=True)\n",
    "train10.to_csv(r'dataset_deepnet_ensemble/bigml/training_set10.csv',  header=True)\n",
    "train11.to_csv(r'dataset_deepnet_ensemble/bigml/training_set11.csv',  header=True)\n",
    "train12.to_csv(r'dataset_deepnet_ensemble/bigml/training_set12.csv',  header=True)\n",
    "train13.to_csv(r'dataset_deepnet_ensemble/bigml/training_set13.csv',  header=True)\n",
    "train14.to_csv(r'dataset_deepnet_ensemble/bigml/training_set14.csv',  header=True)\n",
    "train15.to_csv(r'dataset_deepnet_ensemble/bigml/training_set15.csv',  header=True)\n",
    "train16.to_csv(r'dataset_deepnet_ensemble/bigml/training_set16.csv',  header=True)\n",
    "train17.to_csv(r'dataset_deepnet_ensemble/bigml/training_set17.csv',  header=True)\n",
    "train18.to_csv(r'dataset_deepnet_ensemble/bigml/training_set18.csv',  header=True)\n",
    "train19.to_csv(r'dataset_deepnet_ensemble/bigml/training_set19.csv',  header=True)\n",
    "train20.to_csv(r'dataset_deepnet_ensemble/bigml/training_set20.csv',  header=True)"
   ]
  },
  {
   "cell_type": "markdown",
   "metadata": {},
   "source": [
    "## We create ours BigMl data set\n",
    "\n",
    "* we create source from csv file\n",
    "* we create the data set"
   ]
  },
  {
   "cell_type": "code",
   "execution_count": 21,
   "metadata": {},
   "outputs": [],
   "source": [
    "sources = []\n",
    "datasets = []\n",
    "evaluations = []"
   ]
  },
  {
   "cell_type": "markdown",
   "metadata": {},
   "source": [
    "### Data set 1"
   ]
  },
  {
   "cell_type": "code",
   "execution_count": 15,
   "metadata": {
    "scrolled": true
   },
   "outputs": [
    {
     "data": {
      "text/plain": [
       "True"
      ]
     },
     "execution_count": 15,
     "metadata": {},
     "output_type": "execute_result"
    }
   ],
   "source": [
    "source1 = api.create_source('dataset_deepnet_ensemble/bigml/training_set1.csv')\n",
    "api.ok(source1)\n"
   ]
  },
  {
   "cell_type": "code",
   "execution_count": 22,
   "metadata": {},
   "outputs": [
    {
     "data": {
      "text/plain": [
       "'source/5dbd805a5299631c8200efa6'"
      ]
     },
     "execution_count": 22,
     "metadata": {},
     "output_type": "execute_result"
    }
   ],
   "source": [
    "sources.append(source1['resource'])\n",
    "source1['resource']"
   ]
  },
  {
   "cell_type": "code",
   "execution_count": 24,
   "metadata": {},
   "outputs": [
    {
     "data": {
      "text/plain": [
       "True"
      ]
     },
     "execution_count": 24,
     "metadata": {},
     "output_type": "execute_result"
    }
   ],
   "source": [
    "dataset1 = api.create_dataset(source1)\n",
    "api.ok(dataset1) "
   ]
  },
  {
   "cell_type": "code",
   "execution_count": 25,
   "metadata": {},
   "outputs": [
    {
     "data": {
      "text/plain": [
       "'dataset/5dbd81605299631c8200efa9'"
      ]
     },
     "execution_count": 25,
     "metadata": {},
     "output_type": "execute_result"
    }
   ],
   "source": [
    "datasets.append(dataset1['resource'])\n",
    "dataset1['resource']"
   ]
  },
  {
   "cell_type": "markdown",
   "metadata": {},
   "source": [
    "### Data set 2"
   ]
  },
  {
   "cell_type": "code",
   "execution_count": 26,
   "metadata": {},
   "outputs": [
    {
     "data": {
      "text/plain": [
       "True"
      ]
     },
     "execution_count": 26,
     "metadata": {},
     "output_type": "execute_result"
    }
   ],
   "source": [
    "source2 = api.create_source('dataset_deepnet_ensemble/bigml/training_set2.csv')\n",
    "api.ok(source2)"
   ]
  },
  {
   "cell_type": "code",
   "execution_count": 27,
   "metadata": {},
   "outputs": [
    {
     "data": {
      "text/plain": [
       "'source/5dbd81b2e47684746800f91d'"
      ]
     },
     "execution_count": 27,
     "metadata": {},
     "output_type": "execute_result"
    }
   ],
   "source": [
    "sources.append(source2['resource'])\n",
    "source2['resource']"
   ]
  },
  {
   "cell_type": "code",
   "execution_count": 28,
   "metadata": {},
   "outputs": [
    {
     "data": {
      "text/plain": [
       "True"
      ]
     },
     "execution_count": 28,
     "metadata": {},
     "output_type": "execute_result"
    }
   ],
   "source": [
    "dataset2 = api.create_dataset(source2)\n",
    "api.ok(dataset2) "
   ]
  },
  {
   "cell_type": "code",
   "execution_count": 29,
   "metadata": {},
   "outputs": [
    {
     "data": {
      "text/plain": [
       "'dataset/5dbd8236e47684746800f920'"
      ]
     },
     "execution_count": 29,
     "metadata": {},
     "output_type": "execute_result"
    }
   ],
   "source": [
    "datasets.append(dataset2['resource'])\n",
    "dataset2['resource']"
   ]
  },
  {
   "cell_type": "markdown",
   "metadata": {},
   "source": [
    "### Data set 3"
   ]
  },
  {
   "cell_type": "code",
   "execution_count": 32,
   "metadata": {},
   "outputs": [
    {
     "data": {
      "text/plain": [
       "True"
      ]
     },
     "execution_count": 32,
     "metadata": {},
     "output_type": "execute_result"
    }
   ],
   "source": [
    "source3 = api.create_source('dataset_deepnet_ensemble/bigml/training_set3.csv')\n",
    "api.ok(source3)"
   ]
  },
  {
   "cell_type": "code",
   "execution_count": 33,
   "metadata": {},
   "outputs": [
    {
     "data": {
      "text/plain": [
       "'source/5dbd846f5299631c8200efac'"
      ]
     },
     "execution_count": 33,
     "metadata": {},
     "output_type": "execute_result"
    }
   ],
   "source": [
    "sources.append(source3['resource'])\n",
    "source3['resource']"
   ]
  },
  {
   "cell_type": "code",
   "execution_count": 34,
   "metadata": {},
   "outputs": [
    {
     "data": {
      "text/plain": [
       "True"
      ]
     },
     "execution_count": 34,
     "metadata": {},
     "output_type": "execute_result"
    }
   ],
   "source": [
    "dataset3 = api.create_dataset(source3)\n",
    "api.ok(dataset3) "
   ]
  },
  {
   "cell_type": "code",
   "execution_count": 35,
   "metadata": {},
   "outputs": [
    {
     "data": {
      "text/plain": [
       "'dataset/5dbd84907811dd7f2d00e694'"
      ]
     },
     "execution_count": 35,
     "metadata": {},
     "output_type": "execute_result"
    }
   ],
   "source": [
    "datasets.append(dataset3['resource'])\n",
    "dataset3['resource']"
   ]
  },
  {
   "cell_type": "markdown",
   "metadata": {},
   "source": [
    "### Data set 4"
   ]
  },
  {
   "cell_type": "code",
   "execution_count": 36,
   "metadata": {},
   "outputs": [
    {
     "data": {
      "text/plain": [
       "True"
      ]
     },
     "execution_count": 36,
     "metadata": {},
     "output_type": "execute_result"
    }
   ],
   "source": [
    "source4 = api.create_source('dataset_deepnet_ensemble/bigml/training_set4.csv')\n",
    "api.ok(source4)"
   ]
  },
  {
   "cell_type": "code",
   "execution_count": 37,
   "metadata": {},
   "outputs": [
    {
     "data": {
      "text/plain": [
       "'source/5dbd84e55299631c8200efaf'"
      ]
     },
     "execution_count": 37,
     "metadata": {},
     "output_type": "execute_result"
    }
   ],
   "source": [
    "sources.append(source4['resource'])\n",
    "source4['resource']"
   ]
  },
  {
   "cell_type": "code",
   "execution_count": 38,
   "metadata": {},
   "outputs": [
    {
     "data": {
      "text/plain": [
       "True"
      ]
     },
     "execution_count": 38,
     "metadata": {},
     "output_type": "execute_result"
    }
   ],
   "source": [
    "dataset4 = api.create_dataset(source4)\n",
    "api.ok(dataset4) "
   ]
  },
  {
   "cell_type": "code",
   "execution_count": 39,
   "metadata": {},
   "outputs": [
    {
     "data": {
      "text/plain": [
       "'dataset/5dbd84eae47684746800f923'"
      ]
     },
     "execution_count": 39,
     "metadata": {},
     "output_type": "execute_result"
    }
   ],
   "source": [
    "datasets.append(dataset4['resource'])\n",
    "dataset4['resource']"
   ]
  },
  {
   "cell_type": "markdown",
   "metadata": {},
   "source": [
    "### Data set 5"
   ]
  },
  {
   "cell_type": "code",
   "execution_count": 40,
   "metadata": {},
   "outputs": [
    {
     "data": {
      "text/plain": [
       "True"
      ]
     },
     "execution_count": 40,
     "metadata": {},
     "output_type": "execute_result"
    }
   ],
   "source": [
    "source5 = api.create_source('dataset_deepnet_ensemble/bigml/training_set5.csv')\n",
    "api.ok(source5)"
   ]
  },
  {
   "cell_type": "code",
   "execution_count": 41,
   "metadata": {},
   "outputs": [
    {
     "data": {
      "text/plain": [
       "'source/5dbd852f5299631c8200efb2'"
      ]
     },
     "execution_count": 41,
     "metadata": {},
     "output_type": "execute_result"
    }
   ],
   "source": [
    "sources.append(source5['resource'])\n",
    "source5['resource']"
   ]
  },
  {
   "cell_type": "code",
   "execution_count": 42,
   "metadata": {},
   "outputs": [
    {
     "data": {
      "text/plain": [
       "True"
      ]
     },
     "execution_count": 42,
     "metadata": {},
     "output_type": "execute_result"
    }
   ],
   "source": [
    "dataset5 = api.create_dataset(source5)\n",
    "api.ok(dataset5) "
   ]
  },
  {
   "cell_type": "code",
   "execution_count": 43,
   "metadata": {},
   "outputs": [
    {
     "data": {
      "text/plain": [
       "'dataset/5dbd85357811dd7f2d00e697'"
      ]
     },
     "execution_count": 43,
     "metadata": {},
     "output_type": "execute_result"
    }
   ],
   "source": [
    "datasets.append(dataset5['resource'])\n",
    "dataset5['resource']"
   ]
  },
  {
   "cell_type": "markdown",
   "metadata": {},
   "source": [
    "### Data set 6"
   ]
  },
  {
   "cell_type": "code",
   "execution_count": 44,
   "metadata": {},
   "outputs": [
    {
     "data": {
      "text/plain": [
       "True"
      ]
     },
     "execution_count": 44,
     "metadata": {},
     "output_type": "execute_result"
    }
   ],
   "source": [
    "source6 = api.create_source('dataset_deepnet_ensemble/bigml/training_set6.csv')\n",
    "api.ok(source6)"
   ]
  },
  {
   "cell_type": "code",
   "execution_count": 45,
   "metadata": {},
   "outputs": [
    {
     "data": {
      "text/plain": [
       "'source/5dbd8577e47684746800f926'"
      ]
     },
     "execution_count": 45,
     "metadata": {},
     "output_type": "execute_result"
    }
   ],
   "source": [
    "sources.append(source6['resource'])\n",
    "source6['resource']"
   ]
  },
  {
   "cell_type": "code",
   "execution_count": 46,
   "metadata": {},
   "outputs": [
    {
     "data": {
      "text/plain": [
       "True"
      ]
     },
     "execution_count": 46,
     "metadata": {},
     "output_type": "execute_result"
    }
   ],
   "source": [
    "dataset6 = api.create_dataset(source6)\n",
    "api.ok(dataset6) "
   ]
  },
  {
   "cell_type": "code",
   "execution_count": 47,
   "metadata": {},
   "outputs": [
    {
     "data": {
      "text/plain": [
       "'dataset/5dbd857b5299631c8200efb5'"
      ]
     },
     "execution_count": 47,
     "metadata": {},
     "output_type": "execute_result"
    }
   ],
   "source": [
    "datasets.append(dataset6['resource'])\n",
    "dataset6['resource']"
   ]
  },
  {
   "cell_type": "markdown",
   "metadata": {},
   "source": [
    "### Data set 7"
   ]
  },
  {
   "cell_type": "code",
   "execution_count": 48,
   "metadata": {},
   "outputs": [
    {
     "data": {
      "text/plain": [
       "True"
      ]
     },
     "execution_count": 48,
     "metadata": {},
     "output_type": "execute_result"
    }
   ],
   "source": [
    "source7 = api.create_source('dataset_deepnet_ensemble/bigml/training_set7.csv')\n",
    "api.ok(source7)"
   ]
  },
  {
   "cell_type": "code",
   "execution_count": 49,
   "metadata": {},
   "outputs": [
    {
     "data": {
      "text/plain": [
       "'source/5dbd85a25299631c8200efb8'"
      ]
     },
     "execution_count": 49,
     "metadata": {},
     "output_type": "execute_result"
    }
   ],
   "source": [
    "sources.append(source7['resource'])\n",
    "source7['resource']"
   ]
  },
  {
   "cell_type": "code",
   "execution_count": 50,
   "metadata": {},
   "outputs": [
    {
     "data": {
      "text/plain": [
       "True"
      ]
     },
     "execution_count": 50,
     "metadata": {},
     "output_type": "execute_result"
    }
   ],
   "source": [
    "dataset7 = api.create_dataset(source7)\n",
    "api.ok(dataset7) "
   ]
  },
  {
   "cell_type": "code",
   "execution_count": 51,
   "metadata": {},
   "outputs": [
    {
     "data": {
      "text/plain": [
       "'dataset/5dbd85a7e47684746800f929'"
      ]
     },
     "execution_count": 51,
     "metadata": {},
     "output_type": "execute_result"
    }
   ],
   "source": [
    "datasets.append(dataset7['resource'])\n",
    "dataset7['resource']"
   ]
  },
  {
   "cell_type": "markdown",
   "metadata": {},
   "source": [
    "### Data set 8"
   ]
  },
  {
   "cell_type": "code",
   "execution_count": 52,
   "metadata": {},
   "outputs": [
    {
     "data": {
      "text/plain": [
       "True"
      ]
     },
     "execution_count": 52,
     "metadata": {},
     "output_type": "execute_result"
    }
   ],
   "source": [
    "source8 = api.create_source('dataset_deepnet_ensemble/bigml/training_set8.csv')\n",
    "api.ok(source8)"
   ]
  },
  {
   "cell_type": "code",
   "execution_count": 53,
   "metadata": {},
   "outputs": [
    {
     "data": {
      "text/plain": [
       "'source/5dbd86155299631c8200efbb'"
      ]
     },
     "execution_count": 53,
     "metadata": {},
     "output_type": "execute_result"
    }
   ],
   "source": [
    "sources.append(source8['resource'])\n",
    "source8['resource']"
   ]
  },
  {
   "cell_type": "code",
   "execution_count": 54,
   "metadata": {},
   "outputs": [
    {
     "data": {
      "text/plain": [
       "True"
      ]
     },
     "execution_count": 54,
     "metadata": {},
     "output_type": "execute_result"
    }
   ],
   "source": [
    "dataset8 = api.create_dataset(source8)\n",
    "api.ok(dataset8) "
   ]
  },
  {
   "cell_type": "code",
   "execution_count": 55,
   "metadata": {},
   "outputs": [
    {
     "data": {
      "text/plain": [
       "'dataset/5dbd861ae47684746800f92c'"
      ]
     },
     "execution_count": 55,
     "metadata": {},
     "output_type": "execute_result"
    }
   ],
   "source": [
    "datasets.append(dataset8['resource'])\n",
    "dataset8['resource']"
   ]
  },
  {
   "cell_type": "markdown",
   "metadata": {},
   "source": [
    "### Data set 9"
   ]
  },
  {
   "cell_type": "code",
   "execution_count": 56,
   "metadata": {},
   "outputs": [
    {
     "data": {
      "text/plain": [
       "True"
      ]
     },
     "execution_count": 56,
     "metadata": {},
     "output_type": "execute_result"
    }
   ],
   "source": [
    "source9 = api.create_source('dataset_deepnet_ensemble/bigml/training_set9.csv')\n",
    "api.ok(source9)"
   ]
  },
  {
   "cell_type": "code",
   "execution_count": 57,
   "metadata": {},
   "outputs": [
    {
     "data": {
      "text/plain": [
       "'source/5dbd86567811dd7f2d00e69a'"
      ]
     },
     "execution_count": 57,
     "metadata": {},
     "output_type": "execute_result"
    }
   ],
   "source": [
    "sources.append(source9['resource'])\n",
    "source9['resource']"
   ]
  },
  {
   "cell_type": "code",
   "execution_count": 58,
   "metadata": {},
   "outputs": [
    {
     "data": {
      "text/plain": [
       "True"
      ]
     },
     "execution_count": 58,
     "metadata": {},
     "output_type": "execute_result"
    }
   ],
   "source": [
    "dataset9 = api.create_dataset(source9)\n",
    "api.ok(dataset9) "
   ]
  },
  {
   "cell_type": "code",
   "execution_count": 59,
   "metadata": {},
   "outputs": [
    {
     "data": {
      "text/plain": [
       "'dataset/5dbd865ae47684746800f92f'"
      ]
     },
     "execution_count": 59,
     "metadata": {},
     "output_type": "execute_result"
    }
   ],
   "source": [
    "datasets.append(dataset9['resource'])\n",
    "dataset9['resource']"
   ]
  },
  {
   "cell_type": "markdown",
   "metadata": {},
   "source": [
    "### Data set 10"
   ]
  },
  {
   "cell_type": "code",
   "execution_count": 60,
   "metadata": {},
   "outputs": [
    {
     "data": {
      "text/plain": [
       "True"
      ]
     },
     "execution_count": 60,
     "metadata": {},
     "output_type": "execute_result"
    }
   ],
   "source": [
    "source10 = api.create_source('dataset_deepnet_ensemble/bigml/training_set10.csv')\n",
    "api.ok(source10)"
   ]
  },
  {
   "cell_type": "code",
   "execution_count": 61,
   "metadata": {},
   "outputs": [
    {
     "data": {
      "text/plain": [
       "'source/5dbd869d5299631c8200efbf'"
      ]
     },
     "execution_count": 61,
     "metadata": {},
     "output_type": "execute_result"
    }
   ],
   "source": [
    "sources.append(source10['resource'])\n",
    "source10['resource']"
   ]
  },
  {
   "cell_type": "code",
   "execution_count": 62,
   "metadata": {},
   "outputs": [
    {
     "data": {
      "text/plain": [
       "True"
      ]
     },
     "execution_count": 62,
     "metadata": {},
     "output_type": "execute_result"
    }
   ],
   "source": [
    "dataset10 = api.create_dataset(source10)\n",
    "api.ok(dataset10) "
   ]
  },
  {
   "cell_type": "code",
   "execution_count": 63,
   "metadata": {},
   "outputs": [
    {
     "data": {
      "text/plain": [
       "'dataset/5dbd86a25299631c8200efc2'"
      ]
     },
     "execution_count": 63,
     "metadata": {},
     "output_type": "execute_result"
    }
   ],
   "source": [
    "datasets.append(dataset10['resource'])\n",
    "dataset10['resource']"
   ]
  },
  {
   "cell_type": "markdown",
   "metadata": {},
   "source": [
    "### Data set 11"
   ]
  },
  {
   "cell_type": "code",
   "execution_count": 64,
   "metadata": {},
   "outputs": [
    {
     "data": {
      "text/plain": [
       "True"
      ]
     },
     "execution_count": 64,
     "metadata": {},
     "output_type": "execute_result"
    }
   ],
   "source": [
    "source11 = api.create_source('dataset_deepnet_ensemble/bigml/training_set11.csv')\n",
    "api.ok(source11)"
   ]
  },
  {
   "cell_type": "code",
   "execution_count": 65,
   "metadata": {},
   "outputs": [
    {
     "data": {
      "text/plain": [
       "'source/5dbd8705e47684746800f932'"
      ]
     },
     "execution_count": 65,
     "metadata": {},
     "output_type": "execute_result"
    }
   ],
   "source": [
    "sources.append(source11['resource'])\n",
    "source11['resource']"
   ]
  },
  {
   "cell_type": "code",
   "execution_count": 66,
   "metadata": {},
   "outputs": [
    {
     "data": {
      "text/plain": [
       "True"
      ]
     },
     "execution_count": 66,
     "metadata": {},
     "output_type": "execute_result"
    }
   ],
   "source": [
    "dataset11 = api.create_dataset(source11)\n",
    "api.ok(dataset11)"
   ]
  },
  {
   "cell_type": "code",
   "execution_count": 67,
   "metadata": {},
   "outputs": [
    {
     "data": {
      "text/plain": [
       "'dataset/5dbd870a7811dd055c0014f3'"
      ]
     },
     "execution_count": 67,
     "metadata": {},
     "output_type": "execute_result"
    }
   ],
   "source": [
    "datasets.append(dataset11['resource'])\n",
    "dataset11['resource']"
   ]
  },
  {
   "cell_type": "markdown",
   "metadata": {},
   "source": [
    "### Data set 12"
   ]
  },
  {
   "cell_type": "code",
   "execution_count": 68,
   "metadata": {},
   "outputs": [
    {
     "data": {
      "text/plain": [
       "True"
      ]
     },
     "execution_count": 68,
     "metadata": {},
     "output_type": "execute_result"
    }
   ],
   "source": [
    "source12 = api.create_source('dataset_deepnet_ensemble/bigml/training_set12.csv')\n",
    "api.ok(source12)"
   ]
  },
  {
   "cell_type": "code",
   "execution_count": 69,
   "metadata": {},
   "outputs": [
    {
     "data": {
      "text/plain": [
       "'source/5dbd880d7811dd7f2d00e69d'"
      ]
     },
     "execution_count": 69,
     "metadata": {},
     "output_type": "execute_result"
    }
   ],
   "source": [
    "sources.append(source12['resource'])\n",
    "source12['resource']"
   ]
  },
  {
   "cell_type": "code",
   "execution_count": 70,
   "metadata": {},
   "outputs": [
    {
     "data": {
      "text/plain": [
       "True"
      ]
     },
     "execution_count": 70,
     "metadata": {},
     "output_type": "execute_result"
    }
   ],
   "source": [
    "dataset12 = api.create_dataset(source12)\n",
    "api.ok(dataset12) "
   ]
  },
  {
   "cell_type": "code",
   "execution_count": 71,
   "metadata": {},
   "outputs": [
    {
     "data": {
      "text/plain": [
       "'dataset/5dbd88135299631c8200efc6'"
      ]
     },
     "execution_count": 71,
     "metadata": {},
     "output_type": "execute_result"
    }
   ],
   "source": [
    "datasets.append(dataset12['resource'])\n",
    "dataset12['resource']"
   ]
  },
  {
   "cell_type": "markdown",
   "metadata": {},
   "source": [
    "### Data set 13"
   ]
  },
  {
   "cell_type": "code",
   "execution_count": 72,
   "metadata": {},
   "outputs": [
    {
     "data": {
      "text/plain": [
       "True"
      ]
     },
     "execution_count": 72,
     "metadata": {},
     "output_type": "execute_result"
    }
   ],
   "source": [
    "source13 = api.create_source('dataset_deepnet_ensemble/bigml/training_set13.csv')\n",
    "api.ok(source13)"
   ]
  },
  {
   "cell_type": "code",
   "execution_count": 73,
   "metadata": {},
   "outputs": [
    {
     "data": {
      "text/plain": [
       "'source/5dbd88d1e47684746800f936'"
      ]
     },
     "execution_count": 73,
     "metadata": {},
     "output_type": "execute_result"
    }
   ],
   "source": [
    "sources.append(source13['resource'])\n",
    "source13['resource']"
   ]
  },
  {
   "cell_type": "code",
   "execution_count": 74,
   "metadata": {},
   "outputs": [
    {
     "data": {
      "text/plain": [
       "True"
      ]
     },
     "execution_count": 74,
     "metadata": {},
     "output_type": "execute_result"
    }
   ],
   "source": [
    "dataset13 = api.create_dataset(source13)\n",
    "api.ok(dataset13) "
   ]
  },
  {
   "cell_type": "code",
   "execution_count": 75,
   "metadata": {},
   "outputs": [
    {
     "data": {
      "text/plain": [
       "'dataset/5dbd88e05299631c8200efc9'"
      ]
     },
     "execution_count": 75,
     "metadata": {},
     "output_type": "execute_result"
    }
   ],
   "source": [
    "datasets.append(dataset13['resource'])\n",
    "dataset13['resource']"
   ]
  },
  {
   "cell_type": "markdown",
   "metadata": {},
   "source": [
    "### Data set 14"
   ]
  },
  {
   "cell_type": "code",
   "execution_count": 76,
   "metadata": {},
   "outputs": [
    {
     "data": {
      "text/plain": [
       "True"
      ]
     },
     "execution_count": 76,
     "metadata": {},
     "output_type": "execute_result"
    }
   ],
   "source": [
    "source14 = api.create_source('dataset_deepnet_ensemble/bigml/training_set14.csv')\n",
    "api.ok(source14)"
   ]
  },
  {
   "cell_type": "code",
   "execution_count": 77,
   "metadata": {},
   "outputs": [
    {
     "data": {
      "text/plain": [
       "'source/5dbd897c7811dd7f2d00e6a0'"
      ]
     },
     "execution_count": 77,
     "metadata": {},
     "output_type": "execute_result"
    }
   ],
   "source": [
    "sources.append(source14['resource'])\n",
    "source14['resource']"
   ]
  },
  {
   "cell_type": "code",
   "execution_count": 78,
   "metadata": {},
   "outputs": [
    {
     "data": {
      "text/plain": [
       "True"
      ]
     },
     "execution_count": 78,
     "metadata": {},
     "output_type": "execute_result"
    }
   ],
   "source": [
    "dataset14 = api.create_dataset(source14)\n",
    "api.ok(dataset14) "
   ]
  },
  {
   "cell_type": "code",
   "execution_count": 79,
   "metadata": {},
   "outputs": [
    {
     "data": {
      "text/plain": [
       "'dataset/5dbd89815299631c8200efcd'"
      ]
     },
     "execution_count": 79,
     "metadata": {},
     "output_type": "execute_result"
    }
   ],
   "source": [
    "datasets.append(dataset14['resource'])\n",
    "dataset14['resource']"
   ]
  },
  {
   "cell_type": "markdown",
   "metadata": {},
   "source": [
    "### Data set 15"
   ]
  },
  {
   "cell_type": "code",
   "execution_count": 80,
   "metadata": {},
   "outputs": [
    {
     "data": {
      "text/plain": [
       "True"
      ]
     },
     "execution_count": 80,
     "metadata": {},
     "output_type": "execute_result"
    }
   ],
   "source": [
    "source15 = api.create_source('dataset_deepnet_ensemble/bigml/training_set15.csv')\n",
    "api.ok(source15)"
   ]
  },
  {
   "cell_type": "code",
   "execution_count": 81,
   "metadata": {},
   "outputs": [
    {
     "data": {
      "text/plain": [
       "'source/5dbd89d9e47684746800f939'"
      ]
     },
     "execution_count": 81,
     "metadata": {},
     "output_type": "execute_result"
    }
   ],
   "source": [
    "sources.append(source15['resource'])\n",
    "source15['resource']"
   ]
  },
  {
   "cell_type": "code",
   "execution_count": 82,
   "metadata": {},
   "outputs": [
    {
     "data": {
      "text/plain": [
       "True"
      ]
     },
     "execution_count": 82,
     "metadata": {},
     "output_type": "execute_result"
    }
   ],
   "source": [
    "dataset15 = api.create_dataset(source15)\n",
    "api.ok(dataset15) "
   ]
  },
  {
   "cell_type": "code",
   "execution_count": 83,
   "metadata": {},
   "outputs": [
    {
     "data": {
      "text/plain": [
       "'dataset/5dbd89e37811dd7f2d00e6a3'"
      ]
     },
     "execution_count": 83,
     "metadata": {},
     "output_type": "execute_result"
    }
   ],
   "source": [
    "datasets.append(dataset15['resource'])\n",
    "dataset15['resource']"
   ]
  },
  {
   "cell_type": "markdown",
   "metadata": {},
   "source": [
    "### Data set 16"
   ]
  },
  {
   "cell_type": "code",
   "execution_count": 84,
   "metadata": {},
   "outputs": [
    {
     "data": {
      "text/plain": [
       "True"
      ]
     },
     "execution_count": 84,
     "metadata": {},
     "output_type": "execute_result"
    }
   ],
   "source": [
    "source16 = api.create_source('dataset_deepnet_ensemble/bigml/training_set16.csv')\n",
    "api.ok(source16)"
   ]
  },
  {
   "cell_type": "code",
   "execution_count": 85,
   "metadata": {},
   "outputs": [
    {
     "data": {
      "text/plain": [
       "'source/5dbd8a44e47684746800f93c'"
      ]
     },
     "execution_count": 85,
     "metadata": {},
     "output_type": "execute_result"
    }
   ],
   "source": [
    "sources.append(source16['resource'])\n",
    "source16['resource']"
   ]
  },
  {
   "cell_type": "code",
   "execution_count": 88,
   "metadata": {},
   "outputs": [
    {
     "data": {
      "text/plain": [
       "True"
      ]
     },
     "execution_count": 88,
     "metadata": {},
     "output_type": "execute_result"
    }
   ],
   "source": [
    "dataset16 = api.create_dataset(source16)\n",
    "api.ok(dataset16) "
   ]
  },
  {
   "cell_type": "code",
   "execution_count": 89,
   "metadata": {},
   "outputs": [
    {
     "data": {
      "text/plain": [
       "'dataset/5dbd8b247811dd7f2d00e6a9'"
      ]
     },
     "execution_count": 89,
     "metadata": {},
     "output_type": "execute_result"
    }
   ],
   "source": [
    "datasets.append(dataset16['resource'])\n",
    "dataset16['resource']"
   ]
  },
  {
   "cell_type": "markdown",
   "metadata": {},
   "source": [
    "### Data set 17"
   ]
  },
  {
   "cell_type": "code",
   "execution_count": 90,
   "metadata": {},
   "outputs": [
    {
     "data": {
      "text/plain": [
       "True"
      ]
     },
     "execution_count": 90,
     "metadata": {},
     "output_type": "execute_result"
    }
   ],
   "source": [
    "source17 = api.create_source('dataset_deepnet_ensemble/bigml/training_set17.csv')\n",
    "api.ok(source17)"
   ]
  },
  {
   "cell_type": "code",
   "execution_count": 91,
   "metadata": {},
   "outputs": [
    {
     "data": {
      "text/plain": [
       "'source/5dbd8b8d7811dd7f2d00e6ac'"
      ]
     },
     "execution_count": 91,
     "metadata": {},
     "output_type": "execute_result"
    }
   ],
   "source": [
    "sources.append(source17['resource'])\n",
    "source17['resource']"
   ]
  },
  {
   "cell_type": "code",
   "execution_count": 93,
   "metadata": {},
   "outputs": [
    {
     "data": {
      "text/plain": [
       "True"
      ]
     },
     "execution_count": 93,
     "metadata": {},
     "output_type": "execute_result"
    }
   ],
   "source": [
    "dataset17 = api.create_dataset(source17)\n",
    "api.ok(dataset17) "
   ]
  },
  {
   "cell_type": "code",
   "execution_count": 94,
   "metadata": {},
   "outputs": [
    {
     "data": {
      "text/plain": [
       "'dataset/5dbd8c2f5299631c8200efd3'"
      ]
     },
     "execution_count": 94,
     "metadata": {},
     "output_type": "execute_result"
    }
   ],
   "source": [
    "datasets.append(dataset17['resource'])\n",
    "dataset17['resource']"
   ]
  },
  {
   "cell_type": "markdown",
   "metadata": {},
   "source": [
    "### Data set 18"
   ]
  },
  {
   "cell_type": "code",
   "execution_count": 95,
   "metadata": {},
   "outputs": [
    {
     "data": {
      "text/plain": [
       "True"
      ]
     },
     "execution_count": 95,
     "metadata": {},
     "output_type": "execute_result"
    }
   ],
   "source": [
    "source18 = api.create_source('dataset_deepnet_ensemble/bigml/training_set18.csv')\n",
    "api.ok(source18)"
   ]
  },
  {
   "cell_type": "code",
   "execution_count": 96,
   "metadata": {},
   "outputs": [
    {
     "data": {
      "text/plain": [
       "'source/5dbd8c65e47684746800f93f'"
      ]
     },
     "execution_count": 96,
     "metadata": {},
     "output_type": "execute_result"
    }
   ],
   "source": [
    "sources.append(source18['resource'])\n",
    "source18['resource']"
   ]
  },
  {
   "cell_type": "code",
   "execution_count": 97,
   "metadata": {},
   "outputs": [
    {
     "data": {
      "text/plain": [
       "True"
      ]
     },
     "execution_count": 97,
     "metadata": {},
     "output_type": "execute_result"
    }
   ],
   "source": [
    "dataset18 = api.create_dataset(source18)\n",
    "api.ok(dataset18) "
   ]
  },
  {
   "cell_type": "code",
   "execution_count": 98,
   "metadata": {},
   "outputs": [
    {
     "data": {
      "text/plain": [
       "'dataset/5dbd8cab5299631c8200efd6'"
      ]
     },
     "execution_count": 98,
     "metadata": {},
     "output_type": "execute_result"
    }
   ],
   "source": [
    "datasets.append(dataset18['resource'])\n",
    "dataset18['resource']"
   ]
  },
  {
   "cell_type": "markdown",
   "metadata": {},
   "source": [
    "### Data set 19"
   ]
  },
  {
   "cell_type": "code",
   "execution_count": 99,
   "metadata": {},
   "outputs": [
    {
     "data": {
      "text/plain": [
       "True"
      ]
     },
     "execution_count": 99,
     "metadata": {},
     "output_type": "execute_result"
    }
   ],
   "source": [
    "source19 = api.create_source('dataset_deepnet_ensemble/bigml/training_set19.csv')\n",
    "api.ok(source19)"
   ]
  },
  {
   "cell_type": "code",
   "execution_count": 100,
   "metadata": {},
   "outputs": [
    {
     "data": {
      "text/plain": [
       "'source/5dbd8d975299631c8200efd9'"
      ]
     },
     "execution_count": 100,
     "metadata": {},
     "output_type": "execute_result"
    }
   ],
   "source": [
    "sources.append(source19['resource'])\n",
    "source19['resource']"
   ]
  },
  {
   "cell_type": "code",
   "execution_count": 101,
   "metadata": {},
   "outputs": [
    {
     "data": {
      "text/plain": [
       "True"
      ]
     },
     "execution_count": 101,
     "metadata": {},
     "output_type": "execute_result"
    }
   ],
   "source": [
    "dataset19 = api.create_dataset(source19)\n",
    "api.ok(dataset19) "
   ]
  },
  {
   "cell_type": "code",
   "execution_count": 102,
   "metadata": {},
   "outputs": [
    {
     "data": {
      "text/plain": [
       "'dataset/5dbd8dc95299631c8200efdc'"
      ]
     },
     "execution_count": 102,
     "metadata": {},
     "output_type": "execute_result"
    }
   ],
   "source": [
    "datasets.append(dataset19['resource'])\n",
    "dataset19['resource']"
   ]
  },
  {
   "cell_type": "markdown",
   "metadata": {},
   "source": [
    "### Data set 20"
   ]
  },
  {
   "cell_type": "code",
   "execution_count": 103,
   "metadata": {},
   "outputs": [
    {
     "data": {
      "text/plain": [
       "True"
      ]
     },
     "execution_count": 103,
     "metadata": {},
     "output_type": "execute_result"
    }
   ],
   "source": [
    "source20 = api.create_source('dataset_deepnet_ensemble/bigml/training_set20.csv')\n",
    "api.ok(source20)"
   ]
  },
  {
   "cell_type": "code",
   "execution_count": 104,
   "metadata": {},
   "outputs": [
    {
     "data": {
      "text/plain": [
       "'source/5dbd8e9e5299631c8200efdf'"
      ]
     },
     "execution_count": 104,
     "metadata": {},
     "output_type": "execute_result"
    }
   ],
   "source": [
    "sources.append(source20['resource'])\n",
    "source20['resource']"
   ]
  },
  {
   "cell_type": "code",
   "execution_count": 105,
   "metadata": {},
   "outputs": [
    {
     "data": {
      "text/plain": [
       "True"
      ]
     },
     "execution_count": 105,
     "metadata": {},
     "output_type": "execute_result"
    }
   ],
   "source": [
    "dataset20 = api.create_dataset(source20)\n",
    "api.ok(dataset20) "
   ]
  },
  {
   "cell_type": "code",
   "execution_count": 106,
   "metadata": {},
   "outputs": [
    {
     "data": {
      "text/plain": [
       "'dataset/5dbd8f465299631c8200efe2'"
      ]
     },
     "execution_count": 106,
     "metadata": {},
     "output_type": "execute_result"
    }
   ],
   "source": [
    "datasets.append(dataset20['resource'])\n",
    "dataset20['resource']"
   ]
  },
  {
   "cell_type": "markdown",
   "metadata": {},
   "source": [
    "## We train Ensemble"
   ]
  },
  {
   "cell_type": "code",
   "execution_count": 107,
   "metadata": {},
   "outputs": [],
   "source": [
    "ensembles = []"
   ]
  },
  {
   "cell_type": "markdown",
   "metadata": {},
   "source": [
    "### Ensemble 1"
   ]
  },
  {
   "cell_type": "code",
   "execution_count": 108,
   "metadata": {},
   "outputs": [
    {
     "data": {
      "text/plain": [
       "True"
      ]
     },
     "execution_count": 108,
     "metadata": {},
     "output_type": "execute_result"
    }
   ],
   "source": [
    "ensemble1 = api.create_ensemble(dataset1)\n",
    "api.ok(ensemble1)"
   ]
  },
  {
   "cell_type": "code",
   "execution_count": 151,
   "metadata": {},
   "outputs": [
    {
     "data": {
      "text/plain": [
       "'ensemble/5dbd8f70e47684746800f942'"
      ]
     },
     "execution_count": 151,
     "metadata": {},
     "output_type": "execute_result"
    }
   ],
   "source": [
    "ensembles.append(ensemble1['resource'])\n",
    "ensemble1['resource']"
   ]
  },
  {
   "cell_type": "markdown",
   "metadata": {},
   "source": [
    "### Ensemble 2"
   ]
  },
  {
   "cell_type": "code",
   "execution_count": 110,
   "metadata": {},
   "outputs": [
    {
     "data": {
      "text/plain": [
       "True"
      ]
     },
     "execution_count": 110,
     "metadata": {},
     "output_type": "execute_result"
    }
   ],
   "source": [
    "ensemble2 = api.create_ensemble(dataset2)\n",
    "api.ok(ensemble2)"
   ]
  },
  {
   "cell_type": "code",
   "execution_count": 152,
   "metadata": {},
   "outputs": [
    {
     "data": {
      "text/plain": [
       "'ensemble/5dbd8f875299631c8200efe5'"
      ]
     },
     "execution_count": 152,
     "metadata": {},
     "output_type": "execute_result"
    }
   ],
   "source": [
    "ensembles.append(ensemble2['resource'])\n",
    "ensemble2['resource']"
   ]
  },
  {
   "cell_type": "markdown",
   "metadata": {},
   "source": [
    "### Ensemble 3"
   ]
  },
  {
   "cell_type": "code",
   "execution_count": 112,
   "metadata": {},
   "outputs": [
    {
     "data": {
      "text/plain": [
       "True"
      ]
     },
     "execution_count": 112,
     "metadata": {},
     "output_type": "execute_result"
    }
   ],
   "source": [
    "ensemble3 = api.create_ensemble(dataset3)\n",
    "api.ok(ensemble3)"
   ]
  },
  {
   "cell_type": "code",
   "execution_count": 153,
   "metadata": {},
   "outputs": [
    {
     "data": {
      "text/plain": [
       "'ensemble/5dbd8f977811dd7f2d00e6af'"
      ]
     },
     "execution_count": 153,
     "metadata": {},
     "output_type": "execute_result"
    }
   ],
   "source": [
    "ensembles.append(ensemble3['resource'])\n",
    "ensemble3['resource']"
   ]
  },
  {
   "cell_type": "markdown",
   "metadata": {},
   "source": [
    "### Ensemble 4"
   ]
  },
  {
   "cell_type": "code",
   "execution_count": 114,
   "metadata": {},
   "outputs": [
    {
     "data": {
      "text/plain": [
       "True"
      ]
     },
     "execution_count": 114,
     "metadata": {},
     "output_type": "execute_result"
    }
   ],
   "source": [
    "ensemble4 = api.create_ensemble(dataset4)\n",
    "api.ok(ensemble4)"
   ]
  },
  {
   "cell_type": "code",
   "execution_count": 154,
   "metadata": {},
   "outputs": [
    {
     "data": {
      "text/plain": [
       "'ensemble/5dbd8ff75299631c8200efe8'"
      ]
     },
     "execution_count": 154,
     "metadata": {},
     "output_type": "execute_result"
    }
   ],
   "source": [
    "ensembles.append(ensemble4['resource'])\n",
    "ensemble4['resource']"
   ]
  },
  {
   "cell_type": "markdown",
   "metadata": {},
   "source": [
    "### Ensemble 5"
   ]
  },
  {
   "cell_type": "code",
   "execution_count": 116,
   "metadata": {},
   "outputs": [
    {
     "data": {
      "text/plain": [
       "True"
      ]
     },
     "execution_count": 116,
     "metadata": {},
     "output_type": "execute_result"
    }
   ],
   "source": [
    "ensemble5 = api.create_ensemble(dataset5)\n",
    "api.ok(ensemble5)"
   ]
  },
  {
   "cell_type": "code",
   "execution_count": 155,
   "metadata": {},
   "outputs": [
    {
     "data": {
      "text/plain": [
       "'ensemble/5dbd900b5299631c8200efeb'"
      ]
     },
     "execution_count": 155,
     "metadata": {},
     "output_type": "execute_result"
    }
   ],
   "source": [
    "ensembles.append(ensemble5['resource'])\n",
    "ensemble5['resource']"
   ]
  },
  {
   "cell_type": "markdown",
   "metadata": {},
   "source": [
    "### Ensemble 6"
   ]
  },
  {
   "cell_type": "code",
   "execution_count": 118,
   "metadata": {},
   "outputs": [
    {
     "data": {
      "text/plain": [
       "True"
      ]
     },
     "execution_count": 118,
     "metadata": {},
     "output_type": "execute_result"
    }
   ],
   "source": [
    "ensemble6 = api.create_ensemble(dataset6)\n",
    "api.ok(ensemble6)"
   ]
  },
  {
   "cell_type": "code",
   "execution_count": 156,
   "metadata": {},
   "outputs": [
    {
     "data": {
      "text/plain": [
       "'ensemble/5dbd903b7811dd7f2d00e6b2'"
      ]
     },
     "execution_count": 156,
     "metadata": {},
     "output_type": "execute_result"
    }
   ],
   "source": [
    "ensembles.append(ensemble6['resource'])\n",
    "ensemble6['resource']"
   ]
  },
  {
   "cell_type": "markdown",
   "metadata": {},
   "source": [
    "### Ensemble 7"
   ]
  },
  {
   "cell_type": "code",
   "execution_count": 120,
   "metadata": {},
   "outputs": [
    {
     "data": {
      "text/plain": [
       "True"
      ]
     },
     "execution_count": 120,
     "metadata": {},
     "output_type": "execute_result"
    }
   ],
   "source": [
    "ensemble7 = api.create_ensemble(dataset7)\n",
    "api.ok(ensemble7)"
   ]
  },
  {
   "cell_type": "code",
   "execution_count": 157,
   "metadata": {},
   "outputs": [
    {
     "data": {
      "text/plain": [
       "'ensemble/5dbd904c5299631c8200efee'"
      ]
     },
     "execution_count": 157,
     "metadata": {},
     "output_type": "execute_result"
    }
   ],
   "source": [
    "ensembles.append(ensemble7['resource'])\n",
    "ensemble7['resource']"
   ]
  },
  {
   "cell_type": "markdown",
   "metadata": {},
   "source": [
    "### Ensemble 8"
   ]
  },
  {
   "cell_type": "code",
   "execution_count": 122,
   "metadata": {},
   "outputs": [
    {
     "data": {
      "text/plain": [
       "True"
      ]
     },
     "execution_count": 122,
     "metadata": {},
     "output_type": "execute_result"
    }
   ],
   "source": [
    "ensemble8 = api.create_ensemble(dataset8)\n",
    "api.ok(ensemble8)"
   ]
  },
  {
   "cell_type": "code",
   "execution_count": 158,
   "metadata": {},
   "outputs": [
    {
     "data": {
      "text/plain": [
       "'ensemble/5dbd90dae47684746800f945'"
      ]
     },
     "execution_count": 158,
     "metadata": {},
     "output_type": "execute_result"
    }
   ],
   "source": [
    "ensembles.append(ensemble8['resource'])\n",
    "ensemble8['resource']"
   ]
  },
  {
   "cell_type": "markdown",
   "metadata": {},
   "source": [
    "### Ensemble 9"
   ]
  },
  {
   "cell_type": "code",
   "execution_count": 124,
   "metadata": {},
   "outputs": [
    {
     "data": {
      "text/plain": [
       "True"
      ]
     },
     "execution_count": 124,
     "metadata": {},
     "output_type": "execute_result"
    }
   ],
   "source": [
    "ensemble9 = api.create_ensemble(dataset9)\n",
    "api.ok(ensemble9)"
   ]
  },
  {
   "cell_type": "code",
   "execution_count": 159,
   "metadata": {},
   "outputs": [
    {
     "data": {
      "text/plain": [
       "'ensemble/5dbd90f0e47684746800f948'"
      ]
     },
     "execution_count": 159,
     "metadata": {},
     "output_type": "execute_result"
    }
   ],
   "source": [
    "ensembles.append(ensemble9['resource'])\n",
    "ensemble9['resource']"
   ]
  },
  {
   "cell_type": "markdown",
   "metadata": {},
   "source": [
    "### Ensemble 10"
   ]
  },
  {
   "cell_type": "code",
   "execution_count": 126,
   "metadata": {},
   "outputs": [
    {
     "data": {
      "text/plain": [
       "True"
      ]
     },
     "execution_count": 126,
     "metadata": {},
     "output_type": "execute_result"
    }
   ],
   "source": [
    "ensemble10 = api.create_ensemble(dataset10)\n",
    "api.ok(ensemble10)"
   ]
  },
  {
   "cell_type": "code",
   "execution_count": 160,
   "metadata": {},
   "outputs": [
    {
     "data": {
      "text/plain": [
       "'ensemble/5dbd92257811dd7f2d00e6b5'"
      ]
     },
     "execution_count": 160,
     "metadata": {},
     "output_type": "execute_result"
    }
   ],
   "source": [
    "ensembles.append(ensemble10['resource'])\n",
    "ensemble10['resource']"
   ]
  },
  {
   "cell_type": "markdown",
   "metadata": {},
   "source": [
    "### Ensemble 11"
   ]
  },
  {
   "cell_type": "code",
   "execution_count": 128,
   "metadata": {},
   "outputs": [
    {
     "data": {
      "text/plain": [
       "True"
      ]
     },
     "execution_count": 128,
     "metadata": {},
     "output_type": "execute_result"
    }
   ],
   "source": [
    "ensemble11 = api.create_ensemble(dataset11)\n",
    "api.ok(ensemble11)"
   ]
  },
  {
   "cell_type": "code",
   "execution_count": 161,
   "metadata": {},
   "outputs": [
    {
     "data": {
      "text/plain": [
       "'ensemble/5dbd9240e47684746800f94b'"
      ]
     },
     "execution_count": 161,
     "metadata": {},
     "output_type": "execute_result"
    }
   ],
   "source": [
    "ensembles.append(ensemble11['resource'])\n",
    "ensemble11['resource']"
   ]
  },
  {
   "cell_type": "markdown",
   "metadata": {},
   "source": [
    "### Ensemble 12"
   ]
  },
  {
   "cell_type": "code",
   "execution_count": 130,
   "metadata": {},
   "outputs": [
    {
     "data": {
      "text/plain": [
       "True"
      ]
     },
     "execution_count": 130,
     "metadata": {},
     "output_type": "execute_result"
    }
   ],
   "source": [
    "ensemble12 = api.create_ensemble(dataset12)\n",
    "api.ok(ensemble12)"
   ]
  },
  {
   "cell_type": "code",
   "execution_count": 162,
   "metadata": {},
   "outputs": [
    {
     "data": {
      "text/plain": [
       "'ensemble/5dbd9272e47684746800f94e'"
      ]
     },
     "execution_count": 162,
     "metadata": {},
     "output_type": "execute_result"
    }
   ],
   "source": [
    "ensembles.append(ensemble12['resource'])\n",
    "ensemble12['resource']"
   ]
  },
  {
   "cell_type": "markdown",
   "metadata": {},
   "source": [
    "### Ensemble 13"
   ]
  },
  {
   "cell_type": "code",
   "execution_count": 132,
   "metadata": {},
   "outputs": [
    {
     "data": {
      "text/plain": [
       "True"
      ]
     },
     "execution_count": 132,
     "metadata": {},
     "output_type": "execute_result"
    }
   ],
   "source": [
    "ensemble13 = api.create_ensemble(dataset13)\n",
    "api.ok(ensemble13)"
   ]
  },
  {
   "cell_type": "code",
   "execution_count": 163,
   "metadata": {},
   "outputs": [
    {
     "data": {
      "text/plain": [
       "'ensemble/5dbd928be47684746800f951'"
      ]
     },
     "execution_count": 163,
     "metadata": {},
     "output_type": "execute_result"
    }
   ],
   "source": [
    "ensembles.append(ensemble13['resource'])\n",
    "ensemble13['resource']"
   ]
  },
  {
   "cell_type": "markdown",
   "metadata": {},
   "source": [
    "### Ensemble 14"
   ]
  },
  {
   "cell_type": "code",
   "execution_count": 134,
   "metadata": {},
   "outputs": [
    {
     "data": {
      "text/plain": [
       "True"
      ]
     },
     "execution_count": 134,
     "metadata": {},
     "output_type": "execute_result"
    }
   ],
   "source": [
    "ensemble14 = api.create_ensemble(dataset14)\n",
    "api.ok(ensemble14)"
   ]
  },
  {
   "cell_type": "code",
   "execution_count": 164,
   "metadata": {},
   "outputs": [
    {
     "data": {
      "text/plain": [
       "'ensemble/5dbd93435299631c8200eff1'"
      ]
     },
     "execution_count": 164,
     "metadata": {},
     "output_type": "execute_result"
    }
   ],
   "source": [
    "ensembles.append(ensemble14['resource'])\n",
    "ensemble14['resource']"
   ]
  },
  {
   "cell_type": "markdown",
   "metadata": {},
   "source": [
    "### Ensemble 15"
   ]
  },
  {
   "cell_type": "code",
   "execution_count": 136,
   "metadata": {},
   "outputs": [
    {
     "data": {
      "text/plain": [
       "True"
      ]
     },
     "execution_count": 136,
     "metadata": {},
     "output_type": "execute_result"
    }
   ],
   "source": [
    "ensemble15 = api.create_ensemble(dataset15)\n",
    "api.ok(ensemble15)"
   ]
  },
  {
   "cell_type": "code",
   "execution_count": 165,
   "metadata": {},
   "outputs": [
    {
     "data": {
      "text/plain": [
       "'ensemble/5dbd935de47684749e00101c'"
      ]
     },
     "execution_count": 165,
     "metadata": {},
     "output_type": "execute_result"
    }
   ],
   "source": [
    "ensembles.append(ensemble15['resource'])\n",
    "ensemble15['resource']"
   ]
  },
  {
   "cell_type": "markdown",
   "metadata": {},
   "source": [
    "### Ensemble 16"
   ]
  },
  {
   "cell_type": "code",
   "execution_count": 138,
   "metadata": {},
   "outputs": [
    {
     "data": {
      "text/plain": [
       "True"
      ]
     },
     "execution_count": 138,
     "metadata": {},
     "output_type": "execute_result"
    }
   ],
   "source": [
    "ensemble16 = api.create_ensemble(dataset16)\n",
    "api.ok(ensemble16)"
   ]
  },
  {
   "cell_type": "code",
   "execution_count": 166,
   "metadata": {},
   "outputs": [
    {
     "data": {
      "text/plain": [
       "'ensemble/5dbd939f7811dd7f2d00e6b8'"
      ]
     },
     "execution_count": 166,
     "metadata": {},
     "output_type": "execute_result"
    }
   ],
   "source": [
    "ensembles.append(ensemble16['resource'])\n",
    "ensemble16['resource']"
   ]
  },
  {
   "cell_type": "markdown",
   "metadata": {},
   "source": [
    "### Ensemble 17"
   ]
  },
  {
   "cell_type": "code",
   "execution_count": 140,
   "metadata": {},
   "outputs": [
    {
     "data": {
      "text/plain": [
       "True"
      ]
     },
     "execution_count": 140,
     "metadata": {},
     "output_type": "execute_result"
    }
   ],
   "source": [
    "ensemble17 = api.create_ensemble(dataset17)\n",
    "api.ok(ensemble17)"
   ]
  },
  {
   "cell_type": "code",
   "execution_count": 167,
   "metadata": {},
   "outputs": [
    {
     "data": {
      "text/plain": [
       "'ensemble/5dbd93be7811dd7f2d00e6bb'"
      ]
     },
     "execution_count": 167,
     "metadata": {},
     "output_type": "execute_result"
    }
   ],
   "source": [
    "ensembles.append(ensemble17['resource'])\n",
    "ensemble17['resource']"
   ]
  },
  {
   "cell_type": "markdown",
   "metadata": {},
   "source": [
    "### Ensemble 18"
   ]
  },
  {
   "cell_type": "code",
   "execution_count": 142,
   "metadata": {},
   "outputs": [
    {
     "data": {
      "text/plain": [
       "True"
      ]
     },
     "execution_count": 142,
     "metadata": {},
     "output_type": "execute_result"
    }
   ],
   "source": [
    "ensemble18 = api.create_ensemble(dataset18)\n",
    "api.ok(ensemble18)"
   ]
  },
  {
   "cell_type": "code",
   "execution_count": 168,
   "metadata": {},
   "outputs": [
    {
     "data": {
      "text/plain": [
       "'ensemble/5dbd93f25299631c8200eff4'"
      ]
     },
     "execution_count": 168,
     "metadata": {},
     "output_type": "execute_result"
    }
   ],
   "source": [
    "ensembles.append(ensemble18['resource'])\n",
    "ensemble18['resource']"
   ]
  },
  {
   "cell_type": "markdown",
   "metadata": {},
   "source": [
    "### Ensemble 19"
   ]
  },
  {
   "cell_type": "code",
   "execution_count": 144,
   "metadata": {},
   "outputs": [
    {
     "data": {
      "text/plain": [
       "True"
      ]
     },
     "execution_count": 144,
     "metadata": {},
     "output_type": "execute_result"
    }
   ],
   "source": [
    "ensemble19 = api.create_ensemble(dataset19)\n",
    "api.ok(ensemble19)"
   ]
  },
  {
   "cell_type": "code",
   "execution_count": 169,
   "metadata": {},
   "outputs": [
    {
     "data": {
      "text/plain": [
       "'ensemble/5dbd94135299631c8200eff7'"
      ]
     },
     "execution_count": 169,
     "metadata": {},
     "output_type": "execute_result"
    }
   ],
   "source": [
    "ensembles.append(ensemble19['resource'])\n",
    "ensemble19['resource']"
   ]
  },
  {
   "cell_type": "markdown",
   "metadata": {},
   "source": [
    "### Ensemble 20"
   ]
  },
  {
   "cell_type": "code",
   "execution_count": 146,
   "metadata": {},
   "outputs": [
    {
     "data": {
      "text/plain": [
       "True"
      ]
     },
     "execution_count": 146,
     "metadata": {},
     "output_type": "execute_result"
    }
   ],
   "source": [
    "ensemble20 = api.create_ensemble(dataset20)\n",
    "api.ok(ensemble20)"
   ]
  },
  {
   "cell_type": "code",
   "execution_count": 170,
   "metadata": {},
   "outputs": [
    {
     "data": {
      "text/plain": [
       "'ensemble/5dbd948fe47684746800f954'"
      ]
     },
     "execution_count": 170,
     "metadata": {},
     "output_type": "execute_result"
    }
   ],
   "source": [
    "ensembles.append(ensemble20['resource'])\n",
    "ensemble20['resource']"
   ]
  },
  {
   "cell_type": "code",
   "execution_count": 171,
   "metadata": {},
   "outputs": [
    {
     "data": {
      "text/plain": [
       "['ensemble/5dbd8f70e47684746800f942',\n",
       " 'ensemble/5dbd8f875299631c8200efe5',\n",
       " 'ensemble/5dbd8f977811dd7f2d00e6af',\n",
       " 'ensemble/5dbd8ff75299631c8200efe8',\n",
       " 'ensemble/5dbd900b5299631c8200efeb',\n",
       " 'ensemble/5dbd903b7811dd7f2d00e6b2',\n",
       " 'ensemble/5dbd904c5299631c8200efee',\n",
       " 'ensemble/5dbd90dae47684746800f945',\n",
       " 'ensemble/5dbd90f0e47684746800f948',\n",
       " 'ensemble/5dbd92257811dd7f2d00e6b5',\n",
       " 'ensemble/5dbd9240e47684746800f94b',\n",
       " 'ensemble/5dbd9272e47684746800f94e',\n",
       " 'ensemble/5dbd928be47684746800f951',\n",
       " 'ensemble/5dbd93435299631c8200eff1',\n",
       " 'ensemble/5dbd935de47684749e00101c',\n",
       " 'ensemble/5dbd939f7811dd7f2d00e6b8',\n",
       " 'ensemble/5dbd93be7811dd7f2d00e6bb',\n",
       " 'ensemble/5dbd93f25299631c8200eff4',\n",
       " 'ensemble/5dbd94135299631c8200eff7',\n",
       " 'ensemble/5dbd948fe47684746800f954']"
      ]
     },
     "execution_count": 171,
     "metadata": {},
     "output_type": "execute_result"
    }
   ],
   "source": [
    "ensembles"
   ]
  },
  {
   "cell_type": "markdown",
   "metadata": {},
   "source": [
    "## We train DeeppNet"
   ]
  },
  {
   "cell_type": "code",
   "execution_count": 173,
   "metadata": {},
   "outputs": [],
   "source": [
    "deepnets = []"
   ]
  },
  {
   "cell_type": "markdown",
   "metadata": {},
   "source": [
    "### DeepNet 1"
   ]
  },
  {
   "cell_type": "code",
   "execution_count": 174,
   "metadata": {},
   "outputs": [
    {
     "data": {
      "text/plain": [
       "True"
      ]
     },
     "execution_count": 174,
     "metadata": {},
     "output_type": "execute_result"
    }
   ],
   "source": [
    "deepnet1 = api.create_deepnet(dataset1)\n",
    "api.ok(deepnet1)"
   ]
  },
  {
   "cell_type": "code",
   "execution_count": 175,
   "metadata": {},
   "outputs": [
    {
     "data": {
      "text/plain": [
       "'deepnet/5dbd974b7811dd7f2d00e6be'"
      ]
     },
     "execution_count": 175,
     "metadata": {},
     "output_type": "execute_result"
    }
   ],
   "source": [
    "deepnets.append(deepnet1['resource'])\n",
    "deepnet1['resource']"
   ]
  },
  {
   "cell_type": "markdown",
   "metadata": {},
   "source": [
    "### DeepNet 2"
   ]
  },
  {
   "cell_type": "code",
   "execution_count": 176,
   "metadata": {
    "scrolled": true
   },
   "outputs": [
    {
     "data": {
      "text/plain": [
       "True"
      ]
     },
     "execution_count": 176,
     "metadata": {},
     "output_type": "execute_result"
    }
   ],
   "source": [
    "deepnet2 = api.create_deepnet(dataset2)\n",
    "api.ok(deepnet2)"
   ]
  },
  {
   "cell_type": "code",
   "execution_count": 177,
   "metadata": {},
   "outputs": [
    {
     "data": {
      "text/plain": [
       "'deepnet/5dbd97a47811dd7f2d00e6c1'"
      ]
     },
     "execution_count": 177,
     "metadata": {},
     "output_type": "execute_result"
    }
   ],
   "source": [
    "deepnets.append(deepnet2['resource'])\n",
    "deepnet2['resource']"
   ]
  },
  {
   "cell_type": "markdown",
   "metadata": {},
   "source": [
    "### DeepNet 3"
   ]
  },
  {
   "cell_type": "code",
   "execution_count": 178,
   "metadata": {},
   "outputs": [
    {
     "data": {
      "text/plain": [
       "True"
      ]
     },
     "execution_count": 178,
     "metadata": {},
     "output_type": "execute_result"
    }
   ],
   "source": [
    "deepnet3 = api.create_deepnet(dataset3)\n",
    "api.ok(deepnet3)"
   ]
  },
  {
   "cell_type": "code",
   "execution_count": 179,
   "metadata": {},
   "outputs": [
    {
     "data": {
      "text/plain": [
       "'deepnet/5dbd97eb7811dd7f2d00e6c5'"
      ]
     },
     "execution_count": 179,
     "metadata": {},
     "output_type": "execute_result"
    }
   ],
   "source": [
    "deepnets.append(deepnet3['resource'])\n",
    "deepnet3['resource']"
   ]
  },
  {
   "cell_type": "markdown",
   "metadata": {},
   "source": [
    "### DeepNet 4"
   ]
  },
  {
   "cell_type": "code",
   "execution_count": 180,
   "metadata": {},
   "outputs": [
    {
     "data": {
      "text/plain": [
       "True"
      ]
     },
     "execution_count": 180,
     "metadata": {},
     "output_type": "execute_result"
    }
   ],
   "source": [
    "deepnet4 = api.create_deepnet(dataset4)\n",
    "api.ok(deepnet4)"
   ]
  },
  {
   "cell_type": "code",
   "execution_count": 181,
   "metadata": {},
   "outputs": [
    {
     "data": {
      "text/plain": [
       "'deepnet/5dbd984f5299631c8200effc'"
      ]
     },
     "execution_count": 181,
     "metadata": {},
     "output_type": "execute_result"
    }
   ],
   "source": [
    "deepnets.append(deepnet4['resource'])\n",
    "deepnet4['resource']"
   ]
  },
  {
   "cell_type": "markdown",
   "metadata": {},
   "source": [
    "### DeepNet 5"
   ]
  },
  {
   "cell_type": "code",
   "execution_count": 182,
   "metadata": {},
   "outputs": [
    {
     "data": {
      "text/plain": [
       "True"
      ]
     },
     "execution_count": 182,
     "metadata": {},
     "output_type": "execute_result"
    }
   ],
   "source": [
    "deepnet5 = api.create_deepnet(dataset5)\n",
    "api.ok(deepnet5)"
   ]
  },
  {
   "cell_type": "code",
   "execution_count": 183,
   "metadata": {},
   "outputs": [
    {
     "data": {
      "text/plain": [
       "'deepnet/5dbd98b47811dd7f2d00e6c8'"
      ]
     },
     "execution_count": 183,
     "metadata": {},
     "output_type": "execute_result"
    }
   ],
   "source": [
    "deepnets.append(deepnet5['resource'])\n",
    "deepnet5['resource']"
   ]
  },
  {
   "cell_type": "markdown",
   "metadata": {},
   "source": [
    "### DeepNet 6"
   ]
  },
  {
   "cell_type": "code",
   "execution_count": 184,
   "metadata": {},
   "outputs": [
    {
     "data": {
      "text/plain": [
       "True"
      ]
     },
     "execution_count": 184,
     "metadata": {},
     "output_type": "execute_result"
    }
   ],
   "source": [
    "deepnet6 = api.create_deepnet(dataset6)\n",
    "api.ok(deepnet6)"
   ]
  },
  {
   "cell_type": "code",
   "execution_count": 185,
   "metadata": {},
   "outputs": [
    {
     "data": {
      "text/plain": [
       "'deepnet/5dbd991f7811dd055c0014f6'"
      ]
     },
     "execution_count": 185,
     "metadata": {},
     "output_type": "execute_result"
    }
   ],
   "source": [
    "deepnets.append(deepnet6['resource'])\n",
    "deepnet6['resource']"
   ]
  },
  {
   "cell_type": "markdown",
   "metadata": {},
   "source": [
    "### DeepNet 7"
   ]
  },
  {
   "cell_type": "code",
   "execution_count": 186,
   "metadata": {},
   "outputs": [
    {
     "data": {
      "text/plain": [
       "True"
      ]
     },
     "execution_count": 186,
     "metadata": {},
     "output_type": "execute_result"
    }
   ],
   "source": [
    "deepnet7 = api.create_deepnet(dataset7)\n",
    "api.ok(deepnet7)"
   ]
  },
  {
   "cell_type": "code",
   "execution_count": 187,
   "metadata": {},
   "outputs": [
    {
     "data": {
      "text/plain": [
       "'deepnet/5dbd9973e47684746800f958'"
      ]
     },
     "execution_count": 187,
     "metadata": {},
     "output_type": "execute_result"
    }
   ],
   "source": [
    "deepnets.append(deepnet7['resource'])\n",
    "deepnet7['resource']"
   ]
  },
  {
   "cell_type": "markdown",
   "metadata": {},
   "source": [
    "### DeepNet 8"
   ]
  },
  {
   "cell_type": "code",
   "execution_count": 188,
   "metadata": {},
   "outputs": [
    {
     "data": {
      "text/plain": [
       "True"
      ]
     },
     "execution_count": 188,
     "metadata": {},
     "output_type": "execute_result"
    }
   ],
   "source": [
    "deepnet8 = api.create_deepnet(dataset8)\n",
    "api.ok(deepnet8)"
   ]
  },
  {
   "cell_type": "code",
   "execution_count": 189,
   "metadata": {},
   "outputs": [
    {
     "data": {
      "text/plain": [
       "'deepnet/5dbd9aa47811dd7f2d00e6cb'"
      ]
     },
     "execution_count": 189,
     "metadata": {},
     "output_type": "execute_result"
    }
   ],
   "source": [
    "deepnets.append(deepnet8['resource'])\n",
    "deepnet8['resource']"
   ]
  },
  {
   "cell_type": "markdown",
   "metadata": {},
   "source": [
    "### DeepNet 9"
   ]
  },
  {
   "cell_type": "code",
   "execution_count": 190,
   "metadata": {},
   "outputs": [
    {
     "data": {
      "text/plain": [
       "True"
      ]
     },
     "execution_count": 190,
     "metadata": {},
     "output_type": "execute_result"
    }
   ],
   "source": [
    "deepnet9 = api.create_deepnet(dataset9)\n",
    "api.ok(deepnet9)"
   ]
  },
  {
   "cell_type": "code",
   "execution_count": 191,
   "metadata": {},
   "outputs": [
    {
     "data": {
      "text/plain": [
       "'deepnet/5dbd9afd7811dd7f2d00e6ce'"
      ]
     },
     "execution_count": 191,
     "metadata": {},
     "output_type": "execute_result"
    }
   ],
   "source": [
    "deepnets.append(deepnet9['resource'])\n",
    "deepnet9['resource']"
   ]
  },
  {
   "cell_type": "markdown",
   "metadata": {},
   "source": [
    "### DeepNet 10"
   ]
  },
  {
   "cell_type": "code",
   "execution_count": 192,
   "metadata": {},
   "outputs": [
    {
     "data": {
      "text/plain": [
       "True"
      ]
     },
     "execution_count": 192,
     "metadata": {},
     "output_type": "execute_result"
    }
   ],
   "source": [
    "deepnet10 = api.create_deepnet(dataset10)\n",
    "api.ok(deepnet10)"
   ]
  },
  {
   "cell_type": "code",
   "execution_count": 193,
   "metadata": {},
   "outputs": [
    {
     "data": {
      "text/plain": [
       "'deepnet/5dbd9b5c7811dd7f2d00e6d1'"
      ]
     },
     "execution_count": 193,
     "metadata": {},
     "output_type": "execute_result"
    }
   ],
   "source": [
    "deepnets.append(deepnet10['resource'])\n",
    "deepnet10['resource']"
   ]
  },
  {
   "cell_type": "markdown",
   "metadata": {},
   "source": [
    "### DeepNet 11"
   ]
  },
  {
   "cell_type": "code",
   "execution_count": 194,
   "metadata": {},
   "outputs": [
    {
     "data": {
      "text/plain": [
       "True"
      ]
     },
     "execution_count": 194,
     "metadata": {},
     "output_type": "execute_result"
    }
   ],
   "source": [
    "deepnet11 = api.create_deepnet(dataset11)\n",
    "api.ok(deepnet11)"
   ]
  },
  {
   "cell_type": "code",
   "execution_count": 195,
   "metadata": {},
   "outputs": [
    {
     "data": {
      "text/plain": [
       "'deepnet/5dbd9beb5299631c8200efff'"
      ]
     },
     "execution_count": 195,
     "metadata": {},
     "output_type": "execute_result"
    }
   ],
   "source": [
    "deepnets.append(deepnet11['resource'])\n",
    "deepnet11['resource']"
   ]
  },
  {
   "cell_type": "markdown",
   "metadata": {},
   "source": [
    "### DeepNet 12"
   ]
  },
  {
   "cell_type": "code",
   "execution_count": 196,
   "metadata": {},
   "outputs": [
    {
     "data": {
      "text/plain": [
       "True"
      ]
     },
     "execution_count": 196,
     "metadata": {},
     "output_type": "execute_result"
    }
   ],
   "source": [
    "deepnet12 = api.create_deepnet(dataset12)\n",
    "api.ok(deepnet12)"
   ]
  },
  {
   "cell_type": "code",
   "execution_count": 197,
   "metadata": {},
   "outputs": [
    {
     "data": {
      "text/plain": [
       "'deepnet/5dbd9d6ee47684746800f95b'"
      ]
     },
     "execution_count": 197,
     "metadata": {},
     "output_type": "execute_result"
    }
   ],
   "source": [
    "deepnets.append(deepnet12['resource'])\n",
    "deepnet12['resource']"
   ]
  },
  {
   "cell_type": "markdown",
   "metadata": {},
   "source": [
    "### DeepNet 13"
   ]
  },
  {
   "cell_type": "code",
   "execution_count": 198,
   "metadata": {},
   "outputs": [
    {
     "data": {
      "text/plain": [
       "True"
      ]
     },
     "execution_count": 198,
     "metadata": {},
     "output_type": "execute_result"
    }
   ],
   "source": [
    "deepnet13 = api.create_deepnet(dataset13)\n",
    "api.ok(deepnet13)"
   ]
  },
  {
   "cell_type": "code",
   "execution_count": 199,
   "metadata": {},
   "outputs": [
    {
     "data": {
      "text/plain": [
       "'deepnet/5dbd9defe4768473b6000753'"
      ]
     },
     "execution_count": 199,
     "metadata": {},
     "output_type": "execute_result"
    }
   ],
   "source": [
    "deepnets.append(deepnet13['resource'])\n",
    "deepnet13['resource']"
   ]
  },
  {
   "cell_type": "markdown",
   "metadata": {},
   "source": [
    "### Deepnet 14"
   ]
  },
  {
   "cell_type": "code",
   "execution_count": 200,
   "metadata": {},
   "outputs": [
    {
     "data": {
      "text/plain": [
       "True"
      ]
     },
     "execution_count": 200,
     "metadata": {},
     "output_type": "execute_result"
    }
   ],
   "source": [
    "deepnet14 = api.create_deepnet(dataset14)\n",
    "api.ok(deepnet14)"
   ]
  },
  {
   "cell_type": "code",
   "execution_count": 201,
   "metadata": {},
   "outputs": [
    {
     "data": {
      "text/plain": [
       "'deepnet/5dbd9f055299631c8200f005'"
      ]
     },
     "execution_count": 201,
     "metadata": {},
     "output_type": "execute_result"
    }
   ],
   "source": [
    "deepnets.append(deepnet14['resource'])\n",
    "deepnet14['resource']"
   ]
  },
  {
   "cell_type": "markdown",
   "metadata": {},
   "source": [
    "### DeepNet 15"
   ]
  },
  {
   "cell_type": "code",
   "execution_count": 202,
   "metadata": {},
   "outputs": [
    {
     "data": {
      "text/plain": [
       "True"
      ]
     },
     "execution_count": 202,
     "metadata": {},
     "output_type": "execute_result"
    }
   ],
   "source": [
    "deepnet15 = api.create_deepnet(dataset15)\n",
    "api.ok(deepnet15)"
   ]
  },
  {
   "cell_type": "code",
   "execution_count": 203,
   "metadata": {},
   "outputs": [
    {
     "data": {
      "text/plain": [
       "'deepnet/5dbd9f79e47684746800f95e'"
      ]
     },
     "execution_count": 203,
     "metadata": {},
     "output_type": "execute_result"
    }
   ],
   "source": [
    "deepnets.append(deepnet15['resource'])\n",
    "deepnet15['resource']"
   ]
  },
  {
   "cell_type": "markdown",
   "metadata": {},
   "source": [
    "### DeepNet 16"
   ]
  },
  {
   "cell_type": "code",
   "execution_count": 204,
   "metadata": {},
   "outputs": [
    {
     "data": {
      "text/plain": [
       "True"
      ]
     },
     "execution_count": 204,
     "metadata": {},
     "output_type": "execute_result"
    }
   ],
   "source": [
    "deepnet16 = api.create_deepnet(dataset16)\n",
    "api.ok(deepnet16)"
   ]
  },
  {
   "cell_type": "code",
   "execution_count": 205,
   "metadata": {},
   "outputs": [
    {
     "data": {
      "text/plain": [
       "'deepnet/5dbda00ae47684746800f961'"
      ]
     },
     "execution_count": 205,
     "metadata": {},
     "output_type": "execute_result"
    }
   ],
   "source": [
    "deepnets.append(deepnet16['resource'])\n",
    "deepnet16['resource']"
   ]
  },
  {
   "cell_type": "markdown",
   "metadata": {},
   "source": [
    "### DeepNet 17"
   ]
  },
  {
   "cell_type": "code",
   "execution_count": 206,
   "metadata": {},
   "outputs": [
    {
     "data": {
      "text/plain": [
       "True"
      ]
     },
     "execution_count": 206,
     "metadata": {},
     "output_type": "execute_result"
    }
   ],
   "source": [
    "deepnet17 = api.create_deepnet(dataset17)\n",
    "api.ok(deepnet17)"
   ]
  },
  {
   "cell_type": "code",
   "execution_count": 207,
   "metadata": {},
   "outputs": [
    {
     "data": {
      "text/plain": [
       "'deepnet/5dbda078e47684746800f964'"
      ]
     },
     "execution_count": 207,
     "metadata": {},
     "output_type": "execute_result"
    }
   ],
   "source": [
    "deepnets.append(deepnet17['resource'])\n",
    "deepnet17['resource']"
   ]
  },
  {
   "cell_type": "markdown",
   "metadata": {},
   "source": [
    "### DeepNet 18"
   ]
  },
  {
   "cell_type": "code",
   "execution_count": 208,
   "metadata": {},
   "outputs": [
    {
     "data": {
      "text/plain": [
       "True"
      ]
     },
     "execution_count": 208,
     "metadata": {},
     "output_type": "execute_result"
    }
   ],
   "source": [
    "deepnet18 = api.create_deepnet(dataset18)\n",
    "api.ok(deepnet18)"
   ]
  },
  {
   "cell_type": "code",
   "execution_count": 209,
   "metadata": {},
   "outputs": [
    {
     "data": {
      "text/plain": [
       "'deepnet/5dbda1077811dd7f2d00e6dd'"
      ]
     },
     "execution_count": 209,
     "metadata": {},
     "output_type": "execute_result"
    }
   ],
   "source": [
    "deepnets.append(deepnet18['resource'])\n",
    "deepnet18['resource']"
   ]
  },
  {
   "cell_type": "markdown",
   "metadata": {},
   "source": [
    "### DeepNet 19"
   ]
  },
  {
   "cell_type": "code",
   "execution_count": 210,
   "metadata": {},
   "outputs": [
    {
     "data": {
      "text/plain": [
       "True"
      ]
     },
     "execution_count": 210,
     "metadata": {},
     "output_type": "execute_result"
    }
   ],
   "source": [
    "deepnet19 = api.create_deepnet(dataset19)\n",
    "api.ok(deepnet19)"
   ]
  },
  {
   "cell_type": "code",
   "execution_count": 211,
   "metadata": {},
   "outputs": [
    {
     "data": {
      "text/plain": [
       "'deepnet/5dbda18be47684746800f967'"
      ]
     },
     "execution_count": 211,
     "metadata": {},
     "output_type": "execute_result"
    }
   ],
   "source": [
    "deepnets.append(deepnet19['resource'])\n",
    "deepnet19['resource']"
   ]
  },
  {
   "cell_type": "markdown",
   "metadata": {},
   "source": [
    "### DeepNet 20"
   ]
  },
  {
   "cell_type": "code",
   "execution_count": 212,
   "metadata": {},
   "outputs": [
    {
     "data": {
      "text/plain": [
       "True"
      ]
     },
     "execution_count": 212,
     "metadata": {},
     "output_type": "execute_result"
    }
   ],
   "source": [
    "deepnet20 = api.create_deepnet(dataset20)\n",
    "api.ok(deepnet20)"
   ]
  },
  {
   "cell_type": "code",
   "execution_count": 213,
   "metadata": {},
   "outputs": [
    {
     "data": {
      "text/plain": [
       "'deepnet/5dbda2405299631c8200f008'"
      ]
     },
     "execution_count": 213,
     "metadata": {},
     "output_type": "execute_result"
    }
   ],
   "source": [
    "deepnets.append(deepnet20['resource'])\n",
    "deepnet20['resource']"
   ]
  },
  {
   "cell_type": "markdown",
   "metadata": {},
   "source": [
    "## We create a dataframe with bigml informations"
   ]
  },
  {
   "cell_type": "markdown",
   "metadata": {},
   "source": [
    "we create the index "
   ]
  },
  {
   "cell_type": "code",
   "execution_count": 11,
   "metadata": {},
   "outputs": [
    {
     "data": {
      "text/plain": [
       "['dataset1',\n",
       " 'dataset2',\n",
       " 'dataset3',\n",
       " 'dataset4',\n",
       " 'dataset5',\n",
       " 'dataset6',\n",
       " 'dataset7',\n",
       " 'dataset8',\n",
       " 'dataset9',\n",
       " 'dataset10',\n",
       " 'dataset11',\n",
       " 'dataset12',\n",
       " 'dataset13',\n",
       " 'dataset14',\n",
       " 'dataset15',\n",
       " 'dataset16',\n",
       " 'dataset17',\n",
       " 'dataset18',\n",
       " 'dataset19',\n",
       " 'dataset20']"
      ]
     },
     "execution_count": 11,
     "metadata": {},
     "output_type": "execute_result"
    }
   ],
   "source": [
    "datasets_num =[]\n",
    "dataset_num=1\n",
    "while dataset_num <=20:\n",
    "    datasetname= 'dataset'+str(dataset_num)\n",
    "    datasets_num.append(datasetname)\n",
    "    dataset_num = dataset_num + 1\n",
    "    \n",
    "datasets_num"
   ]
  },
  {
   "cell_type": "markdown",
   "metadata": {},
   "source": [
    "we create list with number of data "
   ]
  },
  {
   "cell_type": "code",
   "execution_count": 15,
   "metadata": {},
   "outputs": [
    {
     "data": {
      "text/plain": [
       "[6000,\n",
       " 12000,\n",
       " 18000,\n",
       " 24000,\n",
       " 30000,\n",
       " 36000,\n",
       " 42000,\n",
       " 48000,\n",
       " 54000,\n",
       " 60000,\n",
       " 66000,\n",
       " 72000,\n",
       " 78000,\n",
       " 84000,\n",
       " 90000,\n",
       " 96000,\n",
       " 102000,\n",
       " 108000,\n",
       " 114000,\n",
       " 120000]"
      ]
     },
     "execution_count": 15,
     "metadata": {},
     "output_type": "execute_result"
    }
   ],
   "source": [
    "nbr_data =[]\n",
    "data=0\n",
    "while data <120000:\n",
    "    data= data+6000\n",
    "    nbr_data.append(data)\n",
    "    \n",
    "nbr_data"
   ]
  },
  {
   "cell_type": "code",
   "execution_count": 20,
   "metadata": {},
   "outputs": [
    {
     "data": {
      "text/html": [
       "<div>\n",
       "<style scoped>\n",
       "    .dataframe tbody tr th:only-of-type {\n",
       "        vertical-align: middle;\n",
       "    }\n",
       "\n",
       "    .dataframe tbody tr th {\n",
       "        vertical-align: top;\n",
       "    }\n",
       "\n",
       "    .dataframe thead th {\n",
       "        text-align: right;\n",
       "    }\n",
       "</style>\n",
       "<table border=\"1\" class=\"dataframe\">\n",
       "  <thead>\n",
       "    <tr style=\"text-align: right;\">\n",
       "      <th></th>\n",
       "      <th>sources</th>\n",
       "      <th>datasets</th>\n",
       "      <th>ensembles</th>\n",
       "      <th>deepnets</th>\n",
       "      <th>nbr_data</th>\n",
       "    </tr>\n",
       "  </thead>\n",
       "  <tbody>\n",
       "    <tr>\n",
       "      <td>dataset1</td>\n",
       "      <td>source/5dbd805a5299631c8200efa6</td>\n",
       "      <td>dataset/5dbd81605299631c8200efa9</td>\n",
       "      <td>ensemble/5dbd8f70e47684746800f942</td>\n",
       "      <td>deepnet/5dbd974b7811dd7f2d00e6be</td>\n",
       "      <td>6000</td>\n",
       "    </tr>\n",
       "    <tr>\n",
       "      <td>dataset2</td>\n",
       "      <td>source/5dbd81b2e47684746800f91d</td>\n",
       "      <td>dataset/5dbd8236e47684746800f920</td>\n",
       "      <td>ensemble/5dbd8f875299631c8200efe5</td>\n",
       "      <td>deepnet/5dbd97a47811dd7f2d00e6c1</td>\n",
       "      <td>12000</td>\n",
       "    </tr>\n",
       "    <tr>\n",
       "      <td>dataset3</td>\n",
       "      <td>source/5dbd846f5299631c8200efac</td>\n",
       "      <td>dataset/5dbd84907811dd7f2d00e694</td>\n",
       "      <td>ensemble/5dbd8f977811dd7f2d00e6af</td>\n",
       "      <td>deepnet/5dbd97eb7811dd7f2d00e6c5</td>\n",
       "      <td>18000</td>\n",
       "    </tr>\n",
       "    <tr>\n",
       "      <td>dataset4</td>\n",
       "      <td>source/5dbd84e55299631c8200efaf</td>\n",
       "      <td>dataset/5dbd84eae47684746800f923</td>\n",
       "      <td>ensemble/5dbd8ff75299631c8200efe8</td>\n",
       "      <td>deepnet/5dbd984f5299631c8200effc</td>\n",
       "      <td>24000</td>\n",
       "    </tr>\n",
       "    <tr>\n",
       "      <td>dataset5</td>\n",
       "      <td>source/5dbd852f5299631c8200efb2</td>\n",
       "      <td>dataset/5dbd85357811dd7f2d00e697</td>\n",
       "      <td>ensemble/5dbd900b5299631c8200efeb</td>\n",
       "      <td>deepnet/5dbd98b47811dd7f2d00e6c8</td>\n",
       "      <td>30000</td>\n",
       "    </tr>\n",
       "    <tr>\n",
       "      <td>dataset6</td>\n",
       "      <td>source/5dbd8577e47684746800f926</td>\n",
       "      <td>dataset/5dbd857b5299631c8200efb5</td>\n",
       "      <td>ensemble/5dbd903b7811dd7f2d00e6b2</td>\n",
       "      <td>deepnet/5dbd991f7811dd055c0014f6</td>\n",
       "      <td>36000</td>\n",
       "    </tr>\n",
       "    <tr>\n",
       "      <td>dataset7</td>\n",
       "      <td>source/5dbd85a25299631c8200efb8</td>\n",
       "      <td>dataset/5dbd85a7e47684746800f929</td>\n",
       "      <td>ensemble/5dbd904c5299631c8200efee</td>\n",
       "      <td>deepnet/5dbd9973e47684746800f958</td>\n",
       "      <td>42000</td>\n",
       "    </tr>\n",
       "    <tr>\n",
       "      <td>dataset8</td>\n",
       "      <td>source/5dbd86155299631c8200efbb</td>\n",
       "      <td>dataset/5dbd861ae47684746800f92c</td>\n",
       "      <td>ensemble/5dbd90dae47684746800f945</td>\n",
       "      <td>deepnet/5dbd9aa47811dd7f2d00e6cb</td>\n",
       "      <td>48000</td>\n",
       "    </tr>\n",
       "    <tr>\n",
       "      <td>dataset9</td>\n",
       "      <td>source/5dbd86567811dd7f2d00e69a</td>\n",
       "      <td>dataset/5dbd865ae47684746800f92f</td>\n",
       "      <td>ensemble/5dbd90f0e47684746800f948</td>\n",
       "      <td>deepnet/5dbd9afd7811dd7f2d00e6ce</td>\n",
       "      <td>54000</td>\n",
       "    </tr>\n",
       "    <tr>\n",
       "      <td>dataset10</td>\n",
       "      <td>source/5dbd869d5299631c8200efbf</td>\n",
       "      <td>dataset/5dbd86a25299631c8200efc2</td>\n",
       "      <td>ensemble/5dbd92257811dd7f2d00e6b5</td>\n",
       "      <td>deepnet/5dbd9b5c7811dd7f2d00e6d1</td>\n",
       "      <td>60000</td>\n",
       "    </tr>\n",
       "    <tr>\n",
       "      <td>dataset11</td>\n",
       "      <td>source/5dbd8705e47684746800f932</td>\n",
       "      <td>dataset/5dbd870a7811dd055c0014f3</td>\n",
       "      <td>ensemble/5dbd9240e47684746800f94b</td>\n",
       "      <td>deepnet/5dbd9beb5299631c8200efff</td>\n",
       "      <td>66000</td>\n",
       "    </tr>\n",
       "    <tr>\n",
       "      <td>dataset12</td>\n",
       "      <td>source/5dbd880d7811dd7f2d00e69d</td>\n",
       "      <td>dataset/5dbd88135299631c8200efc6</td>\n",
       "      <td>ensemble/5dbd9272e47684746800f94e</td>\n",
       "      <td>deepnet/5dbd9d6ee47684746800f95b</td>\n",
       "      <td>72000</td>\n",
       "    </tr>\n",
       "    <tr>\n",
       "      <td>dataset13</td>\n",
       "      <td>source/5dbd88d1e47684746800f936</td>\n",
       "      <td>dataset/5dbd88e05299631c8200efc9</td>\n",
       "      <td>ensemble/5dbd928be47684746800f951</td>\n",
       "      <td>deepnet/5dbd9defe4768473b6000753</td>\n",
       "      <td>78000</td>\n",
       "    </tr>\n",
       "    <tr>\n",
       "      <td>dataset14</td>\n",
       "      <td>source/5dbd897c7811dd7f2d00e6a0</td>\n",
       "      <td>dataset/5dbd89815299631c8200efcd</td>\n",
       "      <td>ensemble/5dbd93435299631c8200eff1</td>\n",
       "      <td>deepnet/5dbd9f055299631c8200f005</td>\n",
       "      <td>84000</td>\n",
       "    </tr>\n",
       "    <tr>\n",
       "      <td>dataset15</td>\n",
       "      <td>source/5dbd89d9e47684746800f939</td>\n",
       "      <td>dataset/5dbd89e37811dd7f2d00e6a3</td>\n",
       "      <td>ensemble/5dbd935de47684749e00101c</td>\n",
       "      <td>deepnet/5dbd9f79e47684746800f95e</td>\n",
       "      <td>90000</td>\n",
       "    </tr>\n",
       "    <tr>\n",
       "      <td>dataset16</td>\n",
       "      <td>source/5dbd8a44e47684746800f93c</td>\n",
       "      <td>dataset/5dbd8b247811dd7f2d00e6a9</td>\n",
       "      <td>ensemble/5dbd939f7811dd7f2d00e6b8</td>\n",
       "      <td>deepnet/5dbda00ae47684746800f961</td>\n",
       "      <td>96000</td>\n",
       "    </tr>\n",
       "    <tr>\n",
       "      <td>dataset17</td>\n",
       "      <td>source/5dbd8b8d7811dd7f2d00e6ac</td>\n",
       "      <td>dataset/5dbd8c2f5299631c8200efd3</td>\n",
       "      <td>ensemble/5dbd93be7811dd7f2d00e6bb</td>\n",
       "      <td>deepnet/5dbda078e47684746800f964</td>\n",
       "      <td>102000</td>\n",
       "    </tr>\n",
       "    <tr>\n",
       "      <td>dataset18</td>\n",
       "      <td>source/5dbd8c65e47684746800f93f</td>\n",
       "      <td>dataset/5dbd8cab5299631c8200efd6</td>\n",
       "      <td>ensemble/5dbd93f25299631c8200eff4</td>\n",
       "      <td>deepnet/5dbda1077811dd7f2d00e6dd</td>\n",
       "      <td>108000</td>\n",
       "    </tr>\n",
       "    <tr>\n",
       "      <td>dataset19</td>\n",
       "      <td>source/5dbd8d975299631c8200efd9</td>\n",
       "      <td>dataset/5dbd8dc95299631c8200efdc</td>\n",
       "      <td>ensemble/5dbd94135299631c8200eff7</td>\n",
       "      <td>deepnet/5dbda18be47684746800f967</td>\n",
       "      <td>114000</td>\n",
       "    </tr>\n",
       "    <tr>\n",
       "      <td>dataset20</td>\n",
       "      <td>source/5dbd8e9e5299631c8200efdf</td>\n",
       "      <td>dataset/5dbd8f465299631c8200efe2</td>\n",
       "      <td>ensemble/5dbd948fe47684746800f954</td>\n",
       "      <td>deepnet/5dbda2405299631c8200f008</td>\n",
       "      <td>120000</td>\n",
       "    </tr>\n",
       "  </tbody>\n",
       "</table>\n",
       "</div>"
      ],
      "text/plain": [
       "                                   sources                          datasets  \\\n",
       "dataset1   source/5dbd805a5299631c8200efa6  dataset/5dbd81605299631c8200efa9   \n",
       "dataset2   source/5dbd81b2e47684746800f91d  dataset/5dbd8236e47684746800f920   \n",
       "dataset3   source/5dbd846f5299631c8200efac  dataset/5dbd84907811dd7f2d00e694   \n",
       "dataset4   source/5dbd84e55299631c8200efaf  dataset/5dbd84eae47684746800f923   \n",
       "dataset5   source/5dbd852f5299631c8200efb2  dataset/5dbd85357811dd7f2d00e697   \n",
       "dataset6   source/5dbd8577e47684746800f926  dataset/5dbd857b5299631c8200efb5   \n",
       "dataset7   source/5dbd85a25299631c8200efb8  dataset/5dbd85a7e47684746800f929   \n",
       "dataset8   source/5dbd86155299631c8200efbb  dataset/5dbd861ae47684746800f92c   \n",
       "dataset9   source/5dbd86567811dd7f2d00e69a  dataset/5dbd865ae47684746800f92f   \n",
       "dataset10  source/5dbd869d5299631c8200efbf  dataset/5dbd86a25299631c8200efc2   \n",
       "dataset11  source/5dbd8705e47684746800f932  dataset/5dbd870a7811dd055c0014f3   \n",
       "dataset12  source/5dbd880d7811dd7f2d00e69d  dataset/5dbd88135299631c8200efc6   \n",
       "dataset13  source/5dbd88d1e47684746800f936  dataset/5dbd88e05299631c8200efc9   \n",
       "dataset14  source/5dbd897c7811dd7f2d00e6a0  dataset/5dbd89815299631c8200efcd   \n",
       "dataset15  source/5dbd89d9e47684746800f939  dataset/5dbd89e37811dd7f2d00e6a3   \n",
       "dataset16  source/5dbd8a44e47684746800f93c  dataset/5dbd8b247811dd7f2d00e6a9   \n",
       "dataset17  source/5dbd8b8d7811dd7f2d00e6ac  dataset/5dbd8c2f5299631c8200efd3   \n",
       "dataset18  source/5dbd8c65e47684746800f93f  dataset/5dbd8cab5299631c8200efd6   \n",
       "dataset19  source/5dbd8d975299631c8200efd9  dataset/5dbd8dc95299631c8200efdc   \n",
       "dataset20  source/5dbd8e9e5299631c8200efdf  dataset/5dbd8f465299631c8200efe2   \n",
       "\n",
       "                                   ensembles  \\\n",
       "dataset1   ensemble/5dbd8f70e47684746800f942   \n",
       "dataset2   ensemble/5dbd8f875299631c8200efe5   \n",
       "dataset3   ensemble/5dbd8f977811dd7f2d00e6af   \n",
       "dataset4   ensemble/5dbd8ff75299631c8200efe8   \n",
       "dataset5   ensemble/5dbd900b5299631c8200efeb   \n",
       "dataset6   ensemble/5dbd903b7811dd7f2d00e6b2   \n",
       "dataset7   ensemble/5dbd904c5299631c8200efee   \n",
       "dataset8   ensemble/5dbd90dae47684746800f945   \n",
       "dataset9   ensemble/5dbd90f0e47684746800f948   \n",
       "dataset10  ensemble/5dbd92257811dd7f2d00e6b5   \n",
       "dataset11  ensemble/5dbd9240e47684746800f94b   \n",
       "dataset12  ensemble/5dbd9272e47684746800f94e   \n",
       "dataset13  ensemble/5dbd928be47684746800f951   \n",
       "dataset14  ensemble/5dbd93435299631c8200eff1   \n",
       "dataset15  ensemble/5dbd935de47684749e00101c   \n",
       "dataset16  ensemble/5dbd939f7811dd7f2d00e6b8   \n",
       "dataset17  ensemble/5dbd93be7811dd7f2d00e6bb   \n",
       "dataset18  ensemble/5dbd93f25299631c8200eff4   \n",
       "dataset19  ensemble/5dbd94135299631c8200eff7   \n",
       "dataset20  ensemble/5dbd948fe47684746800f954   \n",
       "\n",
       "                                   deepnets  nbr_data  \n",
       "dataset1   deepnet/5dbd974b7811dd7f2d00e6be      6000  \n",
       "dataset2   deepnet/5dbd97a47811dd7f2d00e6c1     12000  \n",
       "dataset3   deepnet/5dbd97eb7811dd7f2d00e6c5     18000  \n",
       "dataset4   deepnet/5dbd984f5299631c8200effc     24000  \n",
       "dataset5   deepnet/5dbd98b47811dd7f2d00e6c8     30000  \n",
       "dataset6   deepnet/5dbd991f7811dd055c0014f6     36000  \n",
       "dataset7   deepnet/5dbd9973e47684746800f958     42000  \n",
       "dataset8   deepnet/5dbd9aa47811dd7f2d00e6cb     48000  \n",
       "dataset9   deepnet/5dbd9afd7811dd7f2d00e6ce     54000  \n",
       "dataset10  deepnet/5dbd9b5c7811dd7f2d00e6d1     60000  \n",
       "dataset11  deepnet/5dbd9beb5299631c8200efff     66000  \n",
       "dataset12  deepnet/5dbd9d6ee47684746800f95b     72000  \n",
       "dataset13  deepnet/5dbd9defe4768473b6000753     78000  \n",
       "dataset14  deepnet/5dbd9f055299631c8200f005     84000  \n",
       "dataset15  deepnet/5dbd9f79e47684746800f95e     90000  \n",
       "dataset16  deepnet/5dbda00ae47684746800f961     96000  \n",
       "dataset17  deepnet/5dbda078e47684746800f964    102000  \n",
       "dataset18  deepnet/5dbda1077811dd7f2d00e6dd    108000  \n",
       "dataset19  deepnet/5dbda18be47684746800f967    114000  \n",
       "dataset20  deepnet/5dbda2405299631c8200f008    120000  "
      ]
     },
     "execution_count": 20,
     "metadata": {},
     "output_type": "execute_result"
    }
   ],
   "source": [
    "bigml_data_models = DataFrame({'sources': sources, 'datasets': datasets, 'ensembles': ensembles, 'deepnets': deepnets, 'nbr_data': nbr_data},\n",
    "                      index = datasets_num)\n",
    "\n",
    "bigml_data_models"
   ]
  },
  {
   "cell_type": "code",
   "execution_count": 23,
   "metadata": {},
   "outputs": [],
   "source": [
    "bigml_data_models.to_csv(r'dataset_deepnet_ensemble/bigml/bigml_data_models_informations.csv',  header=True)"
   ]
  }
 ],
 "metadata": {
  "kernelspec": {
   "display_name": "Python 3",
   "language": "python",
   "name": "python3"
  },
  "language_info": {
   "codemirror_mode": {
    "name": "ipython",
    "version": 3
   },
   "file_extension": ".py",
   "mimetype": "text/x-python",
   "name": "python",
   "nbconvert_exporter": "python",
   "pygments_lexer": "ipython3",
   "version": "3.7.3"
  }
 },
 "nbformat": 4,
 "nbformat_minor": 2
}
