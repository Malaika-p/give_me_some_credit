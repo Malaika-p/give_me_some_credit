{
 "cells": [
  {
   "cell_type": "code",
   "execution_count": 1,
   "metadata": {},
   "outputs": [],
   "source": [
    "from pandas import DataFrame, read_csv, to_numeric\n",
    "from sklearn.model_selection import train_test_split\n",
    "from sklearn.metrics import roc_curve, auc, roc_auc_score\n",
    "import matplotlib.pyplot as plt\n",
    "# from pickle import load, dump\n",
    "from bigml.api import BigML\n",
    "import kaggle\n",
    "from pprint import pprint\n",
    "from os import path # vérifié l'existance des fichiers\n",
    "import json\n",
    "\n",
    "%matplotlib inline"
   ]
  },
  {
   "cell_type": "markdown",
   "metadata": {},
   "source": [
    "We initialize the API with the name of the project"
   ]
  },
  {
   "cell_type": "code",
   "execution_count": 2,
   "metadata": {},
   "outputs": [],
   "source": [
    "big_ml_project = 'project/5dc47429fb7bdd2dd90008ae'\n",
    "api = BigML(project=big_ml_project)"
   ]
  },
  {
   "cell_type": "markdown",
   "metadata": {},
   "source": [
    "# we prepare the file name with the project and the version"
   ]
  },
  {
   "cell_type": "code",
   "execution_count": 3,
   "metadata": {},
   "outputs": [],
   "source": [
    "project = 'gmsc'\n",
    "version = 'learning_curve'\n",
    "dossier = 'learning_curve/'\n",
    "#jar_filename = project + '-' + version + '-picklejar'\n",
    "json_filename = project + '_' + version + '.json'"
   ]
  },
  {
   "cell_type": "markdown",
   "metadata": {},
   "source": [
    "# We create our backup and file loading functions"
   ]
  },
  {
   "cell_type": "markdown",
   "metadata": {},
   "source": [
    "If we want use json : "
   ]
  },
  {
   "cell_type": "code",
   "execution_count": 4,
   "metadata": {},
   "outputs": [],
   "source": [
    "def data_save(project_data):\n",
    "    with open(dossier+json_filename, 'w') as file:\n",
    "        json.dump(project_data, file)\n",
    "        \n",
    "def data_load():\n",
    "    if path.exists(dossier+json_filename):\n",
    "        with open(dossier+json_filename, 'r') as file:\n",
    "            project_data = json.load(file)\n",
    "        return project_data\n",
    "    return {}\n",
    "    "
   ]
  },
  {
   "cell_type": "markdown",
   "metadata": {},
   "source": [
    "If we want use pickle : "
   ]
  },
  {
   "cell_type": "raw",
   "metadata": {},
   "source": [
    "def data_save(project_data):\n",
    "    with open(jar_filename, 'wb') as file:\n",
    "        dump(project_data,file)\n",
    "def data_load():\n",
    "    if path.exists(jar_filename):\n",
    "        with open(jar_filename, 'rb') as file:\n",
    "            project_data = load(file)\n",
    "        return project_data\n",
    "    return {}"
   ]
  },
  {
   "cell_type": "markdown",
   "metadata": {},
   "source": [
    "We load our data"
   ]
  },
  {
   "cell_type": "code",
   "execution_count": 5,
   "metadata": {},
   "outputs": [],
   "source": [
    "project_data = data_load()"
   ]
  },
  {
   "cell_type": "code",
   "execution_count": 6,
   "metadata": {},
   "outputs": [],
   "source": [
    "project_data['fulltrain file']='cs-train.csv'\n",
    "project_data['test file']='cs-test.csv'"
   ]
  },
  {
   "cell_type": "code",
   "execution_count": 7,
   "metadata": {},
   "outputs": [],
   "source": [
    "fulltrain=read_csv('./cs-training.csv',index_col=0)"
   ]
  },
  {
   "cell_type": "markdown",
   "metadata": {},
   "source": [
    "# We realize the split"
   ]
  },
  {
   "cell_type": "code",
   "execution_count": 8,
   "metadata": {},
   "outputs": [
    {
     "data": {
      "text/plain": [
       "120000"
      ]
     },
     "execution_count": 8,
     "metadata": {},
     "output_type": "execute_result"
    }
   ],
   "source": [
    "fixed_seed=12345\n",
    "train, dev = train_test_split(fulltrain, test_size=0.2, random_state=fixed_seed)\n",
    "dev_filename = dossier + project + '-' + version + '_dev' + '.csv.bz2' # pour compresser automatiquement .bz2 ! Pas compatible bachprediction\n",
    "dev.to_csv(dev_filename,index_label='Id')\n",
    "train_filename = dossier + project + '-' + version + '_train' + '.csv.bz2'\n",
    "train.to_csv(train_filename,index_label='Id')\n",
    "project_data['developpement file'] = dev_filename\n",
    "len(train)"
   ]
  },
  {
   "cell_type": "markdown",
   "metadata": {},
   "source": [
    "We initialize our dictionaries"
   ]
  },
  {
   "cell_type": "code",
   "execution_count": 9,
   "metadata": {},
   "outputs": [],
   "source": [
    "if 'models' not in project_data:\n",
    "    project_data['models']={}\n",
    "if 'train sources' not in project_data:\n",
    "    project_data['train sources']={}\n",
    "if 'train datasets' not in project_data:\n",
    "    project_data['train datasets']={}"
   ]
  },
  {
   "cell_type": "code",
   "execution_count": 10,
   "metadata": {},
   "outputs": [],
   "source": [
    "data_save(project_data)"
   ]
  },
  {
   "cell_type": "markdown",
   "metadata": {},
   "source": [
    "We create sources and datasets"
   ]
  },
  {
   "cell_type": "code",
   "execution_count": 14,
   "metadata": {},
   "outputs": [
    {
     "name": "stdout",
     "output_type": "stream",
     "text": [
      "'source/5dc5aa255299631c82019991'\n"
     ]
    }
   ],
   "source": [
    "if 'developpement source' not in project_data:\n",
    "    dev_src = api.create_source(dev_filename)\n",
    "    api.ok(dev_src)\n",
    "    project_data['developpement source']=dev_src['resource']\n",
    "else:\n",
    "    dev_src = api.get_source(project_data['developpement source'])\n",
    "pprint(dev_src['resource'])"
   ]
  },
  {
   "cell_type": "code",
   "execution_count": 15,
   "metadata": {},
   "outputs": [
    {
     "name": "stdout",
     "output_type": "stream",
     "text": [
      "'dataset/5dc5a9cd7811dd7f2d019818'\n"
     ]
    }
   ],
   "source": [
    "if 'developpement dataset' not in project_data:\n",
    "    dev_ds = api.create_dataset(dev_src)\n",
    "    api.ok(dev_ds)\n",
    "    project_data['developpement dataset']=dev_ds['resource']\n",
    "else:\n",
    "    dev_ds = api.get_dataset(project_data['developpement dataset'])\n",
    "pprint(dev_ds['resource'])"
   ]
  },
  {
   "cell_type": "code",
   "execution_count": 16,
   "metadata": {},
   "outputs": [
    {
     "name": "stdout",
     "output_type": "stream",
     "text": [
      "{'developpement dataset': 'dataset/5dc5a9cd7811dd7f2d019818',\n",
      " 'developpement file': 'learning_curve/gmsc-learning_curve_dev.csv.bz2',\n",
      " 'developpement source': 'source/5dc5aa255299631c82019991',\n",
      " 'fulltrain file': 'cs-train.csv',\n",
      " 'models': {},\n",
      " 'test file': 'cs-test.csv',\n",
      " 'train datasets': {},\n",
      " 'train sources': {}}\n"
     ]
    }
   ],
   "source": [
    "pprint(project_data)"
   ]
  },
  {
   "cell_type": "markdown",
   "metadata": {},
   "source": [
    "We break up our training set"
   ]
  },
  {
   "cell_type": "code",
   "execution_count": 17,
   "metadata": {},
   "outputs": [],
   "source": [
    "#training_sizes=[500,2000,5000,10000,25000,50000,100000,150000]\n",
    "training_sizes=[int(120000*i/10) for i in range(1,11) ]\n",
    "models=['ensemble','deepnet']"
   ]
  },
  {
   "cell_type": "code",
   "execution_count": 18,
   "metadata": {},
   "outputs": [],
   "source": [
    "for size in training_sizes:\n",
    "    train_filename = project + '_' + version + '_train_' + str(size) + '.csv.bz2'\n",
    "    if not path.exists(train_filename):\n",
    "        #if size < 120000:\n",
    "        #    print(size)\n",
    "        train_partial = train.sample(size)\n",
    "        #else:\n",
    "        #    train_partial = train\n",
    "        train_partial.to_csv(train_filename, index_label='Id')\n",
    "        \n",
    "    if size not in project_data['train sources']:\n",
    "        train_src = api.create_source(train_filename)\n",
    "        api.ok(train_src)\n",
    "        project_data['train sources'][size]=train_src['resource']\n",
    "    else:\n",
    "        train_src = api.get_source(project_data['train sources'][size])\n",
    "        \n",
    "    if size not in project_data['train datasets']:\n",
    "        train_ds = api.create_dataset(train_src)\n",
    "        api.ok(train_ds)\n",
    "        project_data['train datasets'][size]=train_ds['resource']\n",
    "    else:\n",
    "        train_ds = api.get_dataset(project_data['train datasets'][size])"
   ]
  },
  {
   "cell_type": "code",
   "execution_count": 20,
   "metadata": {},
   "outputs": [],
   "source": [
    "data_save(project_data)"
   ]
  },
  {
   "cell_type": "markdown",
   "metadata": {},
   "source": [
    "We train our models"
   ]
  },
  {
   "cell_type": "code",
   "execution_count": 21,
   "metadata": {},
   "outputs": [],
   "source": [
    "for size in training_sizes:\n",
    "    for model_type in models:\n",
    "        if size not in project_data['models']:\n",
    "            project_data['models'][size]={}\n",
    "        if model_type not in project_data['models'][size]:\n",
    "            project_data['models'][size][model_type]={}\n",
    "        model = project_data['models'][size][model_type]\n",
    "        model['size'] = size\n",
    "        model['model type'] = model_type\n",
    "        model['train source'] = project_data['train sources'][size]\n",
    "        model['train dataset'] = project_data['train datasets'][size]"
   ]
  },
  {
   "cell_type": "code",
   "execution_count": 22,
   "metadata": {},
   "outputs": [
    {
     "name": "stdout",
     "output_type": "stream",
     "text": [
      "Training ensemble_12000\n",
      "Done\n",
      "Training deepnet_12000\n",
      "Done\n",
      "Training ensemble_24000\n",
      "Done\n",
      "Training deepnet_24000\n",
      "Done\n",
      "Training ensemble_36000\n",
      "Done\n",
      "Training deepnet_36000\n",
      "Done\n",
      "Training ensemble_48000\n",
      "Done\n",
      "Training deepnet_48000\n",
      "Done\n",
      "Training ensemble_60000\n",
      "Done\n",
      "Training deepnet_60000\n",
      "Done\n",
      "Training ensemble_72000\n",
      "Done\n",
      "Training deepnet_72000\n",
      "Done\n",
      "Training ensemble_84000\n",
      "Done\n",
      "Training deepnet_84000\n",
      "Done\n",
      "Training ensemble_96000\n",
      "Done\n",
      "Training deepnet_96000\n",
      "Done\n",
      "Training ensemble_108000\n",
      "Done\n",
      "Training deepnet_108000\n",
      "Done\n",
      "Training ensemble_120000\n",
      "Done\n",
      "Training deepnet_120000\n",
      "Done\n"
     ]
    }
   ],
   "source": [
    "model_args= {\"objective_field\": \"SeriousDlqin2yrs\"}\n",
    "for size in project_data['models']:\n",
    "    for model_type in project_data['models'][size]:\n",
    "        print('Training ' + model_type + '_' + str(size))\n",
    "        model_data = project_data['models'][size][model_type]\n",
    "        train_ds = model_data['train dataset']\n",
    "        if 'bigml model' not in model_data:\n",
    "            if model_type == 'ensemble':\n",
    "                \n",
    "                model = api.create_ensemble(train_ds, model_args)\n",
    "                api.ok(model)\n",
    "                model_data['bigml model'] = model['resource']\n",
    "            elif model_type == 'deepnet':\n",
    "                model = api.create_deepnet(train_ds, model_args)\n",
    "                api.ok(model)\n",
    "                model_data['bigml model'] = model['resource']\n",
    "        print('Done') "
   ]
  },
  {
   "cell_type": "code",
   "execution_count": 23,
   "metadata": {},
   "outputs": [],
   "source": [
    "data_save(project_data)"
   ]
  },
  {
   "cell_type": "markdown",
   "metadata": {},
   "source": [
    "We create the evaluations"
   ]
  },
  {
   "cell_type": "code",
   "execution_count": 25,
   "metadata": {
    "scrolled": true
   },
   "outputs": [
    {
     "name": "stdout",
     "output_type": "stream",
     "text": [
      "Evaluating ensemble_12000\n",
      "Done\n",
      "Evaluating deepnet_12000\n",
      "Done\n",
      "Evaluating ensemble_24000\n",
      "Done\n",
      "Evaluating deepnet_24000\n",
      "Done\n",
      "Evaluating ensemble_36000\n",
      "Done\n",
      "Evaluating deepnet_36000\n",
      "Done\n",
      "Evaluating ensemble_48000\n",
      "Done\n",
      "Evaluating deepnet_48000\n",
      "Done\n",
      "Evaluating ensemble_60000\n",
      "Done\n",
      "Evaluating deepnet_60000\n",
      "Done\n",
      "Evaluating ensemble_72000\n",
      "Done\n",
      "Evaluating deepnet_72000\n",
      "Done\n",
      "Evaluating ensemble_84000\n",
      "Done\n",
      "Evaluating deepnet_84000\n",
      "Done\n",
      "Evaluating ensemble_96000\n",
      "Done\n",
      "Evaluating deepnet_96000\n",
      "Done\n",
      "Evaluating ensemble_108000\n",
      "Done\n",
      "Evaluating deepnet_108000\n",
      "Done\n",
      "Evaluating ensemble_120000\n",
      "Done\n",
      "Evaluating deepnet_120000\n",
      "Done\n"
     ]
    }
   ],
   "source": [
    "for size in project_data['models']:\n",
    "    for model_type in project_data['models'][size]:\n",
    "        print('Evaluating ' + model_type + '_' + str(size))\n",
    "        model_data = project_data['models'][size][model_type]\n",
    "        if model_type == 'ensemble':\n",
    "            model = api.get_ensemble(model_data['bigml model'])\n",
    "        if model_type == 'deepnet':\n",
    "            model = api.get_deepnet(model_data['bigml model'])\n",
    "        if 'dev evaluation' not in model_data:\n",
    "            evaluation = api.create_evaluation(model, project_data['developpement dataset'])\n",
    "            api.ok(evaluation)\n",
    "            model_data['dev evaluation'] = evaluation['resource']\n",
    "        if 'train evaluation' not in model_data:\n",
    "            evaluation = api.create_evaluation(model, model_data['train dataset'])\n",
    "            api.ok(evaluation)\n",
    "            model_data['train evaluation'] = evaluation['resource']\n",
    "        print('Done')"
   ]
  },
  {
   "cell_type": "code",
   "execution_count": 26,
   "metadata": {},
   "outputs": [
    {
     "name": "stdout",
     "output_type": "stream",
     "text": [
      "{'developpement dataset': 'dataset/5dc5a9cd7811dd7f2d019818',\n",
      " 'developpement file': 'learning_curve/gmsc-learning_curve_dev.csv.bz2',\n",
      " 'developpement source': 'source/5dc5aa255299631c82019991',\n",
      " 'fulltrain file': 'cs-train.csv',\n",
      " 'models': {12000: {'deepnet': {'bigml model': 'deepnet/5dc5b1a4e47684746801af0c',\n",
      "                                'dev evaluation': 'evaluation/5dc5b6cc7811dd7f2d019904',\n",
      "                                'model type': 'deepnet',\n",
      "                                'size': 12000,\n",
      "                                'train dataset': 'dataset/5dc5aa7ee47684746801adf8',\n",
      "                                'train evaluation': 'evaluation/5dc5b6dae47684746801af33',\n",
      "                                'train source': 'source/5dc5aa7a5299631c820199a8'},\n",
      "                    'ensemble': {'bigml model': 'ensemble/5dc5b1945299631c82019a52',\n",
      "                                 'dev evaluation': 'evaluation/5dc5b6aee47684746801af30',\n",
      "                                 'model type': 'ensemble',\n",
      "                                 'size': 12000,\n",
      "                                 'train dataset': 'dataset/5dc5aa7ee47684746801adf8',\n",
      "                                 'train evaluation': 'evaluation/5dc5b6c07811dd7f2d019901',\n",
      "                                 'train source': 'source/5dc5aa7a5299631c820199a8'}},\n",
      "            24000: {'deepnet': {'bigml model': 'deepnet/5dc5b1e5e47684746801af12',\n",
      "                                'dev evaluation': 'evaluation/5dc5b70a5299631c82019a6a',\n",
      "                                'model type': 'deepnet',\n",
      "                                'size': 24000,\n",
      "                                'train dataset': 'dataset/5dc5aa8a7811dd7f2d019835',\n",
      "                                'train evaluation': 'evaluation/5dc5b715e47684746801af39',\n",
      "                                'train source': 'source/5dc5aa845299631c820199b1'},\n",
      "                    'ensemble': {'bigml model': 'ensemble/5dc5b1d5e47684746801af0f',\n",
      "                                 'dev evaluation': 'evaluation/5dc5b6e7e47684746801af36',\n",
      "                                 'model type': 'ensemble',\n",
      "                                 'size': 24000,\n",
      "                                 'train dataset': 'dataset/5dc5aa8a7811dd7f2d019835',\n",
      "                                 'train evaluation': 'evaluation/5dc5b6f95299631c82019a67',\n",
      "                                 'train source': 'source/5dc5aa845299631c820199b1'}},\n",
      "            36000: {'deepnet': {'bigml model': 'deepnet/5dc5b22b7811dd7f2d0198ef',\n",
      "                                'dev evaluation': 'evaluation/5dc5b7435299631c82019a70',\n",
      "                                'model type': 'deepnet',\n",
      "                                'size': 36000,\n",
      "                                'train dataset': 'dataset/5dc5aa9f5299632029006882',\n",
      "                                'train evaluation': 'evaluation/5dc5b74e5299631c82019a73',\n",
      "                                'train source': 'source/5dc5aa9a7811dd7f2d01983f'},\n",
      "                    'ensemble': {'bigml model': 'ensemble/5dc5b21be47684746801af15',\n",
      "                                 'dev evaluation': 'evaluation/5dc5b7215299631c82019a6d',\n",
      "                                 'model type': 'ensemble',\n",
      "                                 'size': 36000,\n",
      "                                 'train dataset': 'dataset/5dc5aa9f5299632029006882',\n",
      "                                 'train evaluation': 'evaluation/5dc5b7317811dd7f2d019907',\n",
      "                                 'train source': 'source/5dc5aa9a7811dd7f2d01983f'}},\n",
      "            48000: {'deepnet': {'bigml model': 'deepnet/5dc5b2845299631c82019a5b',\n",
      "                                'dev evaluation': 'evaluation/5dc5b7827811dd055c001f5a',\n",
      "                                'model type': 'deepnet',\n",
      "                                'size': 48000,\n",
      "                                'train dataset': 'dataset/5dc5aabfe47684746801ae17',\n",
      "                                'train evaluation': 'evaluation/5dc5b78d7811dd7f2d01990d',\n",
      "                                'train source': 'source/5dc5aaba5299631de9002588'},\n",
      "                    'ensemble': {'bigml model': 'ensemble/5dc5b2755299631c82019a58',\n",
      "                                 'dev evaluation': 'evaluation/5dc5b7597811dd0557001efe',\n",
      "                                 'model type': 'ensemble',\n",
      "                                 'size': 48000,\n",
      "                                 'train dataset': 'dataset/5dc5aabfe47684746801ae17',\n",
      "                                 'train evaluation': 'evaluation/5dc5b76f7811dd7f2d01990a',\n",
      "                                 'train source': 'source/5dc5aaba5299631de9002588'}},\n",
      "            60000: {'deepnet': {'bigml model': 'deepnet/5dc5b2fe7811dd7f2d0198f2',\n",
      "                                'dev evaluation': 'evaluation/5dc5b7d77811dd0557001f01',\n",
      "                                'model type': 'deepnet',\n",
      "                                'size': 60000,\n",
      "                                'train dataset': 'dataset/5dc5aad97811dd7f2d019854',\n",
      "                                'train evaluation': 'evaluation/5dc5b7e25299631c82019a79',\n",
      "                                'train source': 'source/5dc5aad37811dd7f2d019851'},\n",
      "                    'ensemble': {'bigml model': 'ensemble/5dc5b2e5e47684746801af18',\n",
      "                                 'dev evaluation': 'evaluation/5dc5b797e47684746801af3c',\n",
      "                                 'model type': 'ensemble',\n",
      "                                 'size': 60000,\n",
      "                                 'train dataset': 'dataset/5dc5aad97811dd7f2d019854',\n",
      "                                 'train evaluation': 'evaluation/5dc5b7b05299631c82019a76',\n",
      "                                 'train source': 'source/5dc5aad37811dd7f2d019851'}},\n",
      "            72000: {'deepnet': {'bigml model': 'deepnet/5dc5b3677811dd7f2d0198f8',\n",
      "                                'dev evaluation': 'evaluation/5dc5b8205299631c82019a82',\n",
      "                                'model type': 'deepnet',\n",
      "                                'size': 72000,\n",
      "                                'train dataset': 'dataset/5dc5ab0f7811dd7f2d019857',\n",
      "                                'train evaluation': 'evaluation/5dc5b82ee47684749e002161',\n",
      "                                'train source': 'source/5dc5ab095299631c820199c6'},\n",
      "                    'ensemble': {'bigml model': 'ensemble/5dc5b3507811dd7f2d0198f5',\n",
      "                                 'dev evaluation': 'evaluation/5dc5b7ee5299631c82019a7c',\n",
      "                                 'model type': 'ensemble',\n",
      "                                 'size': 72000,\n",
      "                                 'train dataset': 'dataset/5dc5ab0f7811dd7f2d019857',\n",
      "                                 'train evaluation': 'evaluation/5dc5b803e47684746801af3f',\n",
      "                                 'train source': 'source/5dc5ab095299631c820199c6'}},\n",
      "            84000: {'deepnet': {'bigml model': 'deepnet/5dc5b3c67811dd7f2d0198fb',\n",
      "                                'dev evaluation': 'evaluation/5dc5b87e5299631c82019a88',\n",
      "                                'model type': 'deepnet',\n",
      "                                'size': 84000,\n",
      "                                'train dataset': 'dataset/5dc5ab2e5299631c820199c9',\n",
      "                                'train evaluation': 'evaluation/5dc5b889e47684746801af48',\n",
      "                                'train source': 'source/5dc5ab29e47684746801ae1a'},\n",
      "                    'ensemble': {'bigml model': 'ensemble/5dc5b3b35299631c82019a5e',\n",
      "                                 'dev evaluation': 'evaluation/5dc5b839e47684746801af42',\n",
      "                                 'model type': 'ensemble',\n",
      "                                 'size': 84000,\n",
      "                                 'train dataset': 'dataset/5dc5ab2e5299631c820199c9',\n",
      "                                 'train evaluation': 'evaluation/5dc5b84a7811dd7f2d019914',\n",
      "                                 'train source': 'source/5dc5ab29e47684746801ae1a'}},\n",
      "            96000: {'deepnet': {'bigml model': 'deepnet/5dc5b4487811dd7f2d0198fe',\n",
      "                                'dev evaluation': 'evaluation/5dc5b8d8e47684746801af4e',\n",
      "                                'model type': 'deepnet',\n",
      "                                'size': 96000,\n",
      "                                'train dataset': 'dataset/5dc5ad60e476847405001127',\n",
      "                                'train evaluation': 'evaluation/5dc5b8e3e47684740500112d',\n",
      "                                'train source': 'source/5dc5ad5b5299631c82019a01'},\n",
      "                    'ensemble': {'bigml model': 'ensemble/5dc5b42ee47684746801af1b',\n",
      "                                 'dev evaluation': 'evaluation/5dc5b8977811dd013700216c',\n",
      "                                 'model type': 'ensemble',\n",
      "                                 'size': 96000,\n",
      "                                 'train dataset': 'dataset/5dc5ad60e476847405001127',\n",
      "                                 'train evaluation': 'evaluation/5dc5b8ade47684746801af4b',\n",
      "                                 'train source': 'source/5dc5ad5b5299631c82019a01'}},\n",
      "            108000: {'deepnet': {'bigml model': 'deepnet/5dc5b4fe7811dd0137002166',\n",
      "                                 'dev evaluation': 'evaluation/5dc5b925e4768473b6000dee',\n",
      "                                 'model type': 'deepnet',\n",
      "                                 'size': 108000,\n",
      "                                 'train dataset': 'dataset/5dc5ad90e47684746801ae93',\n",
      "                                 'train evaluation': 'evaluation/5dc5b92e7811dd7f2d01991d',\n",
      "                                 'train source': 'source/5dc5ad8b5299631c82019a0a'},\n",
      "                     'ensemble': {'bigml model': 'ensemble/5dc5b4e6e47684746801af21',\n",
      "                                  'dev evaluation': 'evaluation/5dc5b8f27811dd7f2d01991a',\n",
      "                                  'model type': 'ensemble',\n",
      "                                  'size': 108000,\n",
      "                                  'train dataset': 'dataset/5dc5ad90e47684746801ae93',\n",
      "                                  'train evaluation': 'evaluation/5dc5b901e47684746801af51',\n",
      "                                  'train source': 'source/5dc5ad8b5299631c82019a0a'}},\n",
      "            120000: {'deepnet': {'bigml model': 'deepnet/5dc5b57b5299631c82019a61',\n",
      "                                 'dev evaluation': 'evaluation/5dc5b97852996320240017c3',\n",
      "                                 'model type': 'deepnet',\n",
      "                                 'size': 120000,\n",
      "                                 'train dataset': 'dataset/5dc5adcd7811dd7f2d0198a8',\n",
      "                                 'train evaluation': 'evaluation/5dc5b98152996320280017ba',\n",
      "                                 'train source': 'source/5dc5adc8529963202900688b'},\n",
      "                     'ensemble': {'bigml model': 'ensemble/5dc5b55fe47684746801af24',\n",
      "                                  'dev evaluation': 'evaluation/5dc5b93e5299631c82019a8b',\n",
      "                                  'model type': 'ensemble',\n",
      "                                  'size': 120000,\n",
      "                                  'train dataset': 'dataset/5dc5adcd7811dd7f2d0198a8',\n",
      "                                  'train evaluation': 'evaluation/5dc5b94e5299631c82019a8e',\n",
      "                                  'train source': 'source/5dc5adc8529963202900688b'}}},\n",
      " 'test file': 'cs-test.csv',\n",
      " 'train datasets': {12000: 'dataset/5dc5aa7ee47684746801adf8',\n",
      "                    24000: 'dataset/5dc5aa8a7811dd7f2d019835',\n",
      "                    36000: 'dataset/5dc5aa9f5299632029006882',\n",
      "                    48000: 'dataset/5dc5aabfe47684746801ae17',\n",
      "                    60000: 'dataset/5dc5aad97811dd7f2d019854',\n",
      "                    72000: 'dataset/5dc5ab0f7811dd7f2d019857',\n",
      "                    84000: 'dataset/5dc5ab2e5299631c820199c9',\n",
      "                    96000: 'dataset/5dc5ad60e476847405001127',\n",
      "                    108000: 'dataset/5dc5ad90e47684746801ae93',\n",
      "                    120000: 'dataset/5dc5adcd7811dd7f2d0198a8'},\n",
      " 'train sources': {12000: 'source/5dc5aa7a5299631c820199a8',\n",
      "                   24000: 'source/5dc5aa845299631c820199b1',\n",
      "                   36000: 'source/5dc5aa9a7811dd7f2d01983f',\n",
      "                   48000: 'source/5dc5aaba5299631de9002588',\n",
      "                   60000: 'source/5dc5aad37811dd7f2d019851',\n",
      "                   72000: 'source/5dc5ab095299631c820199c6',\n",
      "                   84000: 'source/5dc5ab29e47684746801ae1a',\n",
      "                   96000: 'source/5dc5ad5b5299631c82019a01',\n",
      "                   108000: 'source/5dc5ad8b5299631c82019a0a',\n",
      "                   120000: 'source/5dc5adc8529963202900688b'}}\n"
     ]
    }
   ],
   "source": [
    "pprint(project_data)\n",
    "data_save(project_data)"
   ]
  },
  {
   "cell_type": "markdown",
   "metadata": {},
   "source": [
    "We retrieve the results of the evaluations"
   ]
  },
  {
   "cell_type": "code",
   "execution_count": 33,
   "metadata": {},
   "outputs": [],
   "source": [
    "deepnet_train_auc=[]\n",
    "ensemble_train_auc=[]\n",
    "deepnet_train_accuracy=[]\n",
    "ensemble_train_accuracy=[]\n",
    "deepnet_dev_auc=[]\n",
    "ensemble_dev_auc=[]\n",
    "deepnet_dev_accuracy=[]\n",
    "ensemble_dev_accuracy=[]\n",
    "\n",
    "\n",
    "for size in training_sizes:\n",
    "    evaluation = api.get_evaluation(project_data['models'][size]['deepnet']['train evaluation'])\n",
    "    auc = evaluation['object']['result']['model']['average_area_under_roc_curve']\n",
    "    accuracy = evaluation['object']['result']['model']['accuracy']\n",
    "    deepnet_train_auc.append(auc)\n",
    "    deepnet_train_accuracy.append(accuracy)\n",
    "    \n",
    "    evaluation = api.get_evaluation(project_data['models'][size]['ensemble']['train evaluation'])\n",
    "    auc = evaluation['object']['result']['model']['average_area_under_roc_curve']\n",
    "    accuracy = evaluation['object']['result']['model']['accuracy']\n",
    "    ensemble_train_auc.append(auc)\n",
    "    ensemble_train_accuracy.append(accuracy)\n",
    "    \n",
    "    evaluation = api.get_evaluation(project_data['models'][size]['deepnet']['dev evaluation'])\n",
    "    auc = evaluation['object']['result']['model']['average_area_under_roc_curve']\n",
    "    accuracy = evaluation['object']['result']['model']['accuracy']\n",
    "    deepnet_dev_auc.append(auc)\n",
    "    deepnet_dev_accuracy.append(accuracy)\n",
    "    \n",
    "    evaluation = api.get_evaluation(project_data['models'][size]['ensemble']['dev evaluation'])\n",
    "    auc = evaluation['object']['result']['model']['average_area_under_roc_curve']\n",
    "    accuracy = evaluation['object']['result']['model']['accuracy']\n",
    "    ensemble_dev_auc.append(auc)\n",
    "    ensemble_dev_accuracy.append(accuracy)"
   ]
  },
  {
   "cell_type": "markdown",
   "metadata": {},
   "source": [
    "We display the graphs"
   ]
  },
  {
   "cell_type": "code",
   "execution_count": 34,
   "metadata": {},
   "outputs": [
    {
     "data": {
      "image/png": "[encoded data removed]",
      "text/plain": [
       "<Figure size 1296x936 with 3 Axes>"
      ]
     },
     "metadata": {
      "needs_background": "light"
     },
     "output_type": "display_data"
    }
   ],
   "source": [
    "plt.subplots(3,1, figsize=(18, 13))\n",
    "plt.subplots_adjust(hspace = 0.3)\n",
    "plt.subplot(3,1,1)\n",
    "plt.plot(training_sizes, deepnet_dev_auc, label=\"Deepnet\")\n",
    "plt.plot(training_sizes, ensemble_dev_auc, label=\"Ensemble\")\n",
    "plt.xlabel('training set size')\n",
    "plt.ylabel('AUC')\n",
    "plt.title('Learning Curve: Deepnet vs Ensemble')\n",
    "plt.grid()\n",
    "plt.legend()\n",
    "plt.subplot(3,1,2)\n",
    "plt.plot(training_sizes, deepnet_train_auc, label=\"training\")\n",
    "plt.plot(training_sizes, deepnet_dev_auc, label=\"dev\")\n",
    "plt.plot([0,150000],[0.87, 0.87])\n",
    "plt.xlabel('training set size')\n",
    "plt.ylabel('AUC')\n",
    "plt.title('Deepnet Learning Curve: dev vs training')\n",
    "plt.grid()\n",
    "plt.legend()\n",
    "plt.subplot(3,1,3)\n",
    "plt.plot(training_sizes, ensemble_train_auc, label=\"training\")\n",
    "plt.plot(training_sizes, ensemble_dev_auc, label=\"dev\")\n",
    "plt.plot([0,150000],[0.87, 0.87])\n",
    "plt.xlabel('training set size')\n",
    "plt.ylabel('AUC')\n",
    "plt.title('Ensemble Learning Curve: dev vs training')\n",
    "plt.grid()\n",
    "plt.legend()\n",
    "plt.show()"
   ]
  },
  {
   "cell_type": "code",
   "execution_count": null,
   "metadata": {},
   "outputs": [],
   "source": []
  }
 ],
 "metadata": {
  "kernelspec": {
   "display_name": "Python 3",
   "language": "python",
   "name": "python3"
  },
  "language_info": {
   "codemirror_mode": {
    "name": "ipython",
    "version": 3
   },
   "file_extension": ".py",
   "mimetype": "text/x-python",
   "name": "python",
   "nbconvert_exporter": "python",
   "pygments_lexer": "ipython3",
   "version": "3.7.3"
  }
 },
 "nbformat": 4,
 "nbformat_minor": 2
}
