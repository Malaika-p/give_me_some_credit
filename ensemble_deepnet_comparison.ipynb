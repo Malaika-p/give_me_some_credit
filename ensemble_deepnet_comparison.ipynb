{
 "cells": [
  {
   "cell_type": "code",
   "execution_count": 212,
   "metadata": {},
   "outputs": [],
   "source": [
    "import pandas\n",
    "from pandas import DataFrame, read_csv\n",
    "import bigml.api\n",
    "from bigml.api import BigML\n",
    "import matplotlib.pyplot as plt"
   ]
  },
  {
   "cell_type": "code",
   "execution_count": 3,
   "metadata": {},
   "outputs": [],
   "source": [
    "api = BigML(project='project/5dbc4cc1f80b1640d7002229')"
   ]
  },
  {
   "cell_type": "markdown",
   "metadata": {},
   "source": [
    "we retrieve our data"
   ]
  },
  {
   "cell_type": "code",
   "execution_count": 10,
   "metadata": {},
   "outputs": [],
   "source": [
    "df1 =read_csv(r'dataset_deepnet_ensemble/training_set1.csv',index_col=0)\n",
    "df2 =read_csv('dataset_deepnet_ensemble/training_set2.csv',index_col=0)\n",
    "df3 =read_csv('dataset_deepnet_ensemble/training_set3.csv',index_col=0)\n",
    "df4 =read_csv('dataset_deepnet_ensemble/training_set4.csv',index_col=0)\n",
    "df5 =read_csv('dataset_deepnet_ensemble/training_set5.csv',index_col=0)\n",
    "df6 =read_csv('dataset_deepnet_ensemble/training_set6.csv',index_col=0)\n",
    "df7 =read_csv('dataset_deepnet_ensemble/training_set7.csv',index_col=0)\n",
    "df8 =read_csv('dataset_deepnet_ensemble/training_set8.csv',index_col=0)\n",
    "df9=read_csv('dataset_deepnet_ensemble/training_set9.csv',index_col=0)\n",
    "df10 =read_csv('dataset_deepnet_ensemble/training_set10.csv',index_col=0)\n",
    "df11 =read_csv('dataset_deepnet_ensemble/training_set11.csv',index_col=0)\n",
    "df12 =read_csv('dataset_deepnet_ensemble/training_set12.csv',index_col=0)\n",
    "df13 =read_csv('dataset_deepnet_ensemble/training_set13.csv',index_col=0)\n",
    "df14 =read_csv('dataset_deepnet_ensemble/training_set14.csv',index_col=0)\n",
    "df15 =read_csv('dataset_deepnet_ensemble/training_set15.csv',index_col=0)\n",
    "df16 =read_csv('dataset_deepnet_ensemble/training_set16.csv',index_col=0)\n",
    "df17 =read_csv('dataset_deepnet_ensemble/training_set17.csv',index_col=0)\n",
    "df18 =read_csv('dataset_deepnet_ensemble/training_set18.csv',index_col=0)\n",
    "df19 =read_csv('dataset_deepnet_ensemble/training_set19.csv',index_col=0)\n",
    "df20 =read_csv('dataset_deepnet_ensemble/training_set20.csv',index_col=0)"
   ]
  },
  {
   "cell_type": "code",
   "execution_count": 92,
   "metadata": {},
   "outputs": [],
   "source": [
    "train1 = df1\n",
    "train2 = pandas.concat([train1,df2])\n",
    "train3 = pandas.concat([train2 , df3])\n",
    "train4 = pandas.concat([train3 , df4])\n",
    "train5 = pandas.concat([train4,df5])\n",
    "train6 = pandas.concat([train5 , df6])\n",
    "train7 = pandas.concat([train6 , df7])\n",
    "train8 = pandas.concat([train7 , df8])\n",
    "train9 = pandas.concat([train8 , df9])\n",
    "train10= pandas.concat([train9 , df10])\n",
    "train11 = pandas.concat([train10 , df11])\n",
    "train12 = pandas.concat([train11 , df12])\n",
    "train13 = pandas.concat([train12 , df13])\n",
    "train14 = pandas.concat([train13 , df14])\n",
    "train15 = pandas.concat([train14 , df15])\n",
    "train16 = pandas.concat([train15 , df16])\n",
    "train17 = pandas.concat([train16 , df17])\n",
    "train18 = pandas.concat([train17 , df18])\n",
    "train19 = pandas.concat([train18 , df19])\n",
    "train20 = pandas.concat([train19 , df20])\n"
   ]
  },
  {
   "cell_type": "code",
   "execution_count": 93,
   "metadata": {
    "scrolled": true
   },
   "outputs": [
    {
     "data": {
      "text/html": [
       "<div>\n",
       "<style scoped>\n",
       "    .dataframe tbody tr th:only-of-type {\n",
       "        vertical-align: middle;\n",
       "    }\n",
       "\n",
       "    .dataframe tbody tr th {\n",
       "        vertical-align: top;\n",
       "    }\n",
       "\n",
       "    .dataframe thead th {\n",
       "        text-align: right;\n",
       "    }\n",
       "</style>\n",
       "<table border=\"1\" class=\"dataframe\">\n",
       "  <thead>\n",
       "    <tr style=\"text-align: right;\">\n",
       "      <th></th>\n",
       "      <th>RevolvingUtilizationOfUnsecuredLines</th>\n",
       "      <th>age</th>\n",
       "      <th>DebtRatio</th>\n",
       "      <th>MonthlyIncome</th>\n",
       "      <th>MonthlyDebt</th>\n",
       "      <th>DisposableIncome</th>\n",
       "      <th>BalancedIncome</th>\n",
       "      <th>NumberOfOpenCreditLinesAndLoans</th>\n",
       "      <th>NumberRealEstateLoansOrLines</th>\n",
       "      <th>NumberOfTime30-59DaysPastDueNotWorse</th>\n",
       "      <th>NumberOfTime60-89DaysPastDueNotWorse</th>\n",
       "      <th>NumberOfTimes90DaysLate</th>\n",
       "      <th>WeightedOfLatePayment</th>\n",
       "      <th>NumberOfDependents</th>\n",
       "      <th>SeriousDlqin2yrs</th>\n",
       "    </tr>\n",
       "  </thead>\n",
       "  <tbody>\n",
       "    <tr>\n",
       "      <td>71137</td>\n",
       "      <td>0.048342</td>\n",
       "      <td>56</td>\n",
       "      <td>0.398815</td>\n",
       "      <td>5736.0</td>\n",
       "      <td>2287.601188</td>\n",
       "      <td>3448.398812</td>\n",
       "      <td>5736.0</td>\n",
       "      <td>10</td>\n",
       "      <td>1</td>\n",
       "      <td>0</td>\n",
       "      <td>0</td>\n",
       "      <td>1</td>\n",
       "      <td>3</td>\n",
       "      <td>0.0</td>\n",
       "      <td>0</td>\n",
       "    </tr>\n",
       "    <tr>\n",
       "      <td>2884</td>\n",
       "      <td>0.010038</td>\n",
       "      <td>58</td>\n",
       "      <td>0.004386</td>\n",
       "      <td>9803.0</td>\n",
       "      <td>42.995615</td>\n",
       "      <td>9760.004385</td>\n",
       "      <td>9803.0</td>\n",
       "      <td>10</td>\n",
       "      <td>0</td>\n",
       "      <td>0</td>\n",
       "      <td>0</td>\n",
       "      <td>0</td>\n",
       "      <td>0</td>\n",
       "      <td>0.0</td>\n",
       "      <td>0</td>\n",
       "    </tr>\n",
       "    <tr>\n",
       "      <td>126665</td>\n",
       "      <td>0.015350</td>\n",
       "      <td>86</td>\n",
       "      <td>0.002369</td>\n",
       "      <td>4221.0</td>\n",
       "      <td>9.997633</td>\n",
       "      <td>4211.002367</td>\n",
       "      <td>4221.0</td>\n",
       "      <td>7</td>\n",
       "      <td>0</td>\n",
       "      <td>0</td>\n",
       "      <td>0</td>\n",
       "      <td>0</td>\n",
       "      <td>0</td>\n",
       "      <td>0.0</td>\n",
       "      <td>0</td>\n",
       "    </tr>\n",
       "    <tr>\n",
       "      <td>2262</td>\n",
       "      <td>0.038046</td>\n",
       "      <td>56</td>\n",
       "      <td>0.240269</td>\n",
       "      <td>14000.0</td>\n",
       "      <td>3363.759728</td>\n",
       "      <td>10636.240272</td>\n",
       "      <td>7000.0</td>\n",
       "      <td>8</td>\n",
       "      <td>2</td>\n",
       "      <td>0</td>\n",
       "      <td>0</td>\n",
       "      <td>0</td>\n",
       "      <td>0</td>\n",
       "      <td>1.0</td>\n",
       "      <td>0</td>\n",
       "    </tr>\n",
       "    <tr>\n",
       "      <td>50256</td>\n",
       "      <td>0.031339</td>\n",
       "      <td>50</td>\n",
       "      <td>0.355433</td>\n",
       "      <td>4720.0</td>\n",
       "      <td>1677.644567</td>\n",
       "      <td>3042.355433</td>\n",
       "      <td>1180.0</td>\n",
       "      <td>7</td>\n",
       "      <td>1</td>\n",
       "      <td>1</td>\n",
       "      <td>0</td>\n",
       "      <td>1</td>\n",
       "      <td>4</td>\n",
       "      <td>3.0</td>\n",
       "      <td>1</td>\n",
       "    </tr>\n",
       "    <tr>\n",
       "      <td>...</td>\n",
       "      <td>...</td>\n",
       "      <td>...</td>\n",
       "      <td>...</td>\n",
       "      <td>...</td>\n",
       "      <td>...</td>\n",
       "      <td>...</td>\n",
       "      <td>...</td>\n",
       "      <td>...</td>\n",
       "      <td>...</td>\n",
       "      <td>...</td>\n",
       "      <td>...</td>\n",
       "      <td>...</td>\n",
       "      <td>...</td>\n",
       "      <td>...</td>\n",
       "      <td>...</td>\n",
       "    </tr>\n",
       "    <tr>\n",
       "      <td>60457</td>\n",
       "      <td>1.027431</td>\n",
       "      <td>66</td>\n",
       "      <td>0.003842</td>\n",
       "      <td>3122.0</td>\n",
       "      <td>11.996157</td>\n",
       "      <td>3110.003843</td>\n",
       "      <td>3122.0</td>\n",
       "      <td>1</td>\n",
       "      <td>0</td>\n",
       "      <td>0</td>\n",
       "      <td>0</td>\n",
       "      <td>0</td>\n",
       "      <td>0</td>\n",
       "      <td>0.0</td>\n",
       "      <td>0</td>\n",
       "    </tr>\n",
       "    <tr>\n",
       "      <td>66338</td>\n",
       "      <td>0.003457</td>\n",
       "      <td>58</td>\n",
       "      <td>0.176551</td>\n",
       "      <td>11650.0</td>\n",
       "      <td>2056.823449</td>\n",
       "      <td>9593.176551</td>\n",
       "      <td>11650.0</td>\n",
       "      <td>6</td>\n",
       "      <td>1</td>\n",
       "      <td>0</td>\n",
       "      <td>0</td>\n",
       "      <td>0</td>\n",
       "      <td>0</td>\n",
       "      <td>0.0</td>\n",
       "      <td>0</td>\n",
       "    </tr>\n",
       "    <tr>\n",
       "      <td>115551</td>\n",
       "      <td>0.112720</td>\n",
       "      <td>24</td>\n",
       "      <td>0.548726</td>\n",
       "      <td>2000.0</td>\n",
       "      <td>1097.451274</td>\n",
       "      <td>902.548726</td>\n",
       "      <td>1000.0</td>\n",
       "      <td>6</td>\n",
       "      <td>1</td>\n",
       "      <td>0</td>\n",
       "      <td>0</td>\n",
       "      <td>0</td>\n",
       "      <td>0</td>\n",
       "      <td>1.0</td>\n",
       "      <td>0</td>\n",
       "    </tr>\n",
       "    <tr>\n",
       "      <td>4903</td>\n",
       "      <td>0.985735</td>\n",
       "      <td>51</td>\n",
       "      <td>0.413799</td>\n",
       "      <td>5405.0</td>\n",
       "      <td>2236.586200</td>\n",
       "      <td>3168.413800</td>\n",
       "      <td>5405.0</td>\n",
       "      <td>6</td>\n",
       "      <td>1</td>\n",
       "      <td>0</td>\n",
       "      <td>0</td>\n",
       "      <td>0</td>\n",
       "      <td>0</td>\n",
       "      <td>0.0</td>\n",
       "      <td>0</td>\n",
       "    </tr>\n",
       "    <tr>\n",
       "      <td>48369</td>\n",
       "      <td>0.127976</td>\n",
       "      <td>57</td>\n",
       "      <td>0.300000</td>\n",
       "      <td>0.0</td>\n",
       "      <td>6211.000000</td>\n",
       "      <td>0.000000</td>\n",
       "      <td>0.0</td>\n",
       "      <td>35</td>\n",
       "      <td>2</td>\n",
       "      <td>0</td>\n",
       "      <td>0</td>\n",
       "      <td>0</td>\n",
       "      <td>0</td>\n",
       "      <td>0.0</td>\n",
       "      <td>0</td>\n",
       "    </tr>\n",
       "  </tbody>\n",
       "</table>\n",
       "<p>12000 rows × 15 columns</p>\n",
       "</div>"
      ],
      "text/plain": [
       "        RevolvingUtilizationOfUnsecuredLines  age  DebtRatio  MonthlyIncome  \\\n",
       "71137                               0.048342   56   0.398815         5736.0   \n",
       "2884                                0.010038   58   0.004386         9803.0   \n",
       "126665                              0.015350   86   0.002369         4221.0   \n",
       "2262                                0.038046   56   0.240269        14000.0   \n",
       "50256                               0.031339   50   0.355433         4720.0   \n",
       "...                                      ...  ...        ...            ...   \n",
       "60457                               1.027431   66   0.003842         3122.0   \n",
       "66338                               0.003457   58   0.176551        11650.0   \n",
       "115551                              0.112720   24   0.548726         2000.0   \n",
       "4903                                0.985735   51   0.413799         5405.0   \n",
       "48369                               0.127976   57   0.300000            0.0   \n",
       "\n",
       "        MonthlyDebt  DisposableIncome  BalancedIncome  \\\n",
       "71137   2287.601188       3448.398812          5736.0   \n",
       "2884      42.995615       9760.004385          9803.0   \n",
       "126665     9.997633       4211.002367          4221.0   \n",
       "2262    3363.759728      10636.240272          7000.0   \n",
       "50256   1677.644567       3042.355433          1180.0   \n",
       "...             ...               ...             ...   \n",
       "60457     11.996157       3110.003843          3122.0   \n",
       "66338   2056.823449       9593.176551         11650.0   \n",
       "115551  1097.451274        902.548726          1000.0   \n",
       "4903    2236.586200       3168.413800          5405.0   \n",
       "48369   6211.000000          0.000000             0.0   \n",
       "\n",
       "        NumberOfOpenCreditLinesAndLoans  NumberRealEstateLoansOrLines  \\\n",
       "71137                                10                             1   \n",
       "2884                                 10                             0   \n",
       "126665                                7                             0   \n",
       "2262                                  8                             2   \n",
       "50256                                 7                             1   \n",
       "...                                 ...                           ...   \n",
       "60457                                 1                             0   \n",
       "66338                                 6                             1   \n",
       "115551                                6                             1   \n",
       "4903                                  6                             1   \n",
       "48369                                35                             2   \n",
       "\n",
       "        NumberOfTime30-59DaysPastDueNotWorse  \\\n",
       "71137                                      0   \n",
       "2884                                       0   \n",
       "126665                                     0   \n",
       "2262                                       0   \n",
       "50256                                      1   \n",
       "...                                      ...   \n",
       "60457                                      0   \n",
       "66338                                      0   \n",
       "115551                                     0   \n",
       "4903                                       0   \n",
       "48369                                      0   \n",
       "\n",
       "        NumberOfTime60-89DaysPastDueNotWorse  NumberOfTimes90DaysLate  \\\n",
       "71137                                      0                        1   \n",
       "2884                                       0                        0   \n",
       "126665                                     0                        0   \n",
       "2262                                       0                        0   \n",
       "50256                                      0                        1   \n",
       "...                                      ...                      ...   \n",
       "60457                                      0                        0   \n",
       "66338                                      0                        0   \n",
       "115551                                     0                        0   \n",
       "4903                                       0                        0   \n",
       "48369                                      0                        0   \n",
       "\n",
       "        WeightedOfLatePayment  NumberOfDependents  SeriousDlqin2yrs  \n",
       "71137                       3                 0.0                 0  \n",
       "2884                        0                 0.0                 0  \n",
       "126665                      0                 0.0                 0  \n",
       "2262                        0                 1.0                 0  \n",
       "50256                       4                 3.0                 1  \n",
       "...                       ...                 ...               ...  \n",
       "60457                       0                 0.0                 0  \n",
       "66338                       0                 0.0                 0  \n",
       "115551                      0                 1.0                 0  \n",
       "4903                        0                 0.0                 0  \n",
       "48369                       0                 0.0                 0  \n",
       "\n",
       "[12000 rows x 15 columns]"
      ]
     },
     "execution_count": 93,
     "metadata": {},
     "output_type": "execute_result"
    }
   ],
   "source": [
    "train2"
   ]
  },
  {
   "cell_type": "code",
   "execution_count": 96,
   "metadata": {},
   "outputs": [],
   "source": [
    "train1.to_csv(r'dataset_deepnet_ensemble/bigml/training_set1.csv',  header=True)\n",
    "train2.to_csv(r'dataset_deepnet_ensemble/bigml/training_set2.csv',  header=True)\n",
    "train3.to_csv(r'dataset_deepnet_ensemble/bigml/training_set3.csv',  header=True)\n",
    "train4.to_csv(r'dataset_deepnet_ensemble/bigml/training_set4.csv',  header=True)\n",
    "train5.to_csv(r'dataset_deepnet_ensemble/bigml/training_set5.csv',  header=True)\n",
    "train6.to_csv(r'dataset_deepnet_ensemble/bigml/training_set6.csv',  header=True)\n",
    "train7.to_csv(r'dataset_deepnet_ensemble/bigml/training_set7.csv',  header=True)\n",
    "train8.to_csv(r'dataset_deepnet_ensemble/bigml/training_set8.csv',  header=True)\n",
    "train9.to_csv(r'dataset_deepnet_ensemble/bigml/training_set9.csv',  header=True)\n",
    "train10.to_csv(r'dataset_deepnet_ensemble/bigml/training_set10.csv',  header=True)\n",
    "train11.to_csv(r'dataset_deepnet_ensemble/bigml/training_set11.csv',  header=True)\n",
    "train12.to_csv(r'dataset_deepnet_ensemble/bigml/training_set12.csv',  header=True)\n",
    "train13.to_csv(r'dataset_deepnet_ensemble/bigml/training_set13.csv',  header=True)\n",
    "train14.to_csv(r'dataset_deepnet_ensemble/bigml/training_set14.csv',  header=True)\n",
    "train15.to_csv(r'dataset_deepnet_ensemble/bigml/training_set15.csv',  header=True)\n",
    "train16.to_csv(r'dataset_deepnet_ensemble/bigml/training_set16.csv',  header=True)\n",
    "train17.to_csv(r'dataset_deepnet_ensemble/bigml/training_set17.csv',  header=True)\n",
    "train18.to_csv(r'dataset_deepnet_ensemble/bigml/training_set18.csv',  header=True)\n",
    "train19.to_csv(r'dataset_deepnet_ensemble/bigml/training_set19.csv',  header=True)\n",
    "train20.to_csv(r'dataset_deepnet_ensemble/bigml/training_set20.csv',  header=True)"
   ]
  },
  {
   "cell_type": "markdown",
   "metadata": {},
   "source": [
    "## We create ours BigMl data set\n",
    "\n",
    "* we create source from csv file\n",
    "* we create the data set"
   ]
  },
  {
   "cell_type": "markdown",
   "metadata": {},
   "source": [
    "### Data set 1"
   ]
  },
  {
   "cell_type": "code",
   "execution_count": 97,
   "metadata": {
    "scrolled": true
   },
   "outputs": [
    {
     "data": {
      "text/plain": [
       "True"
      ]
     },
     "execution_count": 97,
     "metadata": {},
     "output_type": "execute_result"
    }
   ],
   "source": [
    "source1 = api.create_source('dataset_deepnet_ensemble/bigml/training_set1.csv')\n",
    "api.ok(source1)\n"
   ]
  },
  {
   "cell_type": "code",
   "execution_count": 98,
   "metadata": {},
   "outputs": [
    {
     "data": {
      "text/plain": [
       "True"
      ]
     },
     "execution_count": 98,
     "metadata": {},
     "output_type": "execute_result"
    }
   ],
   "source": [
    "dataset1 = api.create_dataset(source1)\n",
    "api.ok(dataset1) "
   ]
  },
  {
   "cell_type": "markdown",
   "metadata": {},
   "source": [
    "### Data set 2"
   ]
  },
  {
   "cell_type": "code",
   "execution_count": 99,
   "metadata": {},
   "outputs": [
    {
     "data": {
      "text/plain": [
       "True"
      ]
     },
     "execution_count": 99,
     "metadata": {},
     "output_type": "execute_result"
    }
   ],
   "source": [
    "source2 = api.create_source('dataset_deepnet_ensemble/bigml/training_set2.csv')\n",
    "api.ok(source2)"
   ]
  },
  {
   "cell_type": "code",
   "execution_count": 102,
   "metadata": {},
   "outputs": [
    {
     "data": {
      "text/plain": [
       "True"
      ]
     },
     "execution_count": 102,
     "metadata": {},
     "output_type": "execute_result"
    }
   ],
   "source": [
    "dataset2 = api.create_dataset(source2)\n",
    "api.ok(dataset2) "
   ]
  },
  {
   "cell_type": "markdown",
   "metadata": {},
   "source": [
    "### Data set 3"
   ]
  },
  {
   "cell_type": "code",
   "execution_count": 100,
   "metadata": {},
   "outputs": [
    {
     "data": {
      "text/plain": [
       "True"
      ]
     },
     "execution_count": 100,
     "metadata": {},
     "output_type": "execute_result"
    }
   ],
   "source": [
    "source3 = api.create_source('dataset_deepnet_ensemble/bigml/training_set3.csv')\n",
    "api.ok(source3)"
   ]
  },
  {
   "cell_type": "code",
   "execution_count": 103,
   "metadata": {},
   "outputs": [
    {
     "data": {
      "text/plain": [
       "True"
      ]
     },
     "execution_count": 103,
     "metadata": {},
     "output_type": "execute_result"
    }
   ],
   "source": [
    "dataset3 = api.create_dataset(source3)\n",
    "api.ok(dataset3) "
   ]
  },
  {
   "cell_type": "markdown",
   "metadata": {},
   "source": [
    "### Data set 4"
   ]
  },
  {
   "cell_type": "code",
   "execution_count": 101,
   "metadata": {},
   "outputs": [
    {
     "data": {
      "text/plain": [
       "True"
      ]
     },
     "execution_count": 101,
     "metadata": {},
     "output_type": "execute_result"
    }
   ],
   "source": [
    "source4 = api.create_source('dataset_deepnet_ensemble/bigml/training_set4.csv')\n",
    "api.ok(source4)"
   ]
  },
  {
   "cell_type": "code",
   "execution_count": 104,
   "metadata": {},
   "outputs": [
    {
     "data": {
      "text/plain": [
       "True"
      ]
     },
     "execution_count": 104,
     "metadata": {},
     "output_type": "execute_result"
    }
   ],
   "source": [
    "dataset4 = api.create_dataset(source4)\n",
    "api.ok(dataset4) "
   ]
  },
  {
   "cell_type": "markdown",
   "metadata": {},
   "source": [
    "### Data set 5"
   ]
  },
  {
   "cell_type": "code",
   "execution_count": 105,
   "metadata": {},
   "outputs": [
    {
     "data": {
      "text/plain": [
       "True"
      ]
     },
     "execution_count": 105,
     "metadata": {},
     "output_type": "execute_result"
    }
   ],
   "source": [
    "source5 = api.create_source('dataset_deepnet_ensemble/bigml/training_set5.csv')\n",
    "api.ok(source5)"
   ]
  },
  {
   "cell_type": "code",
   "execution_count": 106,
   "metadata": {},
   "outputs": [
    {
     "data": {
      "text/plain": [
       "True"
      ]
     },
     "execution_count": 106,
     "metadata": {},
     "output_type": "execute_result"
    }
   ],
   "source": [
    "dataset5 = api.create_dataset(source5)\n",
    "api.ok(dataset5) "
   ]
  },
  {
   "cell_type": "markdown",
   "metadata": {},
   "source": [
    "### Data set 6"
   ]
  },
  {
   "cell_type": "code",
   "execution_count": 107,
   "metadata": {},
   "outputs": [
    {
     "data": {
      "text/plain": [
       "True"
      ]
     },
     "execution_count": 107,
     "metadata": {},
     "output_type": "execute_result"
    }
   ],
   "source": [
    "source6 = api.create_source('dataset_deepnet_ensemble/bigml/training_set6.csv')\n",
    "api.ok(source6)"
   ]
  },
  {
   "cell_type": "code",
   "execution_count": 109,
   "metadata": {},
   "outputs": [
    {
     "data": {
      "text/plain": [
       "True"
      ]
     },
     "execution_count": 109,
     "metadata": {},
     "output_type": "execute_result"
    }
   ],
   "source": [
    "dataset6 = api.create_dataset(source6)\n",
    "api.ok(dataset6) "
   ]
  },
  {
   "cell_type": "markdown",
   "metadata": {},
   "source": [
    "### Data set 7"
   ]
  },
  {
   "cell_type": "code",
   "execution_count": 108,
   "metadata": {},
   "outputs": [
    {
     "data": {
      "text/plain": [
       "True"
      ]
     },
     "execution_count": 108,
     "metadata": {},
     "output_type": "execute_result"
    }
   ],
   "source": [
    "source7 = api.create_source('dataset_deepnet_ensemble/bigml/training_set7.csv')\n",
    "api.ok(source7)"
   ]
  },
  {
   "cell_type": "code",
   "execution_count": 111,
   "metadata": {},
   "outputs": [
    {
     "data": {
      "text/plain": [
       "True"
      ]
     },
     "execution_count": 111,
     "metadata": {},
     "output_type": "execute_result"
    }
   ],
   "source": [
    "dataset7 = api.create_dataset(source7)\n",
    "api.ok(dataset7) "
   ]
  },
  {
   "cell_type": "markdown",
   "metadata": {},
   "source": [
    "### Data set 8"
   ]
  },
  {
   "cell_type": "code",
   "execution_count": 110,
   "metadata": {},
   "outputs": [
    {
     "data": {
      "text/plain": [
       "True"
      ]
     },
     "execution_count": 110,
     "metadata": {},
     "output_type": "execute_result"
    }
   ],
   "source": [
    "source8 = api.create_source('dataset_deepnet_ensemble/bigml/training_set8.csv')\n",
    "api.ok(source8)"
   ]
  },
  {
   "cell_type": "code",
   "execution_count": 114,
   "metadata": {},
   "outputs": [
    {
     "data": {
      "text/plain": [
       "True"
      ]
     },
     "execution_count": 114,
     "metadata": {},
     "output_type": "execute_result"
    }
   ],
   "source": [
    "dataset8 = api.create_dataset(source8)\n",
    "api.ok(dataset8) "
   ]
  },
  {
   "cell_type": "markdown",
   "metadata": {},
   "source": [
    "### Data set 9"
   ]
  },
  {
   "cell_type": "code",
   "execution_count": 112,
   "metadata": {},
   "outputs": [
    {
     "data": {
      "text/plain": [
       "True"
      ]
     },
     "execution_count": 112,
     "metadata": {},
     "output_type": "execute_result"
    }
   ],
   "source": [
    "source9 = api.create_source('dataset_deepnet_ensemble/bigml/training_set9.csv')\n",
    "api.ok(source9)"
   ]
  },
  {
   "cell_type": "code",
   "execution_count": 115,
   "metadata": {},
   "outputs": [
    {
     "data": {
      "text/plain": [
       "True"
      ]
     },
     "execution_count": 115,
     "metadata": {},
     "output_type": "execute_result"
    }
   ],
   "source": [
    "dataset9 = api.create_dataset(source9)\n",
    "api.ok(dataset9) "
   ]
  },
  {
   "cell_type": "markdown",
   "metadata": {},
   "source": [
    "### Data set 10"
   ]
  },
  {
   "cell_type": "code",
   "execution_count": 113,
   "metadata": {},
   "outputs": [
    {
     "data": {
      "text/plain": [
       "True"
      ]
     },
     "execution_count": 113,
     "metadata": {},
     "output_type": "execute_result"
    }
   ],
   "source": [
    "source10 = api.create_source('dataset_deepnet_ensemble/bigml/training_set10.csv')\n",
    "api.ok(source10)"
   ]
  },
  {
   "cell_type": "code",
   "execution_count": 116,
   "metadata": {},
   "outputs": [
    {
     "data": {
      "text/plain": [
       "True"
      ]
     },
     "execution_count": 116,
     "metadata": {},
     "output_type": "execute_result"
    }
   ],
   "source": [
    "dataset10 = api.create_dataset(source10)\n",
    "api.ok(dataset10) "
   ]
  },
  {
   "cell_type": "markdown",
   "metadata": {},
   "source": [
    "### Data set 11"
   ]
  },
  {
   "cell_type": "code",
   "execution_count": 117,
   "metadata": {},
   "outputs": [
    {
     "data": {
      "text/plain": [
       "True"
      ]
     },
     "execution_count": 117,
     "metadata": {},
     "output_type": "execute_result"
    }
   ],
   "source": [
    "source11 = api.create_source('dataset_deepnet_ensemble/bigml/training_set11.csv')\n",
    "api.ok(source11)"
   ]
  },
  {
   "cell_type": "code",
   "execution_count": 118,
   "metadata": {},
   "outputs": [
    {
     "data": {
      "text/plain": [
       "True"
      ]
     },
     "execution_count": 118,
     "metadata": {},
     "output_type": "execute_result"
    }
   ],
   "source": [
    "dataset11 = api.create_dataset(source11)\n",
    "api.ok(dataset11)"
   ]
  },
  {
   "cell_type": "markdown",
   "metadata": {},
   "source": [
    "### Data set 12"
   ]
  },
  {
   "cell_type": "code",
   "execution_count": 119,
   "metadata": {},
   "outputs": [
    {
     "data": {
      "text/plain": [
       "True"
      ]
     },
     "execution_count": 119,
     "metadata": {},
     "output_type": "execute_result"
    }
   ],
   "source": [
    "source12 = api.create_source('dataset_deepnet_ensemble/bigml/training_set12.csv')\n",
    "api.ok(source12)"
   ]
  },
  {
   "cell_type": "code",
   "execution_count": 123,
   "metadata": {},
   "outputs": [
    {
     "data": {
      "text/plain": [
       "True"
      ]
     },
     "execution_count": 123,
     "metadata": {},
     "output_type": "execute_result"
    }
   ],
   "source": [
    "dataset12 = api.create_dataset(source12)\n",
    "api.ok(dataset12) "
   ]
  },
  {
   "cell_type": "markdown",
   "metadata": {},
   "source": [
    "### Data set 13"
   ]
  },
  {
   "cell_type": "code",
   "execution_count": 120,
   "metadata": {},
   "outputs": [
    {
     "data": {
      "text/plain": [
       "True"
      ]
     },
     "execution_count": 120,
     "metadata": {},
     "output_type": "execute_result"
    }
   ],
   "source": [
    "source13 = api.create_source('dataset_deepnet_ensemble/bigml/training_set13.csv')\n",
    "api.ok(source13)"
   ]
  },
  {
   "cell_type": "code",
   "execution_count": 124,
   "metadata": {},
   "outputs": [
    {
     "data": {
      "text/plain": [
       "True"
      ]
     },
     "execution_count": 124,
     "metadata": {},
     "output_type": "execute_result"
    }
   ],
   "source": [
    "dataset13 = api.create_dataset(source13)\n",
    "api.ok(dataset13) "
   ]
  },
  {
   "cell_type": "markdown",
   "metadata": {},
   "source": [
    "### Data set 14"
   ]
  },
  {
   "cell_type": "code",
   "execution_count": 121,
   "metadata": {},
   "outputs": [
    {
     "data": {
      "text/plain": [
       "True"
      ]
     },
     "execution_count": 121,
     "metadata": {},
     "output_type": "execute_result"
    }
   ],
   "source": [
    "source14 = api.create_source('dataset_deepnet_ensemble/bigml/training_set14.csv')\n",
    "api.ok(source14)"
   ]
  },
  {
   "cell_type": "code",
   "execution_count": 125,
   "metadata": {},
   "outputs": [
    {
     "data": {
      "text/plain": [
       "True"
      ]
     },
     "execution_count": 125,
     "metadata": {},
     "output_type": "execute_result"
    }
   ],
   "source": [
    "dataset14 = api.create_dataset(source14)\n",
    "api.ok(dataset14) "
   ]
  },
  {
   "cell_type": "markdown",
   "metadata": {},
   "source": [
    "### Data set 15"
   ]
  },
  {
   "cell_type": "code",
   "execution_count": 122,
   "metadata": {},
   "outputs": [
    {
     "data": {
      "text/plain": [
       "True"
      ]
     },
     "execution_count": 122,
     "metadata": {},
     "output_type": "execute_result"
    }
   ],
   "source": [
    "source15 = api.create_source('dataset_deepnet_ensemble/bigml/training_set15.csv')\n",
    "api.ok(source15)"
   ]
  },
  {
   "cell_type": "code",
   "execution_count": 126,
   "metadata": {},
   "outputs": [
    {
     "data": {
      "text/plain": [
       "True"
      ]
     },
     "execution_count": 126,
     "metadata": {},
     "output_type": "execute_result"
    }
   ],
   "source": [
    "dataset15 = api.create_dataset(source15)\n",
    "api.ok(dataset15) "
   ]
  },
  {
   "cell_type": "markdown",
   "metadata": {},
   "source": [
    "### Data set 16"
   ]
  },
  {
   "cell_type": "code",
   "execution_count": 127,
   "metadata": {},
   "outputs": [
    {
     "data": {
      "text/plain": [
       "True"
      ]
     },
     "execution_count": 127,
     "metadata": {},
     "output_type": "execute_result"
    }
   ],
   "source": [
    "source16 = api.create_source('dataset_deepnet_ensemble/bigml/training_set16.csv')\n",
    "api.ok(source16)"
   ]
  },
  {
   "cell_type": "code",
   "execution_count": 131,
   "metadata": {},
   "outputs": [
    {
     "data": {
      "text/plain": [
       "True"
      ]
     },
     "execution_count": 131,
     "metadata": {},
     "output_type": "execute_result"
    }
   ],
   "source": [
    "dataset16 = api.create_dataset(source16)\n",
    "api.ok(dataset16) "
   ]
  },
  {
   "cell_type": "markdown",
   "metadata": {},
   "source": [
    "### Data set 17"
   ]
  },
  {
   "cell_type": "code",
   "execution_count": 128,
   "metadata": {},
   "outputs": [
    {
     "data": {
      "text/plain": [
       "True"
      ]
     },
     "execution_count": 128,
     "metadata": {},
     "output_type": "execute_result"
    }
   ],
   "source": [
    "source17 = api.create_source('dataset_deepnet_ensemble/bigml/training_set17.csv')\n",
    "api.ok(source17)"
   ]
  },
  {
   "cell_type": "code",
   "execution_count": 132,
   "metadata": {},
   "outputs": [
    {
     "data": {
      "text/plain": [
       "True"
      ]
     },
     "execution_count": 132,
     "metadata": {},
     "output_type": "execute_result"
    }
   ],
   "source": [
    "dataset17 = api.create_dataset(source17)\n",
    "api.ok(dataset17) "
   ]
  },
  {
   "cell_type": "markdown",
   "metadata": {},
   "source": [
    "### Data set 18"
   ]
  },
  {
   "cell_type": "code",
   "execution_count": 129,
   "metadata": {},
   "outputs": [
    {
     "data": {
      "text/plain": [
       "True"
      ]
     },
     "execution_count": 129,
     "metadata": {},
     "output_type": "execute_result"
    }
   ],
   "source": [
    "source18 = api.create_source('dataset_deepnet_ensemble/bigml/training_set18.csv')\n",
    "api.ok(source18)"
   ]
  },
  {
   "cell_type": "code",
   "execution_count": 133,
   "metadata": {},
   "outputs": [
    {
     "data": {
      "text/plain": [
       "True"
      ]
     },
     "execution_count": 133,
     "metadata": {},
     "output_type": "execute_result"
    }
   ],
   "source": [
    "dataset18 = api.create_dataset(source18)\n",
    "api.ok(dataset18) "
   ]
  },
  {
   "cell_type": "markdown",
   "metadata": {},
   "source": [
    "### Data set 19"
   ]
  },
  {
   "cell_type": "code",
   "execution_count": 130,
   "metadata": {},
   "outputs": [
    {
     "data": {
      "text/plain": [
       "True"
      ]
     },
     "execution_count": 130,
     "metadata": {},
     "output_type": "execute_result"
    }
   ],
   "source": [
    "source19 = api.create_source('dataset_deepnet_ensemble/bigml/training_set19.csv')\n",
    "api.ok(source19)"
   ]
  },
  {
   "cell_type": "code",
   "execution_count": 134,
   "metadata": {},
   "outputs": [
    {
     "data": {
      "text/plain": [
       "True"
      ]
     },
     "execution_count": 134,
     "metadata": {},
     "output_type": "execute_result"
    }
   ],
   "source": [
    "dataset19 = api.create_dataset(source19)\n",
    "api.ok(dataset19) "
   ]
  },
  {
   "cell_type": "markdown",
   "metadata": {},
   "source": [
    "### Data set 20"
   ]
  },
  {
   "cell_type": "code",
   "execution_count": 135,
   "metadata": {},
   "outputs": [
    {
     "data": {
      "text/plain": [
       "True"
      ]
     },
     "execution_count": 135,
     "metadata": {},
     "output_type": "execute_result"
    }
   ],
   "source": [
    "source20 = api.create_source('dataset_deepnet_ensemble/bigml/training_set20.csv')\n",
    "api.ok(source20)"
   ]
  },
  {
   "cell_type": "code",
   "execution_count": 136,
   "metadata": {},
   "outputs": [
    {
     "data": {
      "text/plain": [
       "True"
      ]
     },
     "execution_count": 136,
     "metadata": {},
     "output_type": "execute_result"
    }
   ],
   "source": [
    "dataset20 = api.create_dataset(source20)\n",
    "api.ok(dataset20) "
   ]
  },
  {
   "cell_type": "markdown",
   "metadata": {},
   "source": [
    "## We train Ensemble"
   ]
  },
  {
   "cell_type": "markdown",
   "metadata": {},
   "source": [
    "### Ensemble 1"
   ]
  },
  {
   "cell_type": "code",
   "execution_count": 137,
   "metadata": {},
   "outputs": [
    {
     "data": {
      "text/plain": [
       "True"
      ]
     },
     "execution_count": 137,
     "metadata": {},
     "output_type": "execute_result"
    }
   ],
   "source": [
    "ensemble1 = api.create_ensemble(dataset1)\n",
    "api.ok(ensemble1)"
   ]
  },
  {
   "cell_type": "markdown",
   "metadata": {},
   "source": [
    "### Ensemble 2"
   ]
  },
  {
   "cell_type": "code",
   "execution_count": 138,
   "metadata": {},
   "outputs": [
    {
     "data": {
      "text/plain": [
       "True"
      ]
     },
     "execution_count": 138,
     "metadata": {},
     "output_type": "execute_result"
    }
   ],
   "source": [
    "ensemble2 = api.create_ensemble(dataset2)\n",
    "api.ok(ensemble2)"
   ]
  },
  {
   "cell_type": "markdown",
   "metadata": {},
   "source": [
    "### Ensemble 3"
   ]
  },
  {
   "cell_type": "code",
   "execution_count": 139,
   "metadata": {},
   "outputs": [
    {
     "data": {
      "text/plain": [
       "True"
      ]
     },
     "execution_count": 139,
     "metadata": {},
     "output_type": "execute_result"
    }
   ],
   "source": [
    "ensemble3 = api.create_ensemble(dataset3)\n",
    "api.ok(ensemble3)"
   ]
  },
  {
   "cell_type": "markdown",
   "metadata": {},
   "source": [
    "### Ensemble 4"
   ]
  },
  {
   "cell_type": "code",
   "execution_count": 140,
   "metadata": {},
   "outputs": [
    {
     "data": {
      "text/plain": [
       "True"
      ]
     },
     "execution_count": 140,
     "metadata": {},
     "output_type": "execute_result"
    }
   ],
   "source": [
    "ensemble4 = api.create_ensemble(dataset4)\n",
    "api.ok(ensemble4)"
   ]
  },
  {
   "cell_type": "markdown",
   "metadata": {},
   "source": [
    "### Ensemble 5"
   ]
  },
  {
   "cell_type": "code",
   "execution_count": 141,
   "metadata": {},
   "outputs": [
    {
     "data": {
      "text/plain": [
       "True"
      ]
     },
     "execution_count": 141,
     "metadata": {},
     "output_type": "execute_result"
    }
   ],
   "source": [
    "ensemble5 = api.create_ensemble(dataset5)\n",
    "api.ok(ensemble5)"
   ]
  },
  {
   "cell_type": "markdown",
   "metadata": {},
   "source": [
    "### Ensemble 6"
   ]
  },
  {
   "cell_type": "code",
   "execution_count": 142,
   "metadata": {},
   "outputs": [
    {
     "data": {
      "text/plain": [
       "True"
      ]
     },
     "execution_count": 142,
     "metadata": {},
     "output_type": "execute_result"
    }
   ],
   "source": [
    "ensemble6 = api.create_ensemble(dataset6)\n",
    "api.ok(ensemble6)"
   ]
  },
  {
   "cell_type": "markdown",
   "metadata": {},
   "source": [
    "### Ensemble 7"
   ]
  },
  {
   "cell_type": "code",
   "execution_count": 143,
   "metadata": {},
   "outputs": [
    {
     "data": {
      "text/plain": [
       "True"
      ]
     },
     "execution_count": 143,
     "metadata": {},
     "output_type": "execute_result"
    }
   ],
   "source": [
    "ensemble7 = api.create_ensemble(dataset7)\n",
    "api.ok(ensemble7)"
   ]
  },
  {
   "cell_type": "markdown",
   "metadata": {},
   "source": [
    "### Ensemble 8"
   ]
  },
  {
   "cell_type": "code",
   "execution_count": 144,
   "metadata": {},
   "outputs": [
    {
     "data": {
      "text/plain": [
       "True"
      ]
     },
     "execution_count": 144,
     "metadata": {},
     "output_type": "execute_result"
    }
   ],
   "source": [
    "ensemble8 = api.create_ensemble(dataset8)\n",
    "api.ok(ensemble8)"
   ]
  },
  {
   "cell_type": "markdown",
   "metadata": {},
   "source": [
    "### Ensemble 9"
   ]
  },
  {
   "cell_type": "code",
   "execution_count": 145,
   "metadata": {},
   "outputs": [
    {
     "data": {
      "text/plain": [
       "True"
      ]
     },
     "execution_count": 145,
     "metadata": {},
     "output_type": "execute_result"
    }
   ],
   "source": [
    "ensemble9 = api.create_ensemble(dataset9)\n",
    "api.ok(ensemble9)"
   ]
  },
  {
   "cell_type": "markdown",
   "metadata": {},
   "source": [
    "### Ensemble 10"
   ]
  },
  {
   "cell_type": "code",
   "execution_count": 146,
   "metadata": {},
   "outputs": [
    {
     "data": {
      "text/plain": [
       "True"
      ]
     },
     "execution_count": 146,
     "metadata": {},
     "output_type": "execute_result"
    }
   ],
   "source": [
    "ensemble10 = api.create_ensemble(dataset10)\n",
    "api.ok(ensemble10)"
   ]
  },
  {
   "cell_type": "markdown",
   "metadata": {},
   "source": [
    "### Ensemble 11"
   ]
  },
  {
   "cell_type": "code",
   "execution_count": 147,
   "metadata": {},
   "outputs": [
    {
     "data": {
      "text/plain": [
       "True"
      ]
     },
     "execution_count": 147,
     "metadata": {},
     "output_type": "execute_result"
    }
   ],
   "source": [
    "ensemble11 = api.create_ensemble(dataset11)\n",
    "api.ok(ensemble11)"
   ]
  },
  {
   "cell_type": "markdown",
   "metadata": {},
   "source": [
    "### Ensemble 12"
   ]
  },
  {
   "cell_type": "code",
   "execution_count": 148,
   "metadata": {},
   "outputs": [
    {
     "data": {
      "text/plain": [
       "True"
      ]
     },
     "execution_count": 148,
     "metadata": {},
     "output_type": "execute_result"
    }
   ],
   "source": [
    "ensemble12 = api.create_ensemble(dataset12)\n",
    "api.ok(ensemble12)"
   ]
  },
  {
   "cell_type": "markdown",
   "metadata": {},
   "source": [
    "### Ensemble 13"
   ]
  },
  {
   "cell_type": "code",
   "execution_count": 149,
   "metadata": {},
   "outputs": [
    {
     "data": {
      "text/plain": [
       "True"
      ]
     },
     "execution_count": 149,
     "metadata": {},
     "output_type": "execute_result"
    }
   ],
   "source": [
    "ensemble13 = api.create_ensemble(dataset13)\n",
    "api.ok(ensemble13)"
   ]
  },
  {
   "cell_type": "markdown",
   "metadata": {},
   "source": [
    "### Ensemble 14"
   ]
  },
  {
   "cell_type": "code",
   "execution_count": 150,
   "metadata": {},
   "outputs": [
    {
     "data": {
      "text/plain": [
       "True"
      ]
     },
     "execution_count": 150,
     "metadata": {},
     "output_type": "execute_result"
    }
   ],
   "source": [
    "ensemble14 = api.create_ensemble(dataset14)\n",
    "api.ok(ensemble14)"
   ]
  },
  {
   "cell_type": "markdown",
   "metadata": {},
   "source": [
    "### Ensemble 15"
   ]
  },
  {
   "cell_type": "code",
   "execution_count": 151,
   "metadata": {},
   "outputs": [
    {
     "data": {
      "text/plain": [
       "True"
      ]
     },
     "execution_count": 151,
     "metadata": {},
     "output_type": "execute_result"
    }
   ],
   "source": [
    "ensemble15 = api.create_ensemble(dataset15)\n",
    "api.ok(ensemble15)"
   ]
  },
  {
   "cell_type": "markdown",
   "metadata": {},
   "source": [
    "### Ensemble 16"
   ]
  },
  {
   "cell_type": "code",
   "execution_count": 152,
   "metadata": {},
   "outputs": [
    {
     "data": {
      "text/plain": [
       "True"
      ]
     },
     "execution_count": 152,
     "metadata": {},
     "output_type": "execute_result"
    }
   ],
   "source": [
    "ensemble16 = api.create_ensemble(dataset16)\n",
    "api.ok(ensemble16)"
   ]
  },
  {
   "cell_type": "markdown",
   "metadata": {},
   "source": [
    "### Ensemble 17"
   ]
  },
  {
   "cell_type": "code",
   "execution_count": 153,
   "metadata": {},
   "outputs": [
    {
     "data": {
      "text/plain": [
       "True"
      ]
     },
     "execution_count": 153,
     "metadata": {},
     "output_type": "execute_result"
    }
   ],
   "source": [
    "ensemble17 = api.create_ensemble(dataset17)\n",
    "api.ok(ensemble17)"
   ]
  },
  {
   "cell_type": "markdown",
   "metadata": {},
   "source": [
    "### Ensemble 18"
   ]
  },
  {
   "cell_type": "code",
   "execution_count": 154,
   "metadata": {},
   "outputs": [
    {
     "data": {
      "text/plain": [
       "True"
      ]
     },
     "execution_count": 154,
     "metadata": {},
     "output_type": "execute_result"
    }
   ],
   "source": [
    "ensemble18 = api.create_ensemble(dataset18)\n",
    "api.ok(ensemble18)"
   ]
  },
  {
   "cell_type": "markdown",
   "metadata": {},
   "source": [
    "### Ensemble 19"
   ]
  },
  {
   "cell_type": "code",
   "execution_count": 155,
   "metadata": {},
   "outputs": [
    {
     "data": {
      "text/plain": [
       "True"
      ]
     },
     "execution_count": 155,
     "metadata": {},
     "output_type": "execute_result"
    }
   ],
   "source": [
    "ensemble19 = api.create_ensemble(dataset19)\n",
    "api.ok(ensemble19)"
   ]
  },
  {
   "cell_type": "markdown",
   "metadata": {},
   "source": [
    "### Ensemble 20"
   ]
  },
  {
   "cell_type": "code",
   "execution_count": 156,
   "metadata": {},
   "outputs": [
    {
     "data": {
      "text/plain": [
       "True"
      ]
     },
     "execution_count": 156,
     "metadata": {},
     "output_type": "execute_result"
    }
   ],
   "source": [
    "ensemble20 = api.create_ensemble(dataset20)\n",
    "api.ok(ensemble20)"
   ]
  },
  {
   "cell_type": "markdown",
   "metadata": {},
   "source": [
    "## We train DeeppNet"
   ]
  },
  {
   "cell_type": "markdown",
   "metadata": {},
   "source": [
    "### DeepNet 1"
   ]
  },
  {
   "cell_type": "code",
   "execution_count": 157,
   "metadata": {},
   "outputs": [
    {
     "data": {
      "text/plain": [
       "True"
      ]
     },
     "execution_count": 157,
     "metadata": {},
     "output_type": "execute_result"
    }
   ],
   "source": [
    "deepnet1 = api.create_deepnet(dataset1)\n",
    "api.ok(deepnet1)"
   ]
  },
  {
   "cell_type": "markdown",
   "metadata": {},
   "source": [
    "### DeepNet 2"
   ]
  },
  {
   "cell_type": "code",
   "execution_count": 158,
   "metadata": {
    "scrolled": true
   },
   "outputs": [
    {
     "data": {
      "text/plain": [
       "True"
      ]
     },
     "execution_count": 158,
     "metadata": {},
     "output_type": "execute_result"
    }
   ],
   "source": [
    "deepnet2 = api.create_deepnet(dataset2)\n",
    "api.ok(deepnet2)"
   ]
  },
  {
   "cell_type": "markdown",
   "metadata": {},
   "source": [
    "### DeepNet 3"
   ]
  },
  {
   "cell_type": "code",
   "execution_count": 159,
   "metadata": {},
   "outputs": [
    {
     "data": {
      "text/plain": [
       "True"
      ]
     },
     "execution_count": 159,
     "metadata": {},
     "output_type": "execute_result"
    }
   ],
   "source": [
    "deepnet3 = api.create_deepnet(dataset3)\n",
    "api.ok(deepnet3)"
   ]
  },
  {
   "cell_type": "markdown",
   "metadata": {},
   "source": [
    "### DeepNet 4"
   ]
  },
  {
   "cell_type": "code",
   "execution_count": 161,
   "metadata": {},
   "outputs": [
    {
     "data": {
      "text/plain": [
       "True"
      ]
     },
     "execution_count": 161,
     "metadata": {},
     "output_type": "execute_result"
    }
   ],
   "source": [
    "deepnet4 = api.create_deepnet(dataset4)\n",
    "api.ok(deepnet4)"
   ]
  },
  {
   "cell_type": "markdown",
   "metadata": {},
   "source": [
    "### DeepNet 5"
   ]
  },
  {
   "cell_type": "code",
   "execution_count": 162,
   "metadata": {},
   "outputs": [
    {
     "data": {
      "text/plain": [
       "True"
      ]
     },
     "execution_count": 162,
     "metadata": {},
     "output_type": "execute_result"
    }
   ],
   "source": [
    "deepnet5 = api.create_deepnet(dataset5)\n",
    "api.ok(deepnet5)"
   ]
  },
  {
   "cell_type": "markdown",
   "metadata": {},
   "source": [
    "### DeepNet 6"
   ]
  },
  {
   "cell_type": "code",
   "execution_count": 163,
   "metadata": {},
   "outputs": [
    {
     "data": {
      "text/plain": [
       "True"
      ]
     },
     "execution_count": 163,
     "metadata": {},
     "output_type": "execute_result"
    }
   ],
   "source": [
    "deepnet6 = api.create_deepnet(dataset6)\n",
    "api.ok(deepnet6)"
   ]
  },
  {
   "cell_type": "markdown",
   "metadata": {},
   "source": [
    "### DeepNet 7"
   ]
  },
  {
   "cell_type": "code",
   "execution_count": 164,
   "metadata": {},
   "outputs": [
    {
     "data": {
      "text/plain": [
       "True"
      ]
     },
     "execution_count": 164,
     "metadata": {},
     "output_type": "execute_result"
    }
   ],
   "source": [
    "deepnet7 = api.create_deepnet(dataset7)\n",
    "api.ok(deepnet7)"
   ]
  },
  {
   "cell_type": "markdown",
   "metadata": {},
   "source": [
    "### DeepNet 8"
   ]
  },
  {
   "cell_type": "code",
   "execution_count": 165,
   "metadata": {},
   "outputs": [
    {
     "data": {
      "text/plain": [
       "True"
      ]
     },
     "execution_count": 165,
     "metadata": {},
     "output_type": "execute_result"
    }
   ],
   "source": [
    "deepnet8 = api.create_deepnet(dataset8)\n",
    "api.ok(deepnet8)"
   ]
  },
  {
   "cell_type": "markdown",
   "metadata": {},
   "source": [
    "### DeepNet 9"
   ]
  },
  {
   "cell_type": "code",
   "execution_count": 166,
   "metadata": {},
   "outputs": [
    {
     "data": {
      "text/plain": [
       "True"
      ]
     },
     "execution_count": 166,
     "metadata": {},
     "output_type": "execute_result"
    }
   ],
   "source": [
    "deepnet9 = api.create_deepnet(dataset9)\n",
    "api.ok(deepnet9)"
   ]
  },
  {
   "cell_type": "markdown",
   "metadata": {},
   "source": [
    "### DeepNet 10"
   ]
  },
  {
   "cell_type": "code",
   "execution_count": 167,
   "metadata": {},
   "outputs": [
    {
     "data": {
      "text/plain": [
       "True"
      ]
     },
     "execution_count": 167,
     "metadata": {},
     "output_type": "execute_result"
    }
   ],
   "source": [
    "deepnet10 = api.create_deepnet(dataset10)\n",
    "api.ok(deepnet10)"
   ]
  },
  {
   "cell_type": "markdown",
   "metadata": {},
   "source": [
    "### DeepNet 11"
   ]
  },
  {
   "cell_type": "code",
   "execution_count": 168,
   "metadata": {},
   "outputs": [
    {
     "data": {
      "text/plain": [
       "True"
      ]
     },
     "execution_count": 168,
     "metadata": {},
     "output_type": "execute_result"
    }
   ],
   "source": [
    "deepnet11 = api.create_deepnet(dataset11)\n",
    "api.ok(deepnet11)"
   ]
  },
  {
   "cell_type": "markdown",
   "metadata": {},
   "source": [
    "### DeepNet 12"
   ]
  },
  {
   "cell_type": "code",
   "execution_count": 170,
   "metadata": {},
   "outputs": [
    {
     "data": {
      "text/plain": [
       "True"
      ]
     },
     "execution_count": 170,
     "metadata": {},
     "output_type": "execute_result"
    }
   ],
   "source": [
    "deepnet12 = api.create_deepnet(dataset12)\n",
    "api.ok(deepnet12)"
   ]
  },
  {
   "cell_type": "markdown",
   "metadata": {},
   "source": [
    "### DeepNet 13"
   ]
  },
  {
   "cell_type": "code",
   "execution_count": 171,
   "metadata": {},
   "outputs": [
    {
     "data": {
      "text/plain": [
       "True"
      ]
     },
     "execution_count": 171,
     "metadata": {},
     "output_type": "execute_result"
    }
   ],
   "source": [
    "deepnet13 = api.create_deepnet(dataset13)\n",
    "api.ok(deepnet13)"
   ]
  },
  {
   "cell_type": "markdown",
   "metadata": {},
   "source": [
    "### Deepnet 14"
   ]
  },
  {
   "cell_type": "code",
   "execution_count": 172,
   "metadata": {},
   "outputs": [
    {
     "data": {
      "text/plain": [
       "True"
      ]
     },
     "execution_count": 172,
     "metadata": {},
     "output_type": "execute_result"
    }
   ],
   "source": [
    "deepnet14 = api.create_deepnet(dataset14)\n",
    "api.ok(deepnet14)"
   ]
  },
  {
   "cell_type": "markdown",
   "metadata": {},
   "source": [
    "### DeepNet 15"
   ]
  },
  {
   "cell_type": "code",
   "execution_count": 173,
   "metadata": {},
   "outputs": [
    {
     "data": {
      "text/plain": [
       "True"
      ]
     },
     "execution_count": 173,
     "metadata": {},
     "output_type": "execute_result"
    }
   ],
   "source": [
    "deepnet15 = api.create_deepnet(dataset15)\n",
    "api.ok(deepnet15)"
   ]
  },
  {
   "cell_type": "markdown",
   "metadata": {},
   "source": [
    "### DeepNet 16"
   ]
  },
  {
   "cell_type": "code",
   "execution_count": 174,
   "metadata": {},
   "outputs": [
    {
     "data": {
      "text/plain": [
       "True"
      ]
     },
     "execution_count": 174,
     "metadata": {},
     "output_type": "execute_result"
    }
   ],
   "source": [
    "deepnet16 = api.create_deepnet(dataset16)\n",
    "api.ok(deepnet16)"
   ]
  },
  {
   "cell_type": "markdown",
   "metadata": {},
   "source": [
    "### DeepNet 17"
   ]
  },
  {
   "cell_type": "code",
   "execution_count": 175,
   "metadata": {},
   "outputs": [
    {
     "data": {
      "text/plain": [
       "True"
      ]
     },
     "execution_count": 175,
     "metadata": {},
     "output_type": "execute_result"
    }
   ],
   "source": [
    "deepnet17 = api.create_deepnet(dataset17)\n",
    "api.ok(deepnet17)"
   ]
  },
  {
   "cell_type": "markdown",
   "metadata": {},
   "source": [
    "### DeepNet 18"
   ]
  },
  {
   "cell_type": "code",
   "execution_count": 176,
   "metadata": {},
   "outputs": [
    {
     "data": {
      "text/plain": [
       "True"
      ]
     },
     "execution_count": 176,
     "metadata": {},
     "output_type": "execute_result"
    }
   ],
   "source": [
    "deepnet18 = api.create_deepnet(dataset18)\n",
    "api.ok(deepnet18)"
   ]
  },
  {
   "cell_type": "markdown",
   "metadata": {},
   "source": [
    "### DeepNet 19"
   ]
  },
  {
   "cell_type": "code",
   "execution_count": 177,
   "metadata": {},
   "outputs": [
    {
     "data": {
      "text/plain": [
       "True"
      ]
     },
     "execution_count": 177,
     "metadata": {},
     "output_type": "execute_result"
    }
   ],
   "source": [
    "deepnet19 = api.create_deepnet(dataset19)\n",
    "api.ok(deepnet19)"
   ]
  },
  {
   "cell_type": "markdown",
   "metadata": {},
   "source": [
    "### DeepNet 20"
   ]
  },
  {
   "cell_type": "code",
   "execution_count": 178,
   "metadata": {},
   "outputs": [
    {
     "data": {
      "text/plain": [
       "True"
      ]
     },
     "execution_count": 178,
     "metadata": {},
     "output_type": "execute_result"
    }
   ],
   "source": [
    "deepnet20 = api.create_deepnet(dataset20)\n",
    "api.ok(deepnet20)"
   ]
  },
  {
   "cell_type": "markdown",
   "metadata": {},
   "source": [
    "## We create the test set "
   ]
  },
  {
   "cell_type": "code",
   "execution_count": 179,
   "metadata": {},
   "outputs": [
    {
     "data": {
      "text/plain": [
       "True"
      ]
     },
     "execution_count": 179,
     "metadata": {},
     "output_type": "execute_result"
    }
   ],
   "source": [
    "test_source3 = api.create_source(\"testset/testset_dataframe3.csv\")\n",
    "api.ok(test_source3)"
   ]
  },
  {
   "cell_type": "code",
   "execution_count": 180,
   "metadata": {},
   "outputs": [
    {
     "data": {
      "text/plain": [
       "True"
      ]
     },
     "execution_count": 180,
     "metadata": {},
     "output_type": "execute_result"
    }
   ],
   "source": [
    "test_dataset3 = api.create_dataset(test_source3)\n",
    "api.ok(test_dataset3)"
   ]
  },
  {
   "cell_type": "markdown",
   "metadata": {},
   "source": [
    "## We get the evaluation"
   ]
  },
  {
   "cell_type": "code",
   "execution_count": 430,
   "metadata": {},
   "outputs": [],
   "source": [
    "ensemble_train_accuracy = []\n",
    "ensemble_train_auc = []\n",
    "ensemble_test_accuracy = []\n",
    "ensemble_test_auc = []\n",
    "deepnet_train_accuracy = []\n",
    "deepnet_train_auc = []\n",
    "deepnet_test_auc = []\n",
    "deepnet_test_accuracy = []"
   ]
  },
  {
   "cell_type": "markdown",
   "metadata": {},
   "source": [
    "### Evaluation 1"
   ]
  },
  {
   "cell_type": "markdown",
   "metadata": {},
   "source": [
    "We evaluate the ensemble in the train set"
   ]
  },
  {
   "cell_type": "code",
   "execution_count": 182,
   "metadata": {},
   "outputs": [
    {
     "data": {
      "text/plain": [
       "True"
      ]
     },
     "execution_count": 182,
     "metadata": {},
     "output_type": "execute_result"
    }
   ],
   "source": [
    "evaluation_ensemble_train1 = api.create_evaluation(ensemble1, dataset1)\n",
    "api.ok(evaluation_ensemble_train1)"
   ]
  },
  {
   "cell_type": "code",
   "execution_count": 431,
   "metadata": {},
   "outputs": [],
   "source": [
    "ensemble_train_accuracy.append(evaluation_ensemble_train1['object']['result']['model']['accuracy'])\n",
    "ensemble_train_auc.append(evaluation_ensemble_train1['object']['result']['model']['average_area_under_roc_curve'])"
   ]
  },
  {
   "cell_type": "markdown",
   "metadata": {},
   "source": [
    "We evaluate the ensemble in the test set"
   ]
  },
  {
   "cell_type": "code",
   "execution_count": 184,
   "metadata": {},
   "outputs": [
    {
     "data": {
      "text/plain": [
       "True"
      ]
     },
     "execution_count": 184,
     "metadata": {},
     "output_type": "execute_result"
    }
   ],
   "source": [
    "evaluation_ensemble_test1 = api.create_evaluation(ensemble1, test_dataset3)\n",
    "api.ok(evaluation_ensemble_test1)"
   ]
  },
  {
   "cell_type": "code",
   "execution_count": 432,
   "metadata": {},
   "outputs": [],
   "source": [
    "ensemble_test_accuracy.append(evaluation_ensemble_test1['object']['result']['model']['accuracy'])\n",
    "ensemble_test_auc.append(evaluation_ensemble_test1['object']['result']['model']['average_area_under_roc_curve'])"
   ]
  },
  {
   "cell_type": "markdown",
   "metadata": {},
   "source": [
    "We evaluate the deepnet in the training set"
   ]
  },
  {
   "cell_type": "code",
   "execution_count": 185,
   "metadata": {},
   "outputs": [
    {
     "data": {
      "text/plain": [
       "True"
      ]
     },
     "execution_count": 185,
     "metadata": {},
     "output_type": "execute_result"
    }
   ],
   "source": [
    "evaluation_deepnet_train1 = api.create_evaluation(deepnet1, dataset1)\n",
    "api.ok(evaluation_deepnet_train1)"
   ]
  },
  {
   "cell_type": "code",
   "execution_count": 433,
   "metadata": {},
   "outputs": [],
   "source": [
    "deepnet_train_accuracy.append(evaluation_deepnet_train1['object']['result']['model']['accuracy'])\n",
    "deepnet_train_auc.append(evaluation_deepnet_train1['object']['result']['model']['average_area_under_roc_curve'])"
   ]
  },
  {
   "cell_type": "markdown",
   "metadata": {},
   "source": [
    "We evaluate the deepnet in the test set"
   ]
  },
  {
   "cell_type": "code",
   "execution_count": 188,
   "metadata": {},
   "outputs": [
    {
     "data": {
      "text/plain": [
       "True"
      ]
     },
     "execution_count": 188,
     "metadata": {},
     "output_type": "execute_result"
    }
   ],
   "source": [
    "evaluation_deepnet_test1 = api.create_evaluation(deepnet1, test_dataset3)\n",
    "api.ok(evaluation_deepnet_test1)"
   ]
  },
  {
   "cell_type": "code",
   "execution_count": 434,
   "metadata": {},
   "outputs": [],
   "source": [
    "deepnet_test_accuracy.append(evaluation_deepnet_test1['object']['result']['model']['accuracy'])\n",
    "deepnet_test_auc.append(evaluation_deepnet_test1['object']['result']['model']['average_area_under_roc_curve'])"
   ]
  },
  {
   "cell_type": "markdown",
   "metadata": {},
   "source": [
    "### Evaluation 2"
   ]
  },
  {
   "cell_type": "markdown",
   "metadata": {},
   "source": [
    "We evaluate the ensemble in the train set"
   ]
  },
  {
   "cell_type": "code",
   "execution_count": 190,
   "metadata": {},
   "outputs": [
    {
     "data": {
      "text/plain": [
       "True"
      ]
     },
     "execution_count": 190,
     "metadata": {},
     "output_type": "execute_result"
    }
   ],
   "source": [
    "evaluation_ensemble_train2 = api.create_evaluation(ensemble2, dataset2)\n",
    "api.ok(evaluation_ensemble_train2)"
   ]
  },
  {
   "cell_type": "code",
   "execution_count": 435,
   "metadata": {},
   "outputs": [],
   "source": [
    "ensemble_train_accuracy.append(evaluation_ensemble_train2['object']['result']['model']['accuracy'])\n",
    "ensemble_train_auc.append(evaluation_ensemble_train2['object']['result']['model']['average_area_under_roc_curve'])"
   ]
  },
  {
   "cell_type": "markdown",
   "metadata": {},
   "source": [
    "We evaluate the ensemble in the test set"
   ]
  },
  {
   "cell_type": "code",
   "execution_count": 191,
   "metadata": {},
   "outputs": [
    {
     "data": {
      "text/plain": [
       "True"
      ]
     },
     "execution_count": 191,
     "metadata": {},
     "output_type": "execute_result"
    }
   ],
   "source": [
    "evaluation_ensemble_test2 = api.create_evaluation(ensemble2, test_dataset3)\n",
    "api.ok(evaluation_ensemble_test2)"
   ]
  },
  {
   "cell_type": "code",
   "execution_count": 436,
   "metadata": {},
   "outputs": [],
   "source": [
    "ensemble_test_accuracy.append(evaluation_ensemble_test2['object']['result']['model']['accuracy'])\n",
    "ensemble_test_auc.append(evaluation_ensemble_test2['object']['result']['model']['average_area_under_roc_curve'])"
   ]
  },
  {
   "cell_type": "markdown",
   "metadata": {},
   "source": [
    "We evaluate the deepnet in the training set"
   ]
  },
  {
   "cell_type": "code",
   "execution_count": 393,
   "metadata": {},
   "outputs": [
    {
     "data": {
      "text/plain": [
       "True"
      ]
     },
     "execution_count": 393,
     "metadata": {},
     "output_type": "execute_result"
    }
   ],
   "source": [
    "evaluation_deepnet_train2 = api.create_evaluation(deepnet2, dataset2)\n",
    "api.ok(evaluation_deepnet_train2)"
   ]
  },
  {
   "cell_type": "code",
   "execution_count": 437,
   "metadata": {},
   "outputs": [],
   "source": [
    "deepnet_train_accuracy.append(evaluation_deepnet_train2['object']['result']['model']['accuracy'])\n",
    "deepnet_train_auc.append(evaluation_deepnet_train2['object']['result']['model']['average_area_under_roc_curve'])"
   ]
  },
  {
   "cell_type": "markdown",
   "metadata": {},
   "source": [
    "We evaluate the deepnet in the test set"
   ]
  },
  {
   "cell_type": "code",
   "execution_count": 438,
   "metadata": {},
   "outputs": [
    {
     "data": {
      "text/plain": [
       "True"
      ]
     },
     "execution_count": 438,
     "metadata": {},
     "output_type": "execute_result"
    }
   ],
   "source": [
    "evaluation_deepnet_test2 = api.create_evaluation(deepnet2, test_dataset3)\n",
    "api.ok(evaluation_deepnet_test2)"
   ]
  },
  {
   "cell_type": "code",
   "execution_count": 439,
   "metadata": {},
   "outputs": [],
   "source": [
    "deepnet_test_accuracy.append(evaluation_deepnet_test2['object']['result']['model']['accuracy'])\n",
    "deepnet_test_auc.append(evaluation_deepnet_test2['object']['result']['model']['average_area_under_roc_curve'])"
   ]
  },
  {
   "cell_type": "markdown",
   "metadata": {},
   "source": [
    "### Evaluation 3"
   ]
  },
  {
   "cell_type": "markdown",
   "metadata": {},
   "source": [
    "We evaluate the ensemble in the train set"
   ]
  },
  {
   "cell_type": "code",
   "execution_count": 199,
   "metadata": {},
   "outputs": [
    {
     "data": {
      "text/plain": [
       "True"
      ]
     },
     "execution_count": 199,
     "metadata": {},
     "output_type": "execute_result"
    }
   ],
   "source": [
    "evaluation_ensemble_train3 = api.create_evaluation(ensemble3, dataset3)\n",
    "api.ok(evaluation_ensemble_train3)"
   ]
  },
  {
   "cell_type": "code",
   "execution_count": 440,
   "metadata": {},
   "outputs": [],
   "source": [
    "ensemble_train_accuracy.append(evaluation_ensemble_train3['object']['result']['model']['accuracy'])\n",
    "ensemble_train_auc.append(evaluation_ensemble_train3['object']['result']['model']['average_area_under_roc_curve'])"
   ]
  },
  {
   "cell_type": "markdown",
   "metadata": {},
   "source": [
    "We evaluate the ensemble in the test set"
   ]
  },
  {
   "cell_type": "code",
   "execution_count": 200,
   "metadata": {},
   "outputs": [
    {
     "data": {
      "text/plain": [
       "True"
      ]
     },
     "execution_count": 200,
     "metadata": {},
     "output_type": "execute_result"
    }
   ],
   "source": [
    "evaluation_ensemble_test3 = api.create_evaluation(ensemble3, test_dataset3)\n",
    "api.ok(evaluation_ensemble_test3)"
   ]
  },
  {
   "cell_type": "code",
   "execution_count": 441,
   "metadata": {},
   "outputs": [],
   "source": [
    "ensemble_test_accuracy.append(evaluation_ensemble_test3['object']['result']['model']['accuracy'])\n",
    "ensemble_test_auc.append(evaluation_ensemble_test3['object']['result']['model']['average_area_under_roc_curve'])"
   ]
  },
  {
   "cell_type": "markdown",
   "metadata": {},
   "source": [
    "We evaluate the deepnet in the train set"
   ]
  },
  {
   "cell_type": "code",
   "execution_count": 201,
   "metadata": {},
   "outputs": [
    {
     "data": {
      "text/plain": [
       "True"
      ]
     },
     "execution_count": 201,
     "metadata": {},
     "output_type": "execute_result"
    }
   ],
   "source": [
    "evaluation_deepnet_train3 = api.create_evaluation(deepnet3, dataset3)\n",
    "api.ok(evaluation_deepnet_train3)"
   ]
  },
  {
   "cell_type": "code",
   "execution_count": 442,
   "metadata": {},
   "outputs": [],
   "source": [
    "deepnet_train_accuracy.append(evaluation_deepnet_train3['object']['result']['model']['accuracy'])\n",
    "deepnet_train_auc.append(evaluation_deepnet_train3['object']['result']['model']['average_area_under_roc_curve'])"
   ]
  },
  {
   "cell_type": "markdown",
   "metadata": {},
   "source": [
    "We evaluate the deepnet in the test set"
   ]
  },
  {
   "cell_type": "code",
   "execution_count": 202,
   "metadata": {},
   "outputs": [
    {
     "data": {
      "text/plain": [
       "True"
      ]
     },
     "execution_count": 202,
     "metadata": {},
     "output_type": "execute_result"
    }
   ],
   "source": [
    "evaluation_deepnet_test3 = api.create_evaluation(deepnet3, test_dataset3)\n",
    "api.ok(evaluation_deepnet_test3)"
   ]
  },
  {
   "cell_type": "code",
   "execution_count": 443,
   "metadata": {},
   "outputs": [],
   "source": [
    "deepnet_test_accuracy.append(evaluation_deepnet_test3['object']['result']['model']['accuracy'])\n",
    "deepnet_test_auc.append(evaluation_deepnet_test3['object']['result']['model']['average_area_under_roc_curve'])"
   ]
  },
  {
   "cell_type": "markdown",
   "metadata": {},
   "source": [
    "### Evaluation 4"
   ]
  },
  {
   "cell_type": "markdown",
   "metadata": {},
   "source": [
    "We evaluate the ensemble in the train set"
   ]
  },
  {
   "cell_type": "code",
   "execution_count": 216,
   "metadata": {},
   "outputs": [
    {
     "data": {
      "text/plain": [
       "True"
      ]
     },
     "execution_count": 216,
     "metadata": {},
     "output_type": "execute_result"
    }
   ],
   "source": [
    "evaluation_ensemble_train4 = api.create_evaluation(ensemble4, dataset4)\n",
    "api.ok(evaluation_ensemble_train4)"
   ]
  },
  {
   "cell_type": "code",
   "execution_count": 444,
   "metadata": {},
   "outputs": [],
   "source": [
    "ensemble_train_accuracy.append(evaluation_ensemble_train4['object']['result']['model']['accuracy'])\n",
    "ensemble_train_auc.append(evaluation_ensemble_train4['object']['result']['model']['average_area_under_roc_curve'])\n"
   ]
  },
  {
   "cell_type": "markdown",
   "metadata": {},
   "source": [
    "We evaluate the ensemble in the test set"
   ]
  },
  {
   "cell_type": "code",
   "execution_count": 218,
   "metadata": {},
   "outputs": [
    {
     "data": {
      "text/plain": [
       "True"
      ]
     },
     "execution_count": 218,
     "metadata": {},
     "output_type": "execute_result"
    }
   ],
   "source": [
    "evaluation_ensemble_test4 = api.create_evaluation(ensemble4, test_dataset3)\n",
    "api.ok(evaluation_ensemble_test4)"
   ]
  },
  {
   "cell_type": "code",
   "execution_count": 445,
   "metadata": {},
   "outputs": [],
   "source": [
    "ensemble_test_accuracy.append(evaluation_ensemble_test4['object']['result']['model']['accuracy'])\n",
    "ensemble_test_auc.append(evaluation_ensemble_test4['object']['result']['model']['average_area_under_roc_curve'])\n"
   ]
  },
  {
   "cell_type": "markdown",
   "metadata": {},
   "source": [
    "We evaluate the deepnet in the training set"
   ]
  },
  {
   "cell_type": "code",
   "execution_count": 220,
   "metadata": {},
   "outputs": [
    {
     "data": {
      "text/plain": [
       "True"
      ]
     },
     "execution_count": 220,
     "metadata": {},
     "output_type": "execute_result"
    }
   ],
   "source": [
    "\n",
    "evaluation_deepnet_train4 = api.create_evaluation(deepnet4, dataset4)\n",
    "api.ok(evaluation_deepnet_train4)"
   ]
  },
  {
   "cell_type": "code",
   "execution_count": 446,
   "metadata": {},
   "outputs": [],
   "source": [
    "deepnet_train_accuracy.append(evaluation_deepnet_train4['object']['result']['model']['accuracy'])\n",
    "deepnet_train_auc.append(evaluation_deepnet_train4['object']['result']['model']['average_area_under_roc_curve'])\n"
   ]
  },
  {
   "cell_type": "markdown",
   "metadata": {},
   "source": [
    "We evaluate the deepnet in the test set"
   ]
  },
  {
   "cell_type": "code",
   "execution_count": 222,
   "metadata": {},
   "outputs": [
    {
     "data": {
      "text/plain": [
       "True"
      ]
     },
     "execution_count": 222,
     "metadata": {},
     "output_type": "execute_result"
    }
   ],
   "source": [
    "evaluation_deepnet_test4 = api.create_evaluation(deepnet4, test_dataset3)\n",
    "api.ok(evaluation_deepnet_test4)"
   ]
  },
  {
   "cell_type": "code",
   "execution_count": 447,
   "metadata": {},
   "outputs": [],
   "source": [
    "deepnet_test_accuracy.append(evaluation_deepnet_test4['object']['result']['model']['accuracy'])\n",
    "deepnet_test_auc.append(evaluation_deepnet_test4['object']['result']['model']['average_area_under_roc_curve'])\n"
   ]
  },
  {
   "cell_type": "markdown",
   "metadata": {},
   "source": [
    "### Evaluation 5"
   ]
  },
  {
   "cell_type": "markdown",
   "metadata": {},
   "source": [
    "We evaluate the ensemble in the train set"
   ]
  },
  {
   "cell_type": "code",
   "execution_count": 225,
   "metadata": {},
   "outputs": [
    {
     "data": {
      "text/plain": [
       "True"
      ]
     },
     "execution_count": 225,
     "metadata": {},
     "output_type": "execute_result"
    }
   ],
   "source": [
    "evaluation_ensemble_train5 = api.create_evaluation(ensemble5, dataset5)\n",
    "api.ok(evaluation_ensemble_train5)"
   ]
  },
  {
   "cell_type": "code",
   "execution_count": 448,
   "metadata": {},
   "outputs": [],
   "source": [
    "ensemble_train_accuracy.append(evaluation_ensemble_train5['object']['result']['model']['accuracy'])\n",
    "ensemble_train_auc.append(evaluation_ensemble_train5['object']['result']['model']['average_area_under_roc_curve'])"
   ]
  },
  {
   "cell_type": "markdown",
   "metadata": {},
   "source": [
    "We evaluate the ensemble in the test set"
   ]
  },
  {
   "cell_type": "code",
   "execution_count": 228,
   "metadata": {},
   "outputs": [
    {
     "data": {
      "text/plain": [
       "True"
      ]
     },
     "execution_count": 228,
     "metadata": {},
     "output_type": "execute_result"
    }
   ],
   "source": [
    "evaluation_ensemble_test5 = api.create_evaluation(ensemble5, test_dataset3)\n",
    "api.ok(evaluation_ensemble_test5)"
   ]
  },
  {
   "cell_type": "code",
   "execution_count": 449,
   "metadata": {},
   "outputs": [],
   "source": [
    "ensemble_test_accuracy.append(evaluation_ensemble_test5['object']['result']['model']['accuracy'])\n",
    "ensemble_test_auc.append(evaluation_ensemble_test5['object']['result']['model']['average_area_under_roc_curve'])"
   ]
  },
  {
   "cell_type": "markdown",
   "metadata": {},
   "source": [
    "We evaluate the deepnet in the training set"
   ]
  },
  {
   "cell_type": "code",
   "execution_count": 230,
   "metadata": {},
   "outputs": [
    {
     "data": {
      "text/plain": [
       "True"
      ]
     },
     "execution_count": 230,
     "metadata": {},
     "output_type": "execute_result"
    }
   ],
   "source": [
    "evaluation_deepnet_train5 = api.create_evaluation(deepnet5, dataset5)\n",
    "api.ok(evaluation_deepnet_train5)"
   ]
  },
  {
   "cell_type": "code",
   "execution_count": 450,
   "metadata": {},
   "outputs": [],
   "source": [
    "deepnet_train_accuracy.append(evaluation_deepnet_train5['object']['result']['model']['accuracy'])\n",
    "deepnet_train_auc.append(evaluation_deepnet_train5['object']['result']['model']['average_area_under_roc_curve'])"
   ]
  },
  {
   "cell_type": "markdown",
   "metadata": {},
   "source": [
    "We evaluate the deepnet in the test set"
   ]
  },
  {
   "cell_type": "code",
   "execution_count": 232,
   "metadata": {},
   "outputs": [
    {
     "data": {
      "text/plain": [
       "True"
      ]
     },
     "execution_count": 232,
     "metadata": {},
     "output_type": "execute_result"
    }
   ],
   "source": [
    "evaluation_deepnet_test5 = api.create_evaluation(deepnet5, test_dataset3)\n",
    "api.ok(evaluation_deepnet_test5)"
   ]
  },
  {
   "cell_type": "code",
   "execution_count": 451,
   "metadata": {},
   "outputs": [],
   "source": [
    "deepnet_test_accuracy.append(evaluation_deepnet_test5['object']['result']['model']['accuracy'])\n",
    "deepnet_test_auc.append(evaluation_deepnet_test5['object']['result']['model']['average_area_under_roc_curve'])\n"
   ]
  },
  {
   "cell_type": "markdown",
   "metadata": {},
   "source": [
    "### Evaluation 6"
   ]
  },
  {
   "cell_type": "markdown",
   "metadata": {},
   "source": [
    "We evaluate the ensemble in the train set"
   ]
  },
  {
   "cell_type": "code",
   "execution_count": 236,
   "metadata": {},
   "outputs": [
    {
     "data": {
      "text/plain": [
       "True"
      ]
     },
     "execution_count": 236,
     "metadata": {},
     "output_type": "execute_result"
    }
   ],
   "source": [
    "evaluation_ensemble_train6 = api.create_evaluation(ensemble6, dataset6)\n",
    "api.ok(evaluation_ensemble_train6)"
   ]
  },
  {
   "cell_type": "code",
   "execution_count": 452,
   "metadata": {},
   "outputs": [],
   "source": [
    "ensemble_train_accuracy.append(evaluation_ensemble_train6['object']['result']['model']['accuracy'])\n",
    "ensemble_train_auc.append(evaluation_ensemble_train6['object']['result']['model']['average_area_under_roc_curve'])"
   ]
  },
  {
   "cell_type": "markdown",
   "metadata": {},
   "source": [
    "We evaluate the ensemble in the test set"
   ]
  },
  {
   "cell_type": "code",
   "execution_count": 238,
   "metadata": {},
   "outputs": [
    {
     "data": {
      "text/plain": [
       "True"
      ]
     },
     "execution_count": 238,
     "metadata": {},
     "output_type": "execute_result"
    }
   ],
   "source": [
    "evaluation_ensemble_test6 = api.create_evaluation(ensemble6, test_dataset3)\n",
    "api.ok(evaluation_ensemble_test6)"
   ]
  },
  {
   "cell_type": "code",
   "execution_count": 453,
   "metadata": {},
   "outputs": [],
   "source": [
    "ensemble_test_accuracy.append(evaluation_ensemble_test6['object']['result']['model']['accuracy'])\n",
    "ensemble_test_auc.append(evaluation_ensemble_test6['object']['result']['model']['average_area_under_roc_curve'])"
   ]
  },
  {
   "cell_type": "markdown",
   "metadata": {},
   "source": [
    "We evaluate the deepnet in the training set"
   ]
  },
  {
   "cell_type": "code",
   "execution_count": 240,
   "metadata": {},
   "outputs": [
    {
     "data": {
      "text/plain": [
       "True"
      ]
     },
     "execution_count": 240,
     "metadata": {},
     "output_type": "execute_result"
    }
   ],
   "source": [
    "evaluation_deepnet_train6 = api.create_evaluation(deepnet6, dataset6)\n",
    "api.ok(evaluation_deepnet_train6)"
   ]
  },
  {
   "cell_type": "code",
   "execution_count": 454,
   "metadata": {},
   "outputs": [],
   "source": [
    "deepnet_train_accuracy.append(evaluation_deepnet_train6['object']['result']['model']['accuracy'])\n",
    "deepnet_train_auc.append(evaluation_deepnet_train6['object']['result']['model']['average_area_under_roc_curve'])"
   ]
  },
  {
   "cell_type": "markdown",
   "metadata": {},
   "source": [
    "We evaluate the deepnet in the test set"
   ]
  },
  {
   "cell_type": "code",
   "execution_count": 241,
   "metadata": {},
   "outputs": [
    {
     "data": {
      "text/plain": [
       "True"
      ]
     },
     "execution_count": 241,
     "metadata": {},
     "output_type": "execute_result"
    }
   ],
   "source": [
    "evaluation_deepnet_test6 = api.create_evaluation(deepnet6, test_dataset3)\n",
    "api.ok(evaluation_deepnet_test6)"
   ]
  },
  {
   "cell_type": "code",
   "execution_count": 455,
   "metadata": {},
   "outputs": [],
   "source": [
    "deepnet_test_accuracy.append(evaluation_deepnet_test6['object']['result']['model']['accuracy'])\n",
    "deepnet_test_auc.append(evaluation_deepnet_test6['object']['result']['model']['average_area_under_roc_curve'])"
   ]
  },
  {
   "cell_type": "markdown",
   "metadata": {},
   "source": [
    "### Evaluation 7"
   ]
  },
  {
   "cell_type": "markdown",
   "metadata": {},
   "source": [
    "We evaluate the ensemble in the train set"
   ]
  },
  {
   "cell_type": "code",
   "execution_count": 243,
   "metadata": {},
   "outputs": [
    {
     "data": {
      "text/plain": [
       "True"
      ]
     },
     "execution_count": 243,
     "metadata": {},
     "output_type": "execute_result"
    }
   ],
   "source": [
    "evaluation_ensemble_train7 = api.create_evaluation(ensemble7, dataset7)\n",
    "api.ok(evaluation_ensemble_train7)"
   ]
  },
  {
   "cell_type": "code",
   "execution_count": 456,
   "metadata": {},
   "outputs": [],
   "source": [
    "ensemble_train_accuracy.append(evaluation_ensemble_train7['object']['result']['model']['accuracy'])\n",
    "ensemble_train_auc.append(evaluation_ensemble_train7['object']['result']['model']['average_area_under_roc_curve'])"
   ]
  },
  {
   "cell_type": "markdown",
   "metadata": {},
   "source": [
    "We evaluate the ensemble in the test set"
   ]
  },
  {
   "cell_type": "code",
   "execution_count": 250,
   "metadata": {},
   "outputs": [
    {
     "data": {
      "text/plain": [
       "True"
      ]
     },
     "execution_count": 250,
     "metadata": {},
     "output_type": "execute_result"
    }
   ],
   "source": [
    "evaluation_ensemble_test7 = api.create_evaluation(ensemble7, test_dataset3)\n",
    "api.ok(evaluation_ensemble_test7)"
   ]
  },
  {
   "cell_type": "code",
   "execution_count": 457,
   "metadata": {},
   "outputs": [],
   "source": [
    "ensemble_test_accuracy.append(evaluation_ensemble_test7['object']['result']['model']['accuracy'])\n",
    "ensemble_test_auc.append(evaluation_ensemble_test7['object']['result']['model']['average_area_under_roc_curve'])"
   ]
  },
  {
   "cell_type": "markdown",
   "metadata": {},
   "source": [
    "We evaluate the deepnet in the training set"
   ]
  },
  {
   "cell_type": "code",
   "execution_count": 246,
   "metadata": {},
   "outputs": [
    {
     "data": {
      "text/plain": [
       "True"
      ]
     },
     "execution_count": 246,
     "metadata": {},
     "output_type": "execute_result"
    }
   ],
   "source": [
    "evaluation_deepnet_train7 = api.create_evaluation(deepnet7, dataset7)\n",
    "api.ok(evaluation_deepnet_train7)"
   ]
  },
  {
   "cell_type": "code",
   "execution_count": 458,
   "metadata": {},
   "outputs": [],
   "source": [
    "deepnet_train_accuracy.append(evaluation_deepnet_train7['object']['result']['model']['accuracy'])\n",
    "deepnet_train_auc.append(evaluation_deepnet_train7['object']['result']['model']['average_area_under_roc_curve'])"
   ]
  },
  {
   "cell_type": "markdown",
   "metadata": {},
   "source": [
    "We evaluate the deepnet in the test set"
   ]
  },
  {
   "cell_type": "code",
   "execution_count": 247,
   "metadata": {},
   "outputs": [
    {
     "data": {
      "text/plain": [
       "True"
      ]
     },
     "execution_count": 247,
     "metadata": {},
     "output_type": "execute_result"
    }
   ],
   "source": [
    "evaluation_deepnet_test7 = api.create_evaluation(deepnet7, test_dataset3)\n",
    "api.ok(evaluation_deepnet_test7)"
   ]
  },
  {
   "cell_type": "code",
   "execution_count": 459,
   "metadata": {},
   "outputs": [],
   "source": [
    "deepnet_test_accuracy.append(evaluation_deepnet_test7['object']['result']['model']['accuracy'])\n",
    "deepnet_test_auc.append(evaluation_deepnet_test7['object']['result']['model']['average_area_under_roc_curve'])"
   ]
  },
  {
   "cell_type": "markdown",
   "metadata": {},
   "source": [
    "### Evaluation 8"
   ]
  },
  {
   "cell_type": "markdown",
   "metadata": {},
   "source": [
    "We evaluate the ensemble in the train set"
   ]
  },
  {
   "cell_type": "code",
   "execution_count": 254,
   "metadata": {},
   "outputs": [
    {
     "data": {
      "text/plain": [
       "True"
      ]
     },
     "execution_count": 254,
     "metadata": {},
     "output_type": "execute_result"
    }
   ],
   "source": [
    "evaluation_ensemble_train8 = api.create_evaluation(ensemble8, dataset8)\n",
    "api.ok(evaluation_ensemble_train8)"
   ]
  },
  {
   "cell_type": "code",
   "execution_count": 460,
   "metadata": {},
   "outputs": [],
   "source": [
    "\n",
    "ensemble_train_accuracy.append(evaluation_ensemble_train8['object']['result']['model']['accuracy'])\n",
    "ensemble_train_auc.append(evaluation_ensemble_train8['object']['result']['model']['average_area_under_roc_curve'])"
   ]
  },
  {
   "cell_type": "markdown",
   "metadata": {},
   "source": [
    "We evaluate the ensemble in the test set"
   ]
  },
  {
   "cell_type": "code",
   "execution_count": 256,
   "metadata": {},
   "outputs": [
    {
     "data": {
      "text/plain": [
       "True"
      ]
     },
     "execution_count": 256,
     "metadata": {},
     "output_type": "execute_result"
    }
   ],
   "source": [
    "evaluation_ensemble_test8 = api.create_evaluation(ensemble8, test_dataset3)\n",
    "api.ok(evaluation_ensemble_test8)"
   ]
  },
  {
   "cell_type": "code",
   "execution_count": 461,
   "metadata": {},
   "outputs": [],
   "source": [
    "ensemble_test_accuracy.append(evaluation_ensemble_test8['object']['result']['model']['accuracy'])\n",
    "ensemble_test_auc.append(evaluation_ensemble_test8['object']['result']['model']['average_area_under_roc_curve'])"
   ]
  },
  {
   "cell_type": "markdown",
   "metadata": {},
   "source": [
    "We evaluate the deepnet in the training set"
   ]
  },
  {
   "cell_type": "code",
   "execution_count": 258,
   "metadata": {},
   "outputs": [
    {
     "data": {
      "text/plain": [
       "True"
      ]
     },
     "execution_count": 258,
     "metadata": {},
     "output_type": "execute_result"
    }
   ],
   "source": [
    "evaluation_deepnet_train8 = api.create_evaluation(deepnet8, dataset8)\n",
    "api.ok(evaluation_deepnet_train8)"
   ]
  },
  {
   "cell_type": "code",
   "execution_count": 462,
   "metadata": {},
   "outputs": [],
   "source": [
    "deepnet_train_accuracy.append(evaluation_deepnet_train8['object']['result']['model']['accuracy'])\n",
    "deepnet_train_auc.append(evaluation_deepnet_train8['object']['result']['model']['average_area_under_roc_curve'])"
   ]
  },
  {
   "cell_type": "markdown",
   "metadata": {},
   "source": [
    "We evaluate the deepnet in the test set"
   ]
  },
  {
   "cell_type": "code",
   "execution_count": 260,
   "metadata": {},
   "outputs": [
    {
     "data": {
      "text/plain": [
       "True"
      ]
     },
     "execution_count": 260,
     "metadata": {},
     "output_type": "execute_result"
    }
   ],
   "source": [
    "evaluation_deepnet_test8 = api.create_evaluation(deepnet8, test_dataset3)\n",
    "api.ok(evaluation_deepnet_test8)"
   ]
  },
  {
   "cell_type": "code",
   "execution_count": 463,
   "metadata": {},
   "outputs": [],
   "source": [
    "deepnet_test_accuracy.append(evaluation_deepnet_test8['object']['result']['model']['accuracy'])\n",
    "deepnet_test_auc.append(evaluation_deepnet_test8['object']['result']['model']['average_area_under_roc_curve'])"
   ]
  },
  {
   "cell_type": "markdown",
   "metadata": {},
   "source": [
    "### Evaluation 9"
   ]
  },
  {
   "cell_type": "markdown",
   "metadata": {},
   "source": [
    "We evaluate the ensemble in the train set"
   ]
  },
  {
   "cell_type": "code",
   "execution_count": 262,
   "metadata": {},
   "outputs": [
    {
     "data": {
      "text/plain": [
       "True"
      ]
     },
     "execution_count": 262,
     "metadata": {},
     "output_type": "execute_result"
    }
   ],
   "source": [
    "evaluation_ensemble_train9 = api.create_evaluation(ensemble9, dataset9)\n",
    "api.ok(evaluation_ensemble_train9)"
   ]
  },
  {
   "cell_type": "code",
   "execution_count": 464,
   "metadata": {},
   "outputs": [],
   "source": [
    "ensemble_train_accuracy.append(evaluation_ensemble_train9['object']['result']['model']['accuracy'])\n",
    "ensemble_train_auc.append(evaluation_ensemble_train9['object']['result']['model']['average_area_under_roc_curve'])"
   ]
  },
  {
   "cell_type": "markdown",
   "metadata": {},
   "source": [
    "We evaluate the ensemble in the test set"
   ]
  },
  {
   "cell_type": "code",
   "execution_count": 263,
   "metadata": {},
   "outputs": [
    {
     "data": {
      "text/plain": [
       "True"
      ]
     },
     "execution_count": 263,
     "metadata": {},
     "output_type": "execute_result"
    }
   ],
   "source": [
    "evaluation_ensemble_test9 = api.create_evaluation(ensemble9, test_dataset3)\n",
    "api.ok(evaluation_ensemble_test9)"
   ]
  },
  {
   "cell_type": "code",
   "execution_count": 465,
   "metadata": {},
   "outputs": [],
   "source": [
    "ensemble_test_accuracy.append(evaluation_ensemble_test9['object']['result']['model']['accuracy'])\n",
    "ensemble_test_auc.append(evaluation_ensemble_test9['object']['result']['model']['average_area_under_roc_curve'])"
   ]
  },
  {
   "cell_type": "markdown",
   "metadata": {},
   "source": [
    "We evaluate the deepnet in the training set"
   ]
  },
  {
   "cell_type": "code",
   "execution_count": 264,
   "metadata": {},
   "outputs": [
    {
     "data": {
      "text/plain": [
       "True"
      ]
     },
     "execution_count": 264,
     "metadata": {},
     "output_type": "execute_result"
    }
   ],
   "source": [
    "evaluation_deepnet_train9 = api.create_evaluation(deepnet9, dataset9)\n",
    "api.ok(evaluation_deepnet_train9)"
   ]
  },
  {
   "cell_type": "code",
   "execution_count": 466,
   "metadata": {},
   "outputs": [],
   "source": [
    "deepnet_train_accuracy.append(evaluation_deepnet_train9['object']['result']['model']['accuracy'])\n",
    "deepnet_train_auc.append(evaluation_deepnet_train9['object']['result']['model']['average_area_under_roc_curve'])"
   ]
  },
  {
   "cell_type": "markdown",
   "metadata": {},
   "source": [
    "We evaluate the deepnet in the test set"
   ]
  },
  {
   "cell_type": "code",
   "execution_count": 265,
   "metadata": {},
   "outputs": [
    {
     "data": {
      "text/plain": [
       "True"
      ]
     },
     "execution_count": 265,
     "metadata": {},
     "output_type": "execute_result"
    }
   ],
   "source": [
    "evaluation_deepnet_test9 = api.create_evaluation(deepnet9, test_dataset3)\n",
    "api.ok(evaluation_deepnet_test9)"
   ]
  },
  {
   "cell_type": "code",
   "execution_count": 467,
   "metadata": {},
   "outputs": [],
   "source": [
    "deepnet_test_accuracy.append(evaluation_deepnet_test9['object']['result']['model']['accuracy'])\n",
    "deepnet_test_auc.append(evaluation_deepnet_test9['object']['result']['model']['average_area_under_roc_curve'])"
   ]
  },
  {
   "cell_type": "markdown",
   "metadata": {},
   "source": [
    "### Evaluation 10"
   ]
  },
  {
   "cell_type": "markdown",
   "metadata": {},
   "source": [
    "We evaluate the ensemble in the train set"
   ]
  },
  {
   "cell_type": "code",
   "execution_count": 270,
   "metadata": {},
   "outputs": [
    {
     "data": {
      "text/plain": [
       "True"
      ]
     },
     "execution_count": 270,
     "metadata": {},
     "output_type": "execute_result"
    }
   ],
   "source": [
    "evaluation_ensemble_train10 = api.create_evaluation(ensemble10, dataset10)\n",
    "api.ok(evaluation_ensemble_train10)"
   ]
  },
  {
   "cell_type": "code",
   "execution_count": 468,
   "metadata": {},
   "outputs": [],
   "source": [
    "ensemble_train_accuracy.append(evaluation_ensemble_train10['object']['result']['model']['accuracy'])\n",
    "ensemble_train_auc.append(evaluation_ensemble_train10['object']['result']['model']['average_area_under_roc_curve'])"
   ]
  },
  {
   "cell_type": "markdown",
   "metadata": {},
   "source": [
    "We evaluate the ensemble in the test set"
   ]
  },
  {
   "cell_type": "code",
   "execution_count": 271,
   "metadata": {},
   "outputs": [
    {
     "data": {
      "text/plain": [
       "True"
      ]
     },
     "execution_count": 271,
     "metadata": {},
     "output_type": "execute_result"
    }
   ],
   "source": [
    "evaluation_ensemble_test10 = api.create_evaluation(ensemble10, test_dataset3)\n",
    "api.ok(evaluation_ensemble_test10)"
   ]
  },
  {
   "cell_type": "code",
   "execution_count": 469,
   "metadata": {},
   "outputs": [],
   "source": [
    "ensemble_test_accuracy.append(evaluation_ensemble_test10['object']['result']['model']['accuracy'])\n",
    "ensemble_test_auc.append(evaluation_ensemble_test10['object']['result']['model']['average_area_under_roc_curve'])"
   ]
  },
  {
   "cell_type": "markdown",
   "metadata": {},
   "source": [
    "We evaluate the deepnet in the training set"
   ]
  },
  {
   "cell_type": "code",
   "execution_count": 272,
   "metadata": {},
   "outputs": [
    {
     "data": {
      "text/plain": [
       "True"
      ]
     },
     "execution_count": 272,
     "metadata": {},
     "output_type": "execute_result"
    }
   ],
   "source": [
    "evaluation_deepnet_train10 = api.create_evaluation(deepnet10, dataset10)\n",
    "api.ok(evaluation_deepnet_train10)"
   ]
  },
  {
   "cell_type": "code",
   "execution_count": 470,
   "metadata": {},
   "outputs": [],
   "source": [
    "deepnet_train_accuracy.append(evaluation_deepnet_train10['object']['result']['model']['accuracy'])\n",
    "deepnet_train_auc.append(evaluation_deepnet_train10['object']['result']['model']['average_area_under_roc_curve'])"
   ]
  },
  {
   "cell_type": "markdown",
   "metadata": {},
   "source": [
    "We evaluate the deepnet in the test set"
   ]
  },
  {
   "cell_type": "code",
   "execution_count": 273,
   "metadata": {},
   "outputs": [
    {
     "data": {
      "text/plain": [
       "True"
      ]
     },
     "execution_count": 273,
     "metadata": {},
     "output_type": "execute_result"
    }
   ],
   "source": [
    "evaluation_deepnet_test10 = api.create_evaluation(deepnet10, test_dataset3)\n",
    "api.ok(evaluation_deepnet_test10)"
   ]
  },
  {
   "cell_type": "code",
   "execution_count": 471,
   "metadata": {},
   "outputs": [],
   "source": [
    "deepnet_test_accuracy.append(evaluation_deepnet_test10['object']['result']['model']['accuracy'])\n",
    "deepnet_test_auc.append(evaluation_deepnet_test10['object']['result']['model']['average_area_under_roc_curve'])"
   ]
  },
  {
   "cell_type": "markdown",
   "metadata": {},
   "source": [
    "### Evaluation 11"
   ]
  },
  {
   "cell_type": "markdown",
   "metadata": {},
   "source": [
    "We evaluate the ensemble in the train set"
   ]
  },
  {
   "cell_type": "code",
   "execution_count": 278,
   "metadata": {},
   "outputs": [
    {
     "data": {
      "text/plain": [
       "True"
      ]
     },
     "execution_count": 278,
     "metadata": {},
     "output_type": "execute_result"
    }
   ],
   "source": [
    "evaluation_ensemble_train11 = api.create_evaluation(ensemble11, dataset11)\n",
    "api.ok(evaluation_ensemble_train11)"
   ]
  },
  {
   "cell_type": "code",
   "execution_count": 472,
   "metadata": {},
   "outputs": [],
   "source": [
    "ensemble_train_accuracy.append(evaluation_ensemble_train11['object']['result']['model']['accuracy'])\n",
    "ensemble_train_auc.append(evaluation_ensemble_train11['object']['result']['model']['average_area_under_roc_curve'])"
   ]
  },
  {
   "cell_type": "markdown",
   "metadata": {},
   "source": [
    "We evaluate the ensemble in the test set"
   ]
  },
  {
   "cell_type": "code",
   "execution_count": 279,
   "metadata": {},
   "outputs": [
    {
     "data": {
      "text/plain": [
       "True"
      ]
     },
     "execution_count": 279,
     "metadata": {},
     "output_type": "execute_result"
    }
   ],
   "source": [
    "evaluation_ensemble_test11 = api.create_evaluation(ensemble11, test_dataset3)\n",
    "api.ok(evaluation_ensemble_test11)"
   ]
  },
  {
   "cell_type": "code",
   "execution_count": 473,
   "metadata": {},
   "outputs": [],
   "source": [
    "ensemble_test_accuracy.append(evaluation_ensemble_test11['object']['result']['model']['accuracy'])\n",
    "ensemble_test_auc.append(evaluation_ensemble_test11['object']['result']['model']['average_area_under_roc_curve'])"
   ]
  },
  {
   "cell_type": "markdown",
   "metadata": {},
   "source": [
    "We evaluate the deepnet in the training set"
   ]
  },
  {
   "cell_type": "code",
   "execution_count": 284,
   "metadata": {},
   "outputs": [
    {
     "data": {
      "text/plain": [
       "True"
      ]
     },
     "execution_count": 284,
     "metadata": {},
     "output_type": "execute_result"
    }
   ],
   "source": [
    "evaluation_deepnet_train11 = api.create_evaluation(deepnet11, dataset11)\n",
    "api.ok(evaluation_deepnet_train11)"
   ]
  },
  {
   "cell_type": "code",
   "execution_count": 474,
   "metadata": {},
   "outputs": [],
   "source": [
    "deepnet_train_accuracy.append(evaluation_deepnet_train11['object']['result']['model']['accuracy'])\n",
    "deepnet_train_auc.append(evaluation_deepnet_train11['object']['result']['model']['average_area_under_roc_curve'])"
   ]
  },
  {
   "cell_type": "markdown",
   "metadata": {},
   "source": [
    "We evaluate the deepnet in the test set"
   ]
  },
  {
   "cell_type": "code",
   "execution_count": 287,
   "metadata": {},
   "outputs": [
    {
     "data": {
      "text/plain": [
       "True"
      ]
     },
     "execution_count": 287,
     "metadata": {},
     "output_type": "execute_result"
    }
   ],
   "source": [
    "evaluation_deepnet_test11 = api.create_evaluation(deepnet11, test_dataset3)\n",
    "api.ok(evaluation_deepnet_test11)"
   ]
  },
  {
   "cell_type": "code",
   "execution_count": 475,
   "metadata": {},
   "outputs": [],
   "source": [
    "deepnet_test_accuracy.append(evaluation_deepnet_test11['object']['result']['model']['accuracy'])\n",
    "deepnet_test_auc.append(evaluation_deepnet_test11['object']['result']['model']['average_area_under_roc_curve'])"
   ]
  },
  {
   "cell_type": "markdown",
   "metadata": {},
   "source": [
    "### Evaluation 12"
   ]
  },
  {
   "cell_type": "markdown",
   "metadata": {},
   "source": [
    "We evaluate the ensemble in the train set"
   ]
  },
  {
   "cell_type": "code",
   "execution_count": 289,
   "metadata": {},
   "outputs": [
    {
     "data": {
      "text/plain": [
       "True"
      ]
     },
     "execution_count": 289,
     "metadata": {},
     "output_type": "execute_result"
    }
   ],
   "source": [
    "evaluation_ensemble_train12 = api.create_evaluation(ensemble12, dataset12)\n",
    "api.ok(evaluation_ensemble_train12)"
   ]
  },
  {
   "cell_type": "code",
   "execution_count": 476,
   "metadata": {},
   "outputs": [],
   "source": [
    "ensemble_train_accuracy.append(evaluation_ensemble_train12['object']['result']['model']['accuracy'])\n",
    "ensemble_train_auc.append(evaluation_ensemble_train12['object']['result']['model']['average_area_under_roc_curve'])"
   ]
  },
  {
   "cell_type": "markdown",
   "metadata": {},
   "source": [
    "We evaluate the ensemble in the test set"
   ]
  },
  {
   "cell_type": "code",
   "execution_count": 290,
   "metadata": {},
   "outputs": [
    {
     "data": {
      "text/plain": [
       "True"
      ]
     },
     "execution_count": 290,
     "metadata": {},
     "output_type": "execute_result"
    }
   ],
   "source": [
    "evaluation_ensemble_test12 = api.create_evaluation(ensemble12, test_dataset3)\n",
    "api.ok(evaluation_ensemble_test12)"
   ]
  },
  {
   "cell_type": "code",
   "execution_count": 477,
   "metadata": {},
   "outputs": [],
   "source": [
    "ensemble_test_accuracy.append(evaluation_ensemble_test12['object']['result']['model']['accuracy'])\n",
    "ensemble_test_auc.append(evaluation_ensemble_test12['object']['result']['model']['average_area_under_roc_curve'])"
   ]
  },
  {
   "cell_type": "markdown",
   "metadata": {},
   "source": [
    "We evaluate the deepnet in the training set"
   ]
  },
  {
   "cell_type": "code",
   "execution_count": 295,
   "metadata": {},
   "outputs": [
    {
     "data": {
      "text/plain": [
       "True"
      ]
     },
     "execution_count": 295,
     "metadata": {},
     "output_type": "execute_result"
    }
   ],
   "source": [
    "evaluation_deepnet_train12 = api.create_evaluation(deepnet12, dataset12)\n",
    "api.ok(evaluation_deepnet_train12)"
   ]
  },
  {
   "cell_type": "code",
   "execution_count": 478,
   "metadata": {},
   "outputs": [],
   "source": [
    "deepnet_train_accuracy.append(evaluation_deepnet_train12['object']['result']['model']['accuracy'])\n",
    "deepnet_train_auc.append(evaluation_deepnet_train12['object']['result']['model']['average_area_under_roc_curve'])"
   ]
  },
  {
   "cell_type": "markdown",
   "metadata": {},
   "source": [
    "We evaluate the deepnet in the test set"
   ]
  },
  {
   "cell_type": "code",
   "execution_count": 296,
   "metadata": {},
   "outputs": [
    {
     "data": {
      "text/plain": [
       "True"
      ]
     },
     "execution_count": 296,
     "metadata": {},
     "output_type": "execute_result"
    }
   ],
   "source": [
    "evaluation_deepnet_test12 = api.create_evaluation(deepnet12, test_dataset3)\n",
    "api.ok(evaluation_deepnet_test12)"
   ]
  },
  {
   "cell_type": "code",
   "execution_count": 479,
   "metadata": {},
   "outputs": [],
   "source": [
    "deepnet_test_accuracy.append(evaluation_deepnet_test12['object']['result']['model']['accuracy'])\n",
    "deepnet_test_auc.append(evaluation_deepnet_test12['object']['result']['model']['average_area_under_roc_curve'])"
   ]
  },
  {
   "cell_type": "markdown",
   "metadata": {},
   "source": [
    "### Evaluation 13"
   ]
  },
  {
   "cell_type": "markdown",
   "metadata": {},
   "source": [
    "We evaluate the ensemble in the train set"
   ]
  },
  {
   "cell_type": "code",
   "execution_count": 297,
   "metadata": {},
   "outputs": [
    {
     "data": {
      "text/plain": [
       "True"
      ]
     },
     "execution_count": 297,
     "metadata": {},
     "output_type": "execute_result"
    }
   ],
   "source": [
    "evaluation_ensemble_train13 = api.create_evaluation(ensemble13, dataset13)\n",
    "api.ok(evaluation_ensemble_train13)"
   ]
  },
  {
   "cell_type": "code",
   "execution_count": 480,
   "metadata": {},
   "outputs": [],
   "source": [
    "ensemble_train_accuracy.append(evaluation_ensemble_train13['object']['result']['model']['accuracy'])\n",
    "ensemble_train_auc.append(evaluation_ensemble_train13['object']['result']['model']['average_area_under_roc_curve'])"
   ]
  },
  {
   "cell_type": "markdown",
   "metadata": {},
   "source": [
    "We evaluate the ensemble in the test set"
   ]
  },
  {
   "cell_type": "code",
   "execution_count": 298,
   "metadata": {},
   "outputs": [
    {
     "data": {
      "text/plain": [
       "True"
      ]
     },
     "execution_count": 298,
     "metadata": {},
     "output_type": "execute_result"
    }
   ],
   "source": [
    "evaluation_ensemble_test13 = api.create_evaluation(ensemble13, test_dataset3)\n",
    "api.ok(evaluation_ensemble_test13)"
   ]
  },
  {
   "cell_type": "code",
   "execution_count": 481,
   "metadata": {},
   "outputs": [],
   "source": [
    "ensemble_test_accuracy.append(evaluation_ensemble_test13['object']['result']['model']['accuracy'])\n",
    "ensemble_test_auc.append(evaluation_ensemble_test13['object']['result']['model']['average_area_under_roc_curve'])"
   ]
  },
  {
   "cell_type": "markdown",
   "metadata": {},
   "source": [
    "We evaluate the deepnet in the training set"
   ]
  },
  {
   "cell_type": "code",
   "execution_count": 303,
   "metadata": {},
   "outputs": [
    {
     "data": {
      "text/plain": [
       "True"
      ]
     },
     "execution_count": 303,
     "metadata": {},
     "output_type": "execute_result"
    }
   ],
   "source": [
    "evaluation_deepnet_train13 = api.create_evaluation(deepnet13, dataset13)\n",
    "api.ok(evaluation_deepnet_train13)"
   ]
  },
  {
   "cell_type": "code",
   "execution_count": 482,
   "metadata": {},
   "outputs": [],
   "source": [
    "deepnet_train_accuracy.append(evaluation_deepnet_train13['object']['result']['model']['accuracy'])\n",
    "deepnet_train_auc.append(evaluation_deepnet_train13['object']['result']['model']['average_area_under_roc_curve'])"
   ]
  },
  {
   "cell_type": "markdown",
   "metadata": {},
   "source": [
    "We evaluate the deepnet in the test set"
   ]
  },
  {
   "cell_type": "code",
   "execution_count": 305,
   "metadata": {},
   "outputs": [
    {
     "data": {
      "text/plain": [
       "True"
      ]
     },
     "execution_count": 305,
     "metadata": {},
     "output_type": "execute_result"
    }
   ],
   "source": [
    "evaluation_deepnet_test13 = api.create_evaluation(deepnet13, test_dataset3)\n",
    "api.ok(evaluation_deepnet_test13)"
   ]
  },
  {
   "cell_type": "code",
   "execution_count": 483,
   "metadata": {},
   "outputs": [],
   "source": [
    "deepnet_test_accuracy.append(evaluation_deepnet_test13['object']['result']['model']['accuracy'])\n",
    "deepnet_test_auc.append(evaluation_deepnet_test13['object']['result']['model']['average_area_under_roc_curve'])"
   ]
  },
  {
   "cell_type": "markdown",
   "metadata": {},
   "source": [
    "### Evaluation 14"
   ]
  },
  {
   "cell_type": "markdown",
   "metadata": {},
   "source": [
    "We evaluate the ensemble in the train set"
   ]
  },
  {
   "cell_type": "code",
   "execution_count": 309,
   "metadata": {},
   "outputs": [
    {
     "data": {
      "text/plain": [
       "True"
      ]
     },
     "execution_count": 309,
     "metadata": {},
     "output_type": "execute_result"
    }
   ],
   "source": [
    "evaluation_ensemble_train14 = api.create_evaluation(ensemble14, dataset14)\n",
    "api.ok(evaluation_ensemble_train14)"
   ]
  },
  {
   "cell_type": "code",
   "execution_count": 484,
   "metadata": {},
   "outputs": [],
   "source": [
    "ensemble_train_accuracy.append(evaluation_ensemble_train14['object']['result']['model']['accuracy'])\n",
    "ensemble_train_auc.append(evaluation_ensemble_train14['object']['result']['model']['average_area_under_roc_curve'])"
   ]
  },
  {
   "cell_type": "markdown",
   "metadata": {},
   "source": [
    "We evaluate the ensemble in the test set"
   ]
  },
  {
   "cell_type": "code",
   "execution_count": 311,
   "metadata": {},
   "outputs": [
    {
     "data": {
      "text/plain": [
       "True"
      ]
     },
     "execution_count": 311,
     "metadata": {},
     "output_type": "execute_result"
    }
   ],
   "source": [
    "evaluation_ensemble_test14 = api.create_evaluation(ensemble14, test_dataset3)\n",
    "api.ok(evaluation_ensemble_test14)"
   ]
  },
  {
   "cell_type": "code",
   "execution_count": 485,
   "metadata": {},
   "outputs": [],
   "source": [
    "ensemble_test_accuracy.append(evaluation_ensemble_test14['object']['result']['model']['accuracy'])\n",
    "ensemble_test_auc.append(evaluation_ensemble_test14['object']['result']['model']['average_area_under_roc_curve'])"
   ]
  },
  {
   "cell_type": "markdown",
   "metadata": {},
   "source": [
    "We evaluate the deepnet in the training set"
   ]
  },
  {
   "cell_type": "code",
   "execution_count": 313,
   "metadata": {},
   "outputs": [
    {
     "data": {
      "text/plain": [
       "True"
      ]
     },
     "execution_count": 313,
     "metadata": {},
     "output_type": "execute_result"
    }
   ],
   "source": [
    "evaluation_deepnet_train14 = api.create_evaluation(deepnet14, dataset14)\n",
    "api.ok(evaluation_deepnet_train14)"
   ]
  },
  {
   "cell_type": "code",
   "execution_count": 486,
   "metadata": {},
   "outputs": [],
   "source": [
    "deepnet_train_accuracy.append(evaluation_deepnet_train14['object']['result']['model']['accuracy'])\n",
    "deepnet_train_auc.append(evaluation_deepnet_train14['object']['result']['model']['average_area_under_roc_curve'])"
   ]
  },
  {
   "cell_type": "markdown",
   "metadata": {},
   "source": [
    "We evaluate the deepnet in the test set"
   ]
  },
  {
   "cell_type": "code",
   "execution_count": 315,
   "metadata": {},
   "outputs": [
    {
     "data": {
      "text/plain": [
       "True"
      ]
     },
     "execution_count": 315,
     "metadata": {},
     "output_type": "execute_result"
    }
   ],
   "source": [
    "evaluation_deepnet_test14 = api.create_evaluation(deepnet14, test_dataset3)\n",
    "api.ok(evaluation_deepnet_test14)"
   ]
  },
  {
   "cell_type": "code",
   "execution_count": 487,
   "metadata": {},
   "outputs": [],
   "source": [
    "deepnet_test_accuracy.append(evaluation_deepnet_test14['object']['result']['model']['accuracy'])\n",
    "deepnet_test_auc.append(evaluation_deepnet_test14['object']['result']['model']['average_area_under_roc_curve'])"
   ]
  },
  {
   "cell_type": "markdown",
   "metadata": {},
   "source": [
    "### Evaluation 15"
   ]
  },
  {
   "cell_type": "markdown",
   "metadata": {},
   "source": [
    "We evaluate the ensemble in the train set"
   ]
  },
  {
   "cell_type": "code",
   "execution_count": 327,
   "metadata": {},
   "outputs": [
    {
     "data": {
      "text/plain": [
       "True"
      ]
     },
     "execution_count": 327,
     "metadata": {},
     "output_type": "execute_result"
    }
   ],
   "source": [
    "evaluation_ensemble_train15 = api.create_evaluation(ensemble15, dataset15)\n",
    "api.ok(evaluation_ensemble_train15)"
   ]
  },
  {
   "cell_type": "code",
   "execution_count": 488,
   "metadata": {},
   "outputs": [],
   "source": [
    "ensemble_train_accuracy.append(evaluation_ensemble_train15['object']['result']['model']['accuracy'])\n",
    "ensemble_train_auc.append(evaluation_ensemble_train15['object']['result']['model']['average_area_under_roc_curve'])"
   ]
  },
  {
   "cell_type": "markdown",
   "metadata": {},
   "source": [
    "We evaluate the ensemble in the test set"
   ]
  },
  {
   "cell_type": "code",
   "execution_count": 326,
   "metadata": {},
   "outputs": [
    {
     "data": {
      "text/plain": [
       "True"
      ]
     },
     "execution_count": 326,
     "metadata": {},
     "output_type": "execute_result"
    }
   ],
   "source": [
    "evaluation_ensemble_test15 = api.create_evaluation(ensemble15, test_dataset3)\n",
    "api.ok(evaluation_ensemble_test15)"
   ]
  },
  {
   "cell_type": "code",
   "execution_count": 489,
   "metadata": {},
   "outputs": [],
   "source": [
    "ensemble_test_accuracy.append(evaluation_ensemble_test15['object']['result']['model']['accuracy'])\n",
    "ensemble_test_auc.append(evaluation_ensemble_test15['object']['result']['model']['average_area_under_roc_curve'])"
   ]
  },
  {
   "cell_type": "markdown",
   "metadata": {},
   "source": [
    "We evaluate the deepnet in the training set"
   ]
  },
  {
   "cell_type": "code",
   "execution_count": 330,
   "metadata": {},
   "outputs": [
    {
     "data": {
      "text/plain": [
       "True"
      ]
     },
     "execution_count": 330,
     "metadata": {},
     "output_type": "execute_result"
    }
   ],
   "source": [
    "evaluation_deepnet_train15 = api.create_evaluation(deepnet15, dataset15)\n",
    "api.ok(evaluation_deepnet_train15)"
   ]
  },
  {
   "cell_type": "code",
   "execution_count": 490,
   "metadata": {},
   "outputs": [],
   "source": [
    "deepnet_train_accuracy.append(evaluation_deepnet_train15['object']['result']['model']['accuracy'])\n",
    "deepnet_train_auc.append(evaluation_deepnet_train15['object']['result']['model']['average_area_under_roc_curve'])"
   ]
  },
  {
   "cell_type": "markdown",
   "metadata": {},
   "source": [
    "We evaluate the deepnet in the test set"
   ]
  },
  {
   "cell_type": "code",
   "execution_count": 332,
   "metadata": {},
   "outputs": [
    {
     "data": {
      "text/plain": [
       "True"
      ]
     },
     "execution_count": 332,
     "metadata": {},
     "output_type": "execute_result"
    }
   ],
   "source": [
    "evaluation_deepnet_test15 = api.create_evaluation(deepnet15, test_dataset3)\n",
    "api.ok(evaluation_deepnet_test15)"
   ]
  },
  {
   "cell_type": "code",
   "execution_count": 491,
   "metadata": {},
   "outputs": [],
   "source": [
    "deepnet_test_accuracy.append(evaluation_deepnet_test15['object']['result']['model']['accuracy'])\n",
    "deepnet_test_auc.append(evaluation_deepnet_test15['object']['result']['model']['average_area_under_roc_curve'])"
   ]
  },
  {
   "cell_type": "markdown",
   "metadata": {},
   "source": [
    "### Evaluation 16"
   ]
  },
  {
   "cell_type": "markdown",
   "metadata": {},
   "source": [
    "We evaluate the ensemble in the train set"
   ]
  },
  {
   "cell_type": "code",
   "execution_count": 334,
   "metadata": {},
   "outputs": [
    {
     "data": {
      "text/plain": [
       "True"
      ]
     },
     "execution_count": 334,
     "metadata": {},
     "output_type": "execute_result"
    }
   ],
   "source": [
    "evaluation_ensemble_train16 = api.create_evaluation(ensemble16, dataset16)\n",
    "api.ok(evaluation_ensemble_train16)"
   ]
  },
  {
   "cell_type": "code",
   "execution_count": 492,
   "metadata": {},
   "outputs": [],
   "source": [
    "ensemble_train_accuracy.append(evaluation_ensemble_train16['object']['result']['model']['accuracy'])\n",
    "ensemble_train_auc.append(evaluation_ensemble_train16['object']['result']['model']['average_area_under_roc_curve'])"
   ]
  },
  {
   "cell_type": "markdown",
   "metadata": {},
   "source": [
    "We evaluate the ensemble in the test set"
   ]
  },
  {
   "cell_type": "code",
   "execution_count": 336,
   "metadata": {},
   "outputs": [
    {
     "data": {
      "text/plain": [
       "True"
      ]
     },
     "execution_count": 336,
     "metadata": {},
     "output_type": "execute_result"
    }
   ],
   "source": [
    "evaluation_ensemble_test16 = api.create_evaluation(ensemble16, test_dataset3)\n",
    "api.ok(evaluation_ensemble_test16)"
   ]
  },
  {
   "cell_type": "code",
   "execution_count": 493,
   "metadata": {},
   "outputs": [],
   "source": [
    "ensemble_test_accuracy.append(evaluation_ensemble_test16['object']['result']['model']['accuracy'])\n",
    "ensemble_test_auc.append(evaluation_ensemble_test16['object']['result']['model']['average_area_under_roc_curve'])"
   ]
  },
  {
   "cell_type": "markdown",
   "metadata": {},
   "source": [
    "We evaluate the deepnet in the training set"
   ]
  },
  {
   "cell_type": "code",
   "execution_count": 338,
   "metadata": {},
   "outputs": [
    {
     "data": {
      "text/plain": [
       "True"
      ]
     },
     "execution_count": 338,
     "metadata": {},
     "output_type": "execute_result"
    }
   ],
   "source": [
    "evaluation_deepnet_train16 = api.create_evaluation(deepnet16, dataset16)\n",
    "api.ok(evaluation_deepnet_train16)"
   ]
  },
  {
   "cell_type": "code",
   "execution_count": 494,
   "metadata": {},
   "outputs": [],
   "source": [
    "deepnet_train_accuracy.append(evaluation_deepnet_train16['object']['result']['model']['accuracy'])\n",
    "deepnet_train_auc.append(evaluation_deepnet_train16['object']['result']['model']['average_area_under_roc_curve'])"
   ]
  },
  {
   "cell_type": "markdown",
   "metadata": {},
   "source": [
    "We evaluate the deepnet in the test set"
   ]
  },
  {
   "cell_type": "code",
   "execution_count": 340,
   "metadata": {},
   "outputs": [
    {
     "data": {
      "text/plain": [
       "True"
      ]
     },
     "execution_count": 340,
     "metadata": {},
     "output_type": "execute_result"
    }
   ],
   "source": [
    "evaluation_deepnet_test16 = api.create_evaluation(deepnet16, test_dataset3)\n",
    "api.ok(evaluation_deepnet_test16)"
   ]
  },
  {
   "cell_type": "code",
   "execution_count": 495,
   "metadata": {},
   "outputs": [],
   "source": [
    "deepnet_test_accuracy.append(evaluation_deepnet_test16['object']['result']['model']['accuracy'])\n",
    "deepnet_test_auc.append(evaluation_deepnet_test16['object']['result']['model']['average_area_under_roc_curve'])"
   ]
  },
  {
   "cell_type": "markdown",
   "metadata": {},
   "source": [
    "### Evaluation 17"
   ]
  },
  {
   "cell_type": "markdown",
   "metadata": {},
   "source": [
    "We evaluate the ensemble in the train set"
   ]
  },
  {
   "cell_type": "code",
   "execution_count": 342,
   "metadata": {},
   "outputs": [
    {
     "data": {
      "text/plain": [
       "True"
      ]
     },
     "execution_count": 342,
     "metadata": {},
     "output_type": "execute_result"
    }
   ],
   "source": [
    "evaluation_ensemble_train17 = api.create_evaluation(ensemble17, dataset17)\n",
    "api.ok(evaluation_ensemble_train17)"
   ]
  },
  {
   "cell_type": "code",
   "execution_count": 496,
   "metadata": {},
   "outputs": [],
   "source": [
    "ensemble_train_accuracy.append(evaluation_ensemble_train17['object']['result']['model']['accuracy'])\n",
    "ensemble_train_auc.append(evaluation_ensemble_train17['object']['result']['model']['average_area_under_roc_curve'])"
   ]
  },
  {
   "cell_type": "markdown",
   "metadata": {},
   "source": [
    "We evaluate the ensemble in the test set"
   ]
  },
  {
   "cell_type": "code",
   "execution_count": 345,
   "metadata": {},
   "outputs": [
    {
     "data": {
      "text/plain": [
       "True"
      ]
     },
     "execution_count": 345,
     "metadata": {},
     "output_type": "execute_result"
    }
   ],
   "source": [
    "evaluation_ensemble_test17 = api.create_evaluation(ensemble17, test_dataset3)\n",
    "api.ok(evaluation_ensemble_test17)"
   ]
  },
  {
   "cell_type": "code",
   "execution_count": 497,
   "metadata": {},
   "outputs": [],
   "source": [
    "ensemble_test_accuracy.append(evaluation_ensemble_test17['object']['result']['model']['accuracy'])\n",
    "ensemble_test_auc.append(evaluation_ensemble_test17['object']['result']['model']['average_area_under_roc_curve'])"
   ]
  },
  {
   "cell_type": "markdown",
   "metadata": {},
   "source": [
    "We evaluate the deepnet in the training set"
   ]
  },
  {
   "cell_type": "code",
   "execution_count": 347,
   "metadata": {},
   "outputs": [
    {
     "data": {
      "text/plain": [
       "True"
      ]
     },
     "execution_count": 347,
     "metadata": {},
     "output_type": "execute_result"
    }
   ],
   "source": [
    "evaluation_deepnet_train17 = api.create_evaluation(deepnet17, dataset17)\n",
    "api.ok(evaluation_deepnet_train17)"
   ]
  },
  {
   "cell_type": "code",
   "execution_count": 498,
   "metadata": {},
   "outputs": [],
   "source": [
    "deepnet_train_accuracy.append(evaluation_deepnet_train17['object']['result']['model']['accuracy'])\n",
    "deepnet_train_auc.append(evaluation_deepnet_train17['object']['result']['model']['average_area_under_roc_curve'])"
   ]
  },
  {
   "cell_type": "markdown",
   "metadata": {},
   "source": [
    "We evaluate the deepnet in the test set"
   ]
  },
  {
   "cell_type": "code",
   "execution_count": 349,
   "metadata": {},
   "outputs": [
    {
     "data": {
      "text/plain": [
       "True"
      ]
     },
     "execution_count": 349,
     "metadata": {},
     "output_type": "execute_result"
    }
   ],
   "source": [
    "evaluation_deepnet_test17 = api.create_evaluation(deepnet17, test_dataset3)\n",
    "api.ok(evaluation_deepnet_test17)"
   ]
  },
  {
   "cell_type": "code",
   "execution_count": 499,
   "metadata": {},
   "outputs": [],
   "source": [
    "deepnet_test_accuracy.append(evaluation_deepnet_test17['object']['result']['model']['accuracy'])\n",
    "deepnet_test_auc.append(evaluation_deepnet_test17['object']['result']['model']['average_area_under_roc_curve'])\n"
   ]
  },
  {
   "cell_type": "markdown",
   "metadata": {},
   "source": [
    "### Evaluation 18"
   ]
  },
  {
   "cell_type": "markdown",
   "metadata": {},
   "source": [
    "We evaluate the ensemble in the train set"
   ]
  },
  {
   "cell_type": "code",
   "execution_count": 351,
   "metadata": {},
   "outputs": [
    {
     "data": {
      "text/plain": [
       "True"
      ]
     },
     "execution_count": 351,
     "metadata": {},
     "output_type": "execute_result"
    }
   ],
   "source": [
    "evaluation_ensemble_train18 = api.create_evaluation(ensemble18, dataset18)\n",
    "api.ok(evaluation_ensemble_train18)"
   ]
  },
  {
   "cell_type": "code",
   "execution_count": 500,
   "metadata": {},
   "outputs": [],
   "source": [
    "ensemble_train_accuracy.append(evaluation_ensemble_train18['object']['result']['model']['accuracy'])\n",
    "ensemble_train_auc.append(evaluation_ensemble_train18['object']['result']['model']['average_area_under_roc_curve'])"
   ]
  },
  {
   "cell_type": "markdown",
   "metadata": {},
   "source": [
    "We evaluate the ensemble in the test set"
   ]
  },
  {
   "cell_type": "code",
   "execution_count": 353,
   "metadata": {},
   "outputs": [
    {
     "data": {
      "text/plain": [
       "True"
      ]
     },
     "execution_count": 353,
     "metadata": {},
     "output_type": "execute_result"
    }
   ],
   "source": [
    "evaluation_ensemble_test18 = api.create_evaluation(ensemble18, test_dataset3)\n",
    "api.ok(evaluation_ensemble_test18)"
   ]
  },
  {
   "cell_type": "code",
   "execution_count": 501,
   "metadata": {},
   "outputs": [],
   "source": [
    "ensemble_test_accuracy.append(evaluation_ensemble_test18['object']['result']['model']['accuracy'])\n",
    "ensemble_test_auc.append(evaluation_ensemble_test18['object']['result']['model']['average_area_under_roc_curve'])"
   ]
  },
  {
   "cell_type": "markdown",
   "metadata": {},
   "source": [
    "We evaluate the deepnet in the training set"
   ]
  },
  {
   "cell_type": "code",
   "execution_count": 355,
   "metadata": {},
   "outputs": [
    {
     "data": {
      "text/plain": [
       "True"
      ]
     },
     "execution_count": 355,
     "metadata": {},
     "output_type": "execute_result"
    }
   ],
   "source": [
    "evaluation_deepnet_train18 = api.create_evaluation(deepnet18, dataset18)\n",
    "api.ok(evaluation_deepnet_train18)"
   ]
  },
  {
   "cell_type": "code",
   "execution_count": 502,
   "metadata": {},
   "outputs": [],
   "source": [
    "deepnet_train_accuracy.append(evaluation_deepnet_train18['object']['result']['model']['accuracy'])\n",
    "deepnet_train_auc.append(evaluation_deepnet_train18['object']['result']['model']['average_area_under_roc_curve'])"
   ]
  },
  {
   "cell_type": "markdown",
   "metadata": {},
   "source": [
    "We evaluate the deepnet in the test set"
   ]
  },
  {
   "cell_type": "code",
   "execution_count": 357,
   "metadata": {},
   "outputs": [
    {
     "data": {
      "text/plain": [
       "True"
      ]
     },
     "execution_count": 357,
     "metadata": {},
     "output_type": "execute_result"
    }
   ],
   "source": [
    "evaluation_deepnet_test18 = api.create_evaluation(deepnet18, test_dataset3)\n",
    "api.ok(evaluation_deepnet_test18)"
   ]
  },
  {
   "cell_type": "code",
   "execution_count": 503,
   "metadata": {},
   "outputs": [],
   "source": [
    "deepnet_test_accuracy.append(evaluation_deepnet_test18['object']['result']['model']['accuracy'])\n",
    "deepnet_test_auc.append(evaluation_deepnet_test18['object']['result']['model']['average_area_under_roc_curve'])\n"
   ]
  },
  {
   "cell_type": "markdown",
   "metadata": {},
   "source": [
    "### Evaluation 19"
   ]
  },
  {
   "cell_type": "markdown",
   "metadata": {},
   "source": [
    "We evaluate the ensemble in the train set"
   ]
  },
  {
   "cell_type": "code",
   "execution_count": 359,
   "metadata": {},
   "outputs": [
    {
     "data": {
      "text/plain": [
       "True"
      ]
     },
     "execution_count": 359,
     "metadata": {},
     "output_type": "execute_result"
    }
   ],
   "source": [
    "evaluation_ensemble_train19 = api.create_evaluation(ensemble19, dataset19)\n",
    "api.ok(evaluation_ensemble_train19)"
   ]
  },
  {
   "cell_type": "code",
   "execution_count": 504,
   "metadata": {},
   "outputs": [],
   "source": [
    "ensemble_train_accuracy.append(evaluation_ensemble_train19['object']['result']['model']['accuracy'])\n",
    "ensemble_train_auc.append(evaluation_ensemble_train19['object']['result']['model']['average_area_under_roc_curve'])"
   ]
  },
  {
   "cell_type": "markdown",
   "metadata": {},
   "source": [
    "We evaluate the ensemble in the test set"
   ]
  },
  {
   "cell_type": "code",
   "execution_count": 361,
   "metadata": {},
   "outputs": [
    {
     "data": {
      "text/plain": [
       "True"
      ]
     },
     "execution_count": 361,
     "metadata": {},
     "output_type": "execute_result"
    }
   ],
   "source": [
    "evaluation_ensemble_test19 = api.create_evaluation(ensemble19, test_dataset3)\n",
    "api.ok(evaluation_ensemble_test19)"
   ]
  },
  {
   "cell_type": "code",
   "execution_count": 505,
   "metadata": {},
   "outputs": [],
   "source": [
    "ensemble_test_accuracy.append(evaluation_ensemble_test19['object']['result']['model']['accuracy'])\n",
    "ensemble_test_auc.append(evaluation_ensemble_test19['object']['result']['model']['average_area_under_roc_curve'])"
   ]
  },
  {
   "cell_type": "markdown",
   "metadata": {},
   "source": [
    "We evaluate the deepnet in the training set"
   ]
  },
  {
   "cell_type": "code",
   "execution_count": 363,
   "metadata": {},
   "outputs": [
    {
     "data": {
      "text/plain": [
       "True"
      ]
     },
     "execution_count": 363,
     "metadata": {},
     "output_type": "execute_result"
    }
   ],
   "source": [
    "evaluation_deepnet_train19 = api.create_evaluation(deepnet19, dataset19)\n",
    "api.ok(evaluation_deepnet_train19)"
   ]
  },
  {
   "cell_type": "code",
   "execution_count": 506,
   "metadata": {},
   "outputs": [],
   "source": [
    "deepnet_train_accuracy.append(evaluation_deepnet_train19['object']['result']['model']['accuracy'])\n",
    "deepnet_train_auc.append(evaluation_deepnet_train19['object']['result']['model']['average_area_under_roc_curve'])"
   ]
  },
  {
   "cell_type": "markdown",
   "metadata": {},
   "source": [
    "We evaluate the deepnet in the test set"
   ]
  },
  {
   "cell_type": "code",
   "execution_count": 365,
   "metadata": {},
   "outputs": [
    {
     "data": {
      "text/plain": [
       "True"
      ]
     },
     "execution_count": 365,
     "metadata": {},
     "output_type": "execute_result"
    }
   ],
   "source": [
    "evaluation_deepnet_test19 = api.create_evaluation(deepnet19, test_dataset3)\n",
    "api.ok(evaluation_deepnet_test19)"
   ]
  },
  {
   "cell_type": "code",
   "execution_count": 507,
   "metadata": {},
   "outputs": [],
   "source": [
    "deepnet_test_accuracy.append(evaluation_deepnet_test19['object']['result']['model']['accuracy'])\n",
    "deepnet_test_auc.append(evaluation_deepnet_test19['object']['result']['model']['average_area_under_roc_curve'])"
   ]
  },
  {
   "cell_type": "markdown",
   "metadata": {},
   "source": [
    "### Evaluation 20"
   ]
  },
  {
   "cell_type": "markdown",
   "metadata": {},
   "source": [
    "We evaluate the ensemble in the train set"
   ]
  },
  {
   "cell_type": "code",
   "execution_count": 368,
   "metadata": {},
   "outputs": [
    {
     "data": {
      "text/plain": [
       "True"
      ]
     },
     "execution_count": 368,
     "metadata": {},
     "output_type": "execute_result"
    }
   ],
   "source": [
    "evaluation_ensemble_train20 = api.create_evaluation(ensemble20, dataset20)\n",
    "api.ok(evaluation_ensemble_train20)"
   ]
  },
  {
   "cell_type": "code",
   "execution_count": 508,
   "metadata": {},
   "outputs": [],
   "source": [
    "ensemble_train_accuracy.append(evaluation_ensemble_train20['object']['result']['model']['accuracy'])\n",
    "ensemble_train_auc.append(evaluation_ensemble_train20['object']['result']['model']['average_area_under_roc_curve'])"
   ]
  },
  {
   "cell_type": "markdown",
   "metadata": {},
   "source": [
    "We evaluate the ensemble in the test set"
   ]
  },
  {
   "cell_type": "code",
   "execution_count": 370,
   "metadata": {},
   "outputs": [
    {
     "data": {
      "text/plain": [
       "True"
      ]
     },
     "execution_count": 370,
     "metadata": {},
     "output_type": "execute_result"
    }
   ],
   "source": [
    "evaluation_ensemble_test20 = api.create_evaluation(ensemble20, test_dataset3)\n",
    "api.ok(evaluation_ensemble_test20)"
   ]
  },
  {
   "cell_type": "code",
   "execution_count": 509,
   "metadata": {},
   "outputs": [],
   "source": [
    "ensemble_test_accuracy.append(evaluation_ensemble_test20['object']['result']['model']['accuracy'])\n",
    "ensemble_test_auc.append(evaluation_ensemble_test20['object']['result']['model']['average_area_under_roc_curve'])"
   ]
  },
  {
   "cell_type": "markdown",
   "metadata": {},
   "source": [
    "We evaluate the deepnet in the training set"
   ]
  },
  {
   "cell_type": "code",
   "execution_count": 372,
   "metadata": {},
   "outputs": [
    {
     "data": {
      "text/plain": [
       "True"
      ]
     },
     "execution_count": 372,
     "metadata": {},
     "output_type": "execute_result"
    }
   ],
   "source": [
    "evaluation_deepnet_train20 = api.create_evaluation(deepnet20, dataset20)\n",
    "api.ok(evaluation_deepnet_train20)"
   ]
  },
  {
   "cell_type": "code",
   "execution_count": 510,
   "metadata": {},
   "outputs": [],
   "source": [
    "deepnet_train_accuracy.append(evaluation_deepnet_train20['object']['result']['model']['accuracy'])\n",
    "deepnet_train_auc.append(evaluation_deepnet_train20['object']['result']['model']['average_area_under_roc_curve'])"
   ]
  },
  {
   "cell_type": "markdown",
   "metadata": {},
   "source": [
    "We evaluate the deepnet in the test set"
   ]
  },
  {
   "cell_type": "code",
   "execution_count": 376,
   "metadata": {},
   "outputs": [
    {
     "data": {
      "text/plain": [
       "True"
      ]
     },
     "execution_count": 376,
     "metadata": {},
     "output_type": "execute_result"
    }
   ],
   "source": [
    "evaluation_deepnet_test20 = api.create_evaluation(deepnet20, test_dataset3)\n",
    "api.ok(evaluation_deepnet_test20)"
   ]
  },
  {
   "cell_type": "code",
   "execution_count": 511,
   "metadata": {},
   "outputs": [],
   "source": [
    "deepnet_test_accuracy.append(evaluation_deepnet_test20['object']['result']['model']['accuracy'])\n",
    "deepnet_test_auc.append(evaluation_deepnet_test20['object']['result']['model']['average_area_under_roc_curve'])"
   ]
  },
  {
   "cell_type": "markdown",
   "metadata": {},
   "source": [
    "we create a empthy list bbr-data"
   ]
  },
  {
   "cell_type": "code",
   "execution_count": 512,
   "metadata": {},
   "outputs": [
    {
     "data": {
      "text/plain": [
       "[6000,\n",
       " 12000,\n",
       " 18000,\n",
       " 24000,\n",
       " 30000,\n",
       " 36000,\n",
       " 42000,\n",
       " 48000,\n",
       " 54000,\n",
       " 60000,\n",
       " 66000,\n",
       " 72000,\n",
       " 78000,\n",
       " 84000,\n",
       " 90000,\n",
       " 96000,\n",
       " 102000,\n",
       " 108000,\n",
       " 114000,\n",
       " 120000]"
      ]
     },
     "execution_count": 512,
     "metadata": {},
     "output_type": "execute_result"
    }
   ],
   "source": [
    "nbr_data =[]\n",
    "data=0\n",
    "while data <120000:\n",
    "    data= data+6000\n",
    "    nbr_data.append(data)\n",
    "    \n",
    "nbr_data"
   ]
  },
  {
   "cell_type": "markdown",
   "metadata": {},
   "source": [
    "### Evaluation 1"
   ]
  },
  {
   "cell_type": "code",
   "execution_count": 544,
   "metadata": {},
   "outputs": [
    {
     "data": {
      "image/png": "[encoded data removed]",
      "text/plain": [
       "<Figure size 576x432 with 1 Axes>"
      ]
     },
     "metadata": {
      "needs_background": "light"
     },
     "output_type": "display_data"
    }
   ],
   "source": [
    "\n",
    "fig, ax = plt.subplots(figsize=(8, 6), sharey=True)\n",
    "ax.plot(nbr_data, deepnet_test_accuracy, label=\"deepnet\")\n",
    "ax.plot(nbr_data, ensemble_test_accuracy, label=\"ensemble\")\n",
    "ax.legend()\n",
    "plt.ylabel('Accuracy', fontsize=20)\n",
    "plt.xlabel('Amount of data', fontsize=20)\n",
    "plt.title('comparison deepnet/ensemble accuracy' , fontsize=24)\n",
    "plt.show()\n",
    "\n"
   ]
  },
  {
   "cell_type": "code",
   "execution_count": 545,
   "metadata": {},
   "outputs": [
    {
     "data": {
      "image/png": "[encoded data removed]",
      "text/plain": [
       "<Figure size 576x432 with 1 Axes>"
      ]
     },
     "metadata": {
      "needs_background": "light"
     },
     "output_type": "display_data"
    }
   ],
   "source": [
    "fig, ax = plt.subplots(figsize=(8, 6), sharey=True)\n",
    "ax.plot(nbr_data, deepnet_test_auc, label=\"deepnet\")\n",
    "ax.plot(nbr_data, ensemble_test_auc, label=\"ensemble\")\n",
    "ax.legend()\n",
    "plt.ylabel('AUC', fontsize=20)\n",
    "plt.xlabel('Amount of data', fontsize=20)\n",
    "plt.title('comparison deepnet/ensemble AUC', fontsize=24)\n",
    "\n",
    "plt.show()"
   ]
  },
  {
   "cell_type": "code",
   "execution_count": 548,
   "metadata": {},
   "outputs": [
    {
     "data": {
      "image/png": "[encoded data removed]",
      "text/plain": [
       "<Figure size 576x432 with 1 Axes>"
      ]
     },
     "metadata": {
      "needs_background": "light"
     },
     "output_type": "display_data"
    }
   ],
   "source": [
    "fig, ax = plt.subplots(figsize=(8,6), sharey=True)\n",
    "ax.plot(nbr_data, deepnet_train_accuracy, label=\"deepnet train\")\n",
    "ax.plot(nbr_data, deepnet_test_accuracy, label=\"deepnet test\")\n",
    "ax.legend()\n",
    "plt.ylabel('Accuracy', fontsize=20)\n",
    "plt.xlabel('Amount of data', fontsize=20)\n",
    "plt.title('comparison deepnet accuracy train/test set', fontsize=24)\n",
    "plt.show()"
   ]
  },
  {
   "cell_type": "code",
   "execution_count": 549,
   "metadata": {},
   "outputs": [
    {
     "data": {
      "image/png": "[encoded data removed]",
      "text/plain": [
       "<Figure size 576x432 with 1 Axes>"
      ]
     },
     "metadata": {
      "needs_background": "light"
     },
     "output_type": "display_data"
    }
   ],
   "source": [
    "fig, ax = plt.subplots(figsize=(8,6), sharey=True)\n",
    "ax.plot(nbr_data, deepnet_train_auc, label=\"deepnet train\")\n",
    "ax.plot(nbr_data, deepnet_test_auc, label=\"deepnet test\")\n",
    "ax.legend()\n",
    "plt.ylabel('AUC', fontsize=20)\n",
    "plt.xlabel('Amount of data', fontsize=20)\n",
    "plt.title('comparison deepnet AUC train/test set', fontsize=24)\n",
    "plt.show()"
   ]
  },
  {
   "cell_type": "code",
   "execution_count": 546,
   "metadata": {},
   "outputs": [
    {
     "data": {
      "image/png": "[encoded data removed]",
      "text/plain": [
       "<Figure size 576x432 with 1 Axes>"
      ]
     },
     "metadata": {
      "needs_background": "light"
     },
     "output_type": "display_data"
    }
   ],
   "source": [
    "fig, ax = plt.subplots(figsize=(8,6), sharey=True)\n",
    "ax.plot(nbr_data, ensemble_train_accuracy, label=\"ensemble train\")\n",
    "ax.plot(nbr_data, ensemble_test_accuracy, label=\"ensemble test\")\n",
    "plt.ylabel('Accuracy', fontsize=20)\n",
    "plt.xlabel('Amount of data', fontsize=20)\n",
    "plt.title('comparison ensemble accuracy train/test set', fontsize=24)\n",
    "ax.legend()\n",
    "\n",
    "plt.show()"
   ]
  },
  {
   "cell_type": "code",
   "execution_count": 547,
   "metadata": {},
   "outputs": [
    {
     "data": {
      "image/png": "[encoded data removed]",
      "text/plain": [
       "<Figure size 576x432 with 1 Axes>"
      ]
     },
     "metadata": {
      "needs_background": "light"
     },
     "output_type": "display_data"
    }
   ],
   "source": [
    "fig, ax = plt.subplots(figsize=(8,6), sharey=True)\n",
    "ax.plot(nbr_data, ensemble_train_auc, label=\"ensemble train\")\n",
    "ax.plot(nbr_data, ensemble_test_auc, label=\"ensemble test\")\n",
    "ax.legend()\n",
    "\n",
    "plt.ylabel('AUC', fontsize=20)\n",
    "plt.xlabel('Amount of data', fontsize=20)\n",
    "plt.title('comparison ensemble AUC train/test set', fontsize=24)\n",
    "\n",
    "plt.show()"
   ]
  },
  {
   "cell_type": "code",
   "execution_count": null,
   "metadata": {},
   "outputs": [],
   "source": []
  }
 ],
 "metadata": {
  "kernelspec": {
   "display_name": "Python 3",
   "language": "python",
   "name": "python3"
  },
  "language_info": {
   "codemirror_mode": {
    "name": "ipython",
    "version": 3
   },
   "file_extension": ".py",
   "mimetype": "text/x-python",
   "name": "python",
   "nbconvert_exporter": "python",
   "pygments_lexer": "ipython3",
   "version": "3.7.3"
  }
 },
 "nbformat": 4,
 "nbformat_minor": 2
}
