{
 "cells": [
  {
   "cell_type": "code",
   "execution_count": 43,
   "metadata": {},
   "outputs": [],
   "source": [
    "from pandas import DataFrame, read_csv\n",
    "import bigml.api\n",
    "from bigml.api import BigML\n",
    "import pandas as pd\n",
    "import matplotlib.pyplot as plt"
   ]
  },
  {
   "cell_type": "code",
   "execution_count": 44,
   "metadata": {},
   "outputs": [],
   "source": [
    "api = BigML(project='project/5dc0237cf80b1640d5000907')"
   ]
  },
  {
   "cell_type": "code",
   "execution_count": 45,
   "metadata": {},
   "outputs": [],
   "source": [
    "ensemble = api.get_ensemble(\"ensemble/5dc032987811dd7f2d010256\") "
   ]
  },
  {
   "cell_type": "code",
   "execution_count": 51,
   "metadata": {},
   "outputs": [],
   "source": [
    "my_dict = {\n",
    "    \n",
    "    \"RevolvingUtilizationOfUnsecuredLines\": 0.01703559,\n",
    "    \"age\": 42,\n",
    "    \"NumberOfTime30-59DaysPastDueNotWorse\": 1,\n",
    "    \"DebtRatio\": 0,\n",
    "    \"NumberOfOpenCreditLinesAndLoans\": 6,\n",
    "    \"NumberOfTimes90DaysLate\": 0,\n",
    "    \"NumberRealEstateLoansOrLines\": 1,\n",
    "    \"NumberOfTime60-89DaysPastDueNotWorse\": 0,\n",
    "     \"NumberOfDependents\": 1}\n",
    "\n",
    "my_dict[\"MontlyIncome\"]= None\n"
   ]
  },
  {
   "cell_type": "code",
   "execution_count": 52,
   "metadata": {},
   "outputs": [],
   "source": [
    "my_dict_l =[my_dict]\n",
    "\n",
    "\n",
    "data = DataFrame(my_dict_l)\n",
    "\n",
    "export_csv = data.to_csv (r'predictions/one.csv',  header=True)\n"
   ]
  },
  {
   "cell_type": "code",
   "execution_count": 53,
   "metadata": {},
   "outputs": [
    {
     "data": {
      "text/plain": [
       "'predictions/one_prediction.csv'"
      ]
     },
     "execution_count": 53,
     "metadata": {},
     "output_type": "execute_result"
    }
   ],
   "source": [
    "# step 6: creating a source from the data in your local \"data/test_iris.csv\" file\n",
    "test_source = api.create_source(\"predictions/one.csv\")\n",
    "# waiting for the source to be finished. Results will be stored in `source`\n",
    "api.ok(test_source)\n",
    "# step 8: creating a dataset from the previously created `source`\n",
    "test_dataset = api.create_dataset(test_source)\n",
    "# waiting for the dataset to be finished\n",
    "api.ok(test_dataset)\n",
    "# step 10: creating a batch prediction\n",
    "batch_prediction = api.create_batch_prediction(ensemble, test_dataset,\n",
    "                                               {\"all_fields\": True})\n",
    "# waiting for the batch_prediction to be finished\n",
    "api.ok(batch_prediction)\n",
    "# downloading the results to your computer\n",
    "# downloading the results to your computer\n",
    "api.download_batch_prediction(batch_prediction,\n",
    "                              filename='predictions/one_prediction.csv')\n",
    "\n"
   ]
  },
  {
   "cell_type": "code",
   "execution_count": null,
   "metadata": {},
   "outputs": [],
   "source": []
  }
 ],
 "metadata": {
  "kernelspec": {
   "display_name": "Python 3",
   "language": "python",
   "name": "python3"
  },
  "language_info": {
   "codemirror_mode": {
    "name": "ipython",
    "version": 3
   },
   "file_extension": ".py",
   "mimetype": "text/x-python",
   "name": "python",
   "nbconvert_exporter": "python",
   "pygments_lexer": "ipython3",
   "version": "3.7.3"
  }
 },
 "nbformat": 4,
 "nbformat_minor": 2
}
