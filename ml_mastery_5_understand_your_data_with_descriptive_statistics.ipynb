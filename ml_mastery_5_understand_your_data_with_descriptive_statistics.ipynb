{
 "cells": [
  {
   "cell_type": "markdown",
   "metadata": {},
   "source": [
    "# chapter 5 : Understand Your Data With Descriptive Statistics"
   ]
  },
  {
   "cell_type": "markdown",
   "metadata": {},
   "source": [
    "## Summary\n",
    "* Peek At Your Data.\n",
    "* Dimensions of Your Data.\n",
    "* Data Types.\n",
    "* Class Distribution.\n",
    "* Data Summary.\n",
    "* Correlations.\n",
    "* Skewness."
   ]
  },
  {
   "cell_type": "markdown",
   "metadata": {},
   "source": [
    "We import libs we need for this chapter"
   ]
  },
  {
   "cell_type": "code",
   "execution_count": 1,
   "metadata": {},
   "outputs": [],
   "source": [
    "from pandas import read_csv\n",
    "from pandas import set_option"
   ]
  },
  {
   "cell_type": "markdown",
   "metadata": {},
   "source": [
    "We load the dataset"
   ]
  },
  {
   "cell_type": "code",
   "execution_count": 2,
   "metadata": {},
   "outputs": [],
   "source": [
    "filename = \"./cs-training.csv\"\n",
    "test_filename = \"./cs-test.csv\"\n",
    "\n",
    "data = read_csv(filename, index_col=0)\n",
    "test = read_csv(test_filename, index_col=0)"
   ]
  },
  {
   "cell_type": "markdown",
   "metadata": {},
   "source": [
    "## 5.1 Peek at Your Data"
   ]
  },
  {
   "cell_type": "code",
   "execution_count": 3,
   "metadata": {},
   "outputs": [
    {
     "name": "stdout",
     "output_type": "stream",
     "text": [
      "    SeriousDlqin2yrs  RevolvingUtilizationOfUnsecuredLines  age  \\\n",
      "1                  1                              0.766127   45   \n",
      "2                  0                              0.957151   40   \n",
      "3                  0                              0.658180   38   \n",
      "4                  0                              0.233810   30   \n",
      "5                  0                              0.907239   49   \n",
      "6                  0                              0.213179   74   \n",
      "7                  0                              0.305682   57   \n",
      "8                  0                              0.754464   39   \n",
      "9                  0                              0.116951   27   \n",
      "10                 0                              0.189169   57   \n",
      "11                 0                              0.644226   30   \n",
      "12                 0                              0.018798   51   \n",
      "13                 0                              0.010352   46   \n",
      "14                 1                              0.964673   40   \n",
      "15                 0                              0.019657   76   \n",
      "16                 0                              0.548458   64   \n",
      "17                 0                              0.061086   78   \n",
      "18                 0                              0.166284   53   \n",
      "19                 0                              0.221813   43   \n",
      "20                 0                              0.602794   25   \n",
      "\n",
      "    NumberOfTime30-59DaysPastDueNotWorse    DebtRatio  MonthlyIncome  \\\n",
      "1                                      2     0.802982         9120.0   \n",
      "2                                      0     0.121876         2600.0   \n",
      "3                                      1     0.085113         3042.0   \n",
      "4                                      0     0.036050         3300.0   \n",
      "5                                      1     0.024926        63588.0   \n",
      "6                                      0     0.375607         3500.0   \n",
      "7                                      0  5710.000000            NaN   \n",
      "8                                      0     0.209940         3500.0   \n",
      "9                                      0    46.000000            NaN   \n",
      "10                                     0     0.606291        23684.0   \n",
      "11                                     0     0.309476         2500.0   \n",
      "12                                     0     0.531529         6501.0   \n",
      "13                                     0     0.298354        12454.0   \n",
      "14                                     3     0.382965        13700.0   \n",
      "15                                     0   477.000000            0.0   \n",
      "16                                     0     0.209892        11362.0   \n",
      "17                                     0  2058.000000            NaN   \n",
      "18                                     0     0.188274         8800.0   \n",
      "19                                     0     0.527888         3280.0   \n",
      "20                                     0     0.065868          333.0   \n",
      "\n",
      "    NumberOfOpenCreditLinesAndLoans  NumberOfTimes90DaysLate  \\\n",
      "1                                13                        0   \n",
      "2                                 4                        0   \n",
      "3                                 2                        1   \n",
      "4                                 5                        0   \n",
      "5                                 7                        0   \n",
      "6                                 3                        0   \n",
      "7                                 8                        0   \n",
      "8                                 8                        0   \n",
      "9                                 2                        0   \n",
      "10                                9                        0   \n",
      "11                                5                        0   \n",
      "12                                7                        0   \n",
      "13                               13                        0   \n",
      "14                                9                        3   \n",
      "15                                6                        0   \n",
      "16                                7                        0   \n",
      "17                               10                        0   \n",
      "18                                7                        0   \n",
      "19                                7                        0   \n",
      "20                                2                        0   \n",
      "\n",
      "    NumberRealEstateLoansOrLines  NumberOfTime60-89DaysPastDueNotWorse  \\\n",
      "1                              6                                     0   \n",
      "2                              0                                     0   \n",
      "3                              0                                     0   \n",
      "4                              0                                     0   \n",
      "5                              1                                     0   \n",
      "6                              1                                     0   \n",
      "7                              3                                     0   \n",
      "8                              0                                     0   \n",
      "9                              0                                     0   \n",
      "10                             4                                     0   \n",
      "11                             0                                     0   \n",
      "12                             2                                     0   \n",
      "13                             2                                     0   \n",
      "14                             1                                     1   \n",
      "15                             1                                     0   \n",
      "16                             1                                     0   \n",
      "17                             2                                     0   \n",
      "18                             0                                     0   \n",
      "19                             1                                     0   \n",
      "20                             0                                     0   \n",
      "\n",
      "    NumberOfDependents  \n",
      "1                  2.0  \n",
      "2                  1.0  \n",
      "3                  0.0  \n",
      "4                  0.0  \n",
      "5                  0.0  \n",
      "6                  1.0  \n",
      "7                  0.0  \n",
      "8                  0.0  \n",
      "9                  NaN  \n",
      "10                 2.0  \n",
      "11                 0.0  \n",
      "12                 2.0  \n",
      "13                 2.0  \n",
      "14                 2.0  \n",
      "15                 0.0  \n",
      "16                 2.0  \n",
      "17                 0.0  \n",
      "18                 0.0  \n",
      "19                 2.0  \n",
      "20                 0.0  \n"
     ]
    }
   ],
   "source": [
    "peek = data.head(20)\n",
    "print(peek)"
   ]
  },
  {
   "cell_type": "markdown",
   "metadata": {},
   "source": [
    "## 5.2 Dimensions of Your Data"
   ]
  },
  {
   "cell_type": "code",
   "execution_count": 4,
   "metadata": {},
   "outputs": [
    {
     "name": "stdout",
     "output_type": "stream",
     "text": [
      "(150000, 11)\n"
     ]
    }
   ],
   "source": [
    "shape = data.shape\n",
    "print(shape)"
   ]
  },
  {
   "cell_type": "code",
   "execution_count": 5,
   "metadata": {},
   "outputs": [
    {
     "name": "stdout",
     "output_type": "stream",
     "text": [
      "(101503, 11)\n"
     ]
    }
   ],
   "source": [
    "test_shape = test.shape\n",
    "print(test_shape)"
   ]
  },
  {
   "cell_type": "markdown",
   "metadata": {},
   "source": [
    "## 5.3 Data Type For Each Attribute"
   ]
  },
  {
   "cell_type": "code",
   "execution_count": 6,
   "metadata": {},
   "outputs": [
    {
     "name": "stdout",
     "output_type": "stream",
     "text": [
      "SeriousDlqin2yrs                          int64\n",
      "RevolvingUtilizationOfUnsecuredLines    float64\n",
      "age                                       int64\n",
      "NumberOfTime30-59DaysPastDueNotWorse      int64\n",
      "DebtRatio                               float64\n",
      "MonthlyIncome                           float64\n",
      "NumberOfOpenCreditLinesAndLoans           int64\n",
      "NumberOfTimes90DaysLate                   int64\n",
      "NumberRealEstateLoansOrLines              int64\n",
      "NumberOfTime60-89DaysPastDueNotWorse      int64\n",
      "NumberOfDependents                      float64\n",
      "dtype: object\n"
     ]
    }
   ],
   "source": [
    "types = data.dtypes\n",
    "print(types)"
   ]
  },
  {
   "cell_type": "markdown",
   "metadata": {},
   "source": [
    "## 5.4 Descriptive Statistics"
   ]
  },
  {
   "cell_type": "code",
   "execution_count": 7,
   "metadata": {},
   "outputs": [
    {
     "name": "stdout",
     "output_type": "stream",
     "text": [
      "       SeriousDlqin2yrs  RevolvingUtilizationOfUnsecuredLines         age  \\\n",
      "count        150000.000                            150000.000  150000.000   \n",
      "mean              0.067                                 6.048      52.295   \n",
      "std               0.250                               249.755      14.772   \n",
      "min               0.000                                 0.000       0.000   \n",
      "25%               0.000                                 0.030      41.000   \n",
      "50%               0.000                                 0.154      52.000   \n",
      "75%               0.000                                 0.559      63.000   \n",
      "max               1.000                             50708.000     109.000   \n",
      "\n",
      "       NumberOfTime30-59DaysPastDueNotWorse   DebtRatio  MonthlyIncome  \\\n",
      "count                            150000.000  150000.000      1.203e+05   \n",
      "mean                                  0.421     353.005      6.670e+03   \n",
      "std                                   4.193    2037.819      1.438e+04   \n",
      "min                                   0.000       0.000      0.000e+00   \n",
      "25%                                   0.000       0.175      3.400e+03   \n",
      "50%                                   0.000       0.367      5.400e+03   \n",
      "75%                                   0.000       0.868      8.249e+03   \n",
      "max                                  98.000  329664.000      3.009e+06   \n",
      "\n",
      "       NumberOfOpenCreditLinesAndLoans  NumberOfTimes90DaysLate  NumberRealEstateLoansOrLines  \\\n",
      "count                       150000.000               150000.000                    150000.000   \n",
      "mean                             8.453                    0.266                         1.018   \n",
      "std                              5.146                    4.169                         1.130   \n",
      "min                              0.000                    0.000                         0.000   \n",
      "25%                              5.000                    0.000                         0.000   \n",
      "50%                              8.000                    0.000                         1.000   \n",
      "75%                             11.000                    0.000                         2.000   \n",
      "max                             58.000                   98.000                        54.000   \n",
      "\n",
      "       NumberOfTime60-89DaysPastDueNotWorse  NumberOfDependents  \n",
      "count                            150000.000          146076.000  \n",
      "mean                                  0.240               0.757  \n",
      "std                                   4.155               1.115  \n",
      "min                                   0.000               0.000  \n",
      "25%                                   0.000               0.000  \n",
      "50%                                   0.000               0.000  \n",
      "75%                                   0.000               1.000  \n",
      "max                                  98.000              20.000  \n"
     ]
    }
   ],
   "source": [
    "set_option('display.width', 100)\n",
    "set_option('precision', 3)\n",
    "description = data.describe()\n",
    "print(description)"
   ]
  },
  {
   "cell_type": "markdown",
   "metadata": {},
   "source": [
    "## 5.5 Class Distribution (Classification Only)"
   ]
  },
  {
   "cell_type": "code",
   "execution_count": 8,
   "metadata": {},
   "outputs": [
    {
     "name": "stdout",
     "output_type": "stream",
     "text": [
      "RevolvingUtilizationOfUnsecuredLines\n",
      "0.000e+00    10878\n",
      "8.370e-06        1\n",
      "9.930e-06        1\n",
      "1.250e-05        1\n",
      "1.430e-05        1\n",
      "1.490e-05        1\n",
      "1.510e-05        1\n",
      "1.600e-05        1\n",
      "1.640e-05        1\n",
      "1.870e-05        1\n",
      "1.880e-05        1\n",
      "2.100e-05        1\n",
      "2.130e-05        1\n",
      "2.210e-05        1\n",
      "2.380e-05        1\n",
      "2.660e-05        1\n",
      "2.740e-05        1\n",
      "2.780e-05        1\n",
      "2.820e-05        1\n",
      "2.850e-05        1\n",
      "2.860e-05        1\n",
      "3.180e-05        1\n",
      "3.220e-05        1\n",
      "3.230e-05        1\n",
      "3.250e-05        1\n",
      "3.300e-05        1\n",
      "3.320e-05        2\n",
      "3.350e-05        1\n",
      "3.360e-05        1\n",
      "3.370e-05        1\n",
      "             ...  \n",
      "7.452e+03        1\n",
      "7.555e+03        1\n",
      "7.696e+03        1\n",
      "7.809e+03        1\n",
      "7.839e+03        1\n",
      "7.907e+03        1\n",
      "8.228e+03        1\n",
      "8.328e+03        1\n",
      "8.497e+03        1\n",
      "8.710e+03        1\n",
      "8.831e+03        1\n",
      "9.193e+03        1\n",
      "9.340e+03        1\n",
      "9.684e+03        1\n",
      "1.015e+04        1\n",
      "1.021e+04        1\n",
      "1.082e+04        1\n",
      "1.155e+04        1\n",
      "1.184e+04        1\n",
      "1.237e+04        1\n",
      "1.340e+04        1\n",
      "1.350e+04        1\n",
      "1.393e+04        1\n",
      "1.744e+04        1\n",
      "1.830e+04        1\n",
      "2.051e+04        1\n",
      "2.200e+04        1\n",
      "2.220e+04        1\n",
      "2.911e+04        1\n",
      "5.071e+04        1\n",
      "Length: 125728, dtype: int64\n"
     ]
    }
   ],
   "source": [
    "class_counts = data.groupby('RevolvingUtilizationOfUnsecuredLines').size()\n",
    "print(class_counts)"
   ]
  },
  {
   "cell_type": "markdown",
   "metadata": {},
   "source": [
    "## 5.6 Correlations Between Attributes\n",
    "Correlation refers to the relationship between two variables and how they may or may not\n",
    "change together."
   ]
  },
  {
   "cell_type": "code",
   "execution_count": 9,
   "metadata": {},
   "outputs": [
    {
     "name": "stdout",
     "output_type": "stream",
     "text": [
      "                                      SeriousDlqin2yrs  RevolvingUtilizationOfUnsecuredLines  \\\n",
      "SeriousDlqin2yrs                                 1.000                                -0.002   \n",
      "RevolvingUtilizationOfUnsecuredLines            -0.002                                 1.000   \n",
      "age                                             -0.115                                -0.006   \n",
      "NumberOfTime30-59DaysPastDueNotWorse             0.126                                -0.001   \n",
      "DebtRatio                                       -0.008                                 0.004   \n",
      "MonthlyIncome                                   -0.020                                 0.007   \n",
      "NumberOfOpenCreditLinesAndLoans                 -0.030                                -0.011   \n",
      "NumberOfTimes90DaysLate                          0.117                                -0.001   \n",
      "NumberRealEstateLoansOrLines                    -0.007                                 0.006   \n",
      "NumberOfTime60-89DaysPastDueNotWorse             0.102                                -0.001   \n",
      "NumberOfDependents                               0.046                                 0.002   \n",
      "\n",
      "                                        age  NumberOfTime30-59DaysPastDueNotWorse  DebtRatio  \\\n",
      "SeriousDlqin2yrs                     -0.115                                 0.126     -0.008   \n",
      "RevolvingUtilizationOfUnsecuredLines -0.006                                -0.001      0.004   \n",
      "age                                   1.000                                -0.063      0.024   \n",
      "NumberOfTime30-59DaysPastDueNotWorse -0.063                                 1.000     -0.007   \n",
      "DebtRatio                             0.024                                -0.007      1.000   \n",
      "MonthlyIncome                         0.038                                -0.010     -0.029   \n",
      "NumberOfOpenCreditLinesAndLoans       0.148                                -0.055      0.050   \n",
      "NumberOfTimes90DaysLate              -0.061                                 0.984     -0.008   \n",
      "NumberRealEstateLoansOrLines          0.033                                -0.031      0.120   \n",
      "NumberOfTime60-89DaysPastDueNotWorse -0.057                                 0.987     -0.008   \n",
      "NumberOfDependents                   -0.213                                -0.003     -0.041   \n",
      "\n",
      "                                      MonthlyIncome  NumberOfOpenCreditLinesAndLoans  \\\n",
      "SeriousDlqin2yrs                             -0.020                           -0.030   \n",
      "RevolvingUtilizationOfUnsecuredLines          0.007                           -0.011   \n",
      "age                                           0.038                            0.148   \n",
      "NumberOfTime30-59DaysPastDueNotWorse         -0.010                           -0.055   \n",
      "DebtRatio                                    -0.029                            0.050   \n",
      "MonthlyIncome                                 1.000                            0.091   \n",
      "NumberOfOpenCreditLinesAndLoans               0.091                            1.000   \n",
      "NumberOfTimes90DaysLate                      -0.013                           -0.080   \n",
      "NumberRealEstateLoansOrLines                  0.125                            0.434   \n",
      "NumberOfTime60-89DaysPastDueNotWorse         -0.011                           -0.071   \n",
      "NumberOfDependents                            0.063                            0.065   \n",
      "\n",
      "                                      NumberOfTimes90DaysLate  NumberRealEstateLoansOrLines  \\\n",
      "SeriousDlqin2yrs                                        0.117                        -0.007   \n",
      "RevolvingUtilizationOfUnsecuredLines                   -0.001                         0.006   \n",
      "age                                                    -0.061                         0.033   \n",
      "NumberOfTime30-59DaysPastDueNotWorse                    0.984                        -0.031   \n",
      "DebtRatio                                              -0.008                         0.120   \n",
      "MonthlyIncome                                          -0.013                         0.125   \n",
      "NumberOfOpenCreditLinesAndLoans                        -0.080                         0.434   \n",
      "NumberOfTimes90DaysLate                                 1.000                        -0.045   \n",
      "NumberRealEstateLoansOrLines                           -0.045                         1.000   \n",
      "NumberOfTime60-89DaysPastDueNotWorse                    0.993                        -0.040   \n",
      "NumberOfDependents                                     -0.010                         0.125   \n",
      "\n",
      "                                      NumberOfTime60-89DaysPastDueNotWorse  NumberOfDependents  \n",
      "SeriousDlqin2yrs                                                     0.102               0.046  \n",
      "RevolvingUtilizationOfUnsecuredLines                                -0.001               0.002  \n",
      "age                                                                 -0.057              -0.213  \n",
      "NumberOfTime30-59DaysPastDueNotWorse                                 0.987              -0.003  \n",
      "DebtRatio                                                           -0.008              -0.041  \n",
      "MonthlyIncome                                                       -0.011               0.063  \n",
      "NumberOfOpenCreditLinesAndLoans                                     -0.071               0.065  \n",
      "NumberOfTimes90DaysLate                                              0.993              -0.010  \n",
      "NumberRealEstateLoansOrLines                                        -0.040               0.125  \n",
      "NumberOfTime60-89DaysPastDueNotWorse                                 1.000              -0.011  \n",
      "NumberOfDependents                                                  -0.011               1.000  \n"
     ]
    }
   ],
   "source": [
    "set_option('display.width', 100)\n",
    "set_option('precision', 3)\n",
    "correlations = data.corr(method='pearson')\n",
    "print(correlations)"
   ]
  },
  {
   "cell_type": "markdown",
   "metadata": {},
   "source": [
    "## 5.7 Skew of Univariate Distributions\n",
    "Skew refers to a distribution that is assumed Gaussian (normal or bell curve) that is shifted or\n",
    "squashed in one direction or another.\n",
    "The skew result show a positive (right) or negative (left) skew. Values closer to zero show\n",
    "less skew."
   ]
  },
  {
   "cell_type": "code",
   "execution_count": 10,
   "metadata": {},
   "outputs": [
    {
     "name": "stdout",
     "output_type": "stream",
     "text": [
      "SeriousDlqin2yrs                          3.469\n",
      "RevolvingUtilizationOfUnsecuredLines     97.632\n",
      "age                                       0.189\n",
      "NumberOfTime30-59DaysPastDueNotWorse     22.597\n",
      "DebtRatio                                95.158\n",
      "MonthlyIncome                           114.040\n",
      "NumberOfOpenCreditLinesAndLoans           1.215\n",
      "NumberOfTimes90DaysLate                  23.087\n",
      "NumberRealEstateLoansOrLines              3.482\n",
      "NumberOfTime60-89DaysPastDueNotWorse     23.332\n",
      "NumberOfDependents                        1.588\n",
      "dtype: float64\n"
     ]
    }
   ],
   "source": [
    "skew = data.skew()\n",
    "print(skew)"
   ]
  },
  {
   "cell_type": "code",
   "execution_count": null,
   "metadata": {},
   "outputs": [],
   "source": []
  }
 ],
 "metadata": {
  "kernelspec": {
   "display_name": "Python 3",
   "language": "python",
   "name": "python3"
  },
  "language_info": {
   "codemirror_mode": {
    "name": "ipython",
    "version": 3
   },
   "file_extension": ".py",
   "mimetype": "text/x-python",
   "name": "python",
   "nbconvert_exporter": "python",
   "pygments_lexer": "ipython3",
   "version": "3.7.3"
  },
  "toc": {
   "base_numbering": 1,
   "nav_menu": {},
   "number_sections": true,
   "sideBar": true,
   "skip_h1_title": false,
   "title_cell": "Table of Contents",
   "title_sidebar": "Contents",
   "toc_cell": false,
   "toc_position": {},
   "toc_section_display": true,
   "toc_window_display": false
  }
 },
 "nbformat": 4,
 "nbformat_minor": 2
}
