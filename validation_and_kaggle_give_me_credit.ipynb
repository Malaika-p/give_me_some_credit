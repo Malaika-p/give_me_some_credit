{
 "cells": [
  {
   "cell_type": "markdown",
   "metadata": {},
   "source": [
    "We import what will serve us"
   ]
  },
  {
   "cell_type": "code",
   "execution_count": 1,
   "metadata": {},
   "outputs": [],
   "source": [
    "from pandas import DataFrame, read_csv\n",
    "import bigml.api\n",
    "from bigml.api import BigML\n",
    "import kaggle\n",
    "from import_export_json import *"
   ]
  },
  {
   "cell_type": "code",
   "execution_count": 2,
   "metadata": {},
   "outputs": [],
   "source": [
    "project = 'gmsc'\n",
    "project_files = 'gmsc_files'\n",
    "dossier_predictions = './predictions/'\n",
    "dossier_prep_file = './prep_datasets/'\n",
    "version = 'v1.3'"
   ]
  },
  {
   "cell_type": "code",
   "execution_count": 3,
   "metadata": {},
   "outputs": [
    {
     "data": {
      "text/plain": [
       "{'prep_data': [{'function': 'remplace_fillna',\n",
       "   'arguments': {'column': 'MonthlyIncome', 'value': 0}},\n",
       "  {'function': 'monthly_debt',\n",
       "   'arguments': {'column': 'MonthlyIncome', 'value': 0}},\n",
       "  {'function': 'disposable_income', 'arguments': {}},\n",
       "  {'function': 'process_fillna',\n",
       "   'arguments': {'column': 'NumberOfDependents', 'value': 0}},\n",
       "  {'function': 'balanced_income_per_dependent', 'arguments': {}},\n",
       "  {'function': 'balanced_income', 'arguments': {}},\n",
       "  {'function': 'weighted_of_late_payment',\n",
       "   'arguments': {'column': 'NumberOfDependents', 'value': 0}},\n",
       "  {'function': 'debt_ratio_outlier', 'arguments': {'debt_value': 0.3}}],\n",
       " 'files': {'kaggle_files': {'train': {'file': 'cs-training.csv',\n",
       "    'dossier': './'},\n",
       "   'test': {'file': 'cs-test.csv', 'dossier': './'}},\n",
       "  'prep_files': {'fulltrain': {'dossier': './prep_datasets/',\n",
       "    'file_name': 'gmsc_fulltrain_v1.3.csv.bz2'},\n",
       "   'train': {'dossier': './prep_datasets/',\n",
       "    'file_name': 'gmsc_train_v1.3.csv.bz2'},\n",
       "   'dev': {'dossier': './prep_datasets/',\n",
       "    'file_name': 'gmsc_dev_v1.3.csv.bz2'},\n",
       "   'test': {'dossier': './prep_datasets/',\n",
       "    'file_name': 'gmsc_test_v1.3.csv.bz2'}},\n",
       "  'test_fields_files': {'fields_test1': {'train_file_name': '1_test_fields_gmsc_train_v1.3.csv.bz2',\n",
       "    'dev_file_name': '1_test_fields_gmsc_dev_v1.3.csv.bz2',\n",
       "    'fields': ['RevolvingUtilizationOfUnsecuredLines',\n",
       "     'age',\n",
       "     'DebtRatio',\n",
       "     'MonthlyIncome',\n",
       "     'MonthlyDebt',\n",
       "     'DisposableIncome',\n",
       "     'BalancedIncome',\n",
       "     'NumberOfOpenCreditLinesAndLoans',\n",
       "     'NumberRealEstateLoansOrLines',\n",
       "     'NumberOfTime30-59DaysPastDueNotWorse',\n",
       "     'NumberOfTime60-89DaysPastDueNotWorse',\n",
       "     'NumberOfTimes90DaysLate',\n",
       "     'WeightedOfLatePayment',\n",
       "     'NumberOfDependents',\n",
       "     'SeriousDlqin2yrs']},\n",
       "   'fields_test2': {'train_file_name': '2_test_fields_gmsc_train_v1.3.csv.bz2',\n",
       "    'dev_file_name': '2_test_fields_gmsc_dev_v1.3.csv.bz2',\n",
       "    'fields': ['RevolvingUtilizationOfUnsecuredLines',\n",
       "     'age',\n",
       "     'DebtRatio',\n",
       "     'MonthlyIncome',\n",
       "     'MonthlyDebt',\n",
       "     'DisposableIncome',\n",
       "     'BalancedIncomePerDependent',\n",
       "     'NumberOfOpenCreditLinesAndLoans',\n",
       "     'NumberRealEstateLoansOrLines',\n",
       "     'NumberOfTime30-59DaysPastDueNotWorse',\n",
       "     'NumberOfTime60-89DaysPastDueNotWorse',\n",
       "     'NumberOfTimes90DaysLate',\n",
       "     'WeightedOfLatePayment',\n",
       "     'NumberOfDependents',\n",
       "     'SeriousDlqin2yrs']},\n",
       "   'fields_test3': {'train_file_name': '3_test_fields_gmsc_train_v1.3.csv.bz2',\n",
       "    'dev_file_name': '3_test_fields_gmsc_dev_v1.3.csv.bz2',\n",
       "    'fields': ['RevolvingUtilizationOfUnsecuredLines',\n",
       "     'age',\n",
       "     'DebtRatio',\n",
       "     'MonthlyIncome',\n",
       "     'MonthlyDebt',\n",
       "     'DisposableIncome',\n",
       "     'BalancedIncome',\n",
       "     'NumberOfOpenCreditLinesAndLoans',\n",
       "     'NumberRealEstateLoansOrLines',\n",
       "     'NumberOfTime30-59DaysPastDueNotWorse',\n",
       "     'NumberOfTime60-89DaysPastDueNotWorse',\n",
       "     'NumberOfTimes90DaysLate',\n",
       "     'WeightedOfLatePayment',\n",
       "     'NumberOfDependents',\n",
       "     'SeriousDlqin2yrs']},\n",
       "   'fields_test4': {'train_file_name': '4_test_fields_gmsc_train_v1.3.csv.bz2',\n",
       "    'dev_file_name': '4_test_fields_gmsc_dev_v1.3.csv.bz2',\n",
       "    'fields': ['RevolvingUtilizationOfUnsecuredLines',\n",
       "     'age',\n",
       "     'DebtRatio',\n",
       "     'MonthlyIncome',\n",
       "     'MonthlyDebt',\n",
       "     'DisposableIncome',\n",
       "     'BalancedIncomePerDependent',\n",
       "     'NumberOfOpenCreditLinesAndLoans',\n",
       "     'NumberRealEstateLoansOrLines',\n",
       "     'WeightedOfLatePayment',\n",
       "     'NumberOfDependents',\n",
       "     'SeriousDlqin2yrs']},\n",
       "   'fields_test5': {'train_file_name': '5_test_fields_gmsc_train_v1.3.csv.bz2',\n",
       "    'dev_file_name': '5_test_fields_gmsc_dev_v1.3.csv.bz2',\n",
       "    'fields': ['RevolvingUtilizationOfUnsecuredLines',\n",
       "     'age',\n",
       "     'DebtRatio',\n",
       "     'MonthlyIncome',\n",
       "     'MonthlyDebt',\n",
       "     'DisposableIncome',\n",
       "     'BalancedIncome',\n",
       "     'NumberOfOpenCreditLinesAndLoans',\n",
       "     'NumberRealEstateLoansOrLines',\n",
       "     'WeightedOfLatePayment',\n",
       "     'NumberOfDependents',\n",
       "     'SeriousDlqin2yrs']},\n",
       "   'fields_test6': {'train_file_name': '6_test_fields_gmsc_train_v1.3.csv.bz2',\n",
       "    'dev_file_name': '6_test_fields_gmsc_dev_v1.3.csv.bz2',\n",
       "    'fields': ['RevolvingUtilizationOfUnsecuredLines',\n",
       "     'age',\n",
       "     'DebtRatio',\n",
       "     'MonthlyIncome',\n",
       "     'MonthlyDebt',\n",
       "     'DisposableIncome',\n",
       "     'BalancedIncome',\n",
       "     'NumberOfOpenCreditLinesAndLoans',\n",
       "     'NumberRealEstateLoansOrLines',\n",
       "     'NumberOfTime30-59DaysPastDueNotWorse',\n",
       "     'NumberOfTime60-89DaysPastDueNotWorse',\n",
       "     'NumberOfTimes90DaysLate',\n",
       "     'NumberOfDependents',\n",
       "     'SeriousDlqin2yrs']}},\n",
       "  'predictions': {'ensembles': {'prediction1': {'dossier': './predictions/',\n",
       "     'file_name': '1ensemble_predictions_test_fields_gmsc_v1.3.csv'},\n",
       "    'prediction2': {'dossier': './predictions/',\n",
       "     'file_name': '2ensemble_predictions_test_fields_gmsc_v1.3.csv'},\n",
       "    'prediction3': {'dossier': './predictions/',\n",
       "     'file_name': '3ensemble_predictions_test_fields_gmsc_v1.3.csv'},\n",
       "    'prediction4': {'dossier': './predictions/',\n",
       "     'file_name': '4ensemble_predictions_test_fields_gmsc_v1.3.csv'},\n",
       "    'prediction5': {'dossier': './predictions/',\n",
       "     'file_name': '5ensemble_predictions_test_fields_gmsc_v1.3.csv'},\n",
       "    'prediction6': {'dossier': './predictions/',\n",
       "     'file_name': '6ensemble_predictions_test_fields_gmsc_v1.3.csv'}},\n",
       "   'deepnets': {}}},\n",
       " 'bigML_ressource': {'project': 'project/5ded5ae3f80b166cce000bf8',\n",
       "  'sources': {'train': {},\n",
       "   'dev': {'fields_test1': 'source/5ded771fe476846765002026',\n",
       "    'fields_test2': 'source/5ded77407811dd6e9e001e7d',\n",
       "    'fields_test3': 'source/5ded7757e476846765002029',\n",
       "    'fields_test4': 'source/5ded78d97811dd6e9e001e89',\n",
       "    'fields_test5': 'source/5ded78fbe47684675800016a',\n",
       "    'fields_test6': 'source/5ded7920e476846761000146'},\n",
       "   'fields_test1': 'source/5ded735d52996327d4002361',\n",
       "   'fields_test2': 'source/5ded73b27811dd6e9f000321',\n",
       "   'fields_test3': 'source/5ded741352996327d4002364',\n",
       "   'fields_test4': 'source/5ded7467e476846765002015',\n",
       "   'fields_test5': 'source/5ded74b1e476846765002018',\n",
       "   'fields_test6': 'source/5ded751de47684676500201b'},\n",
       "  'datasets': {'fields_test1': 'dataset/5ded73657811dd6e9e001e5c',\n",
       "   'fields_test2': 'dataset/5ded73bd7811dd6e9e001e5f',\n",
       "   'fields_test3': 'dataset/5ded741ee47684676500200f',\n",
       "   'fields_test4': 'dataset/5ded74837811dd6e9e001e65',\n",
       "   'fields_test5': 'dataset/5ded74bc7811dd6e9e001e6b',\n",
       "   'fields_test6': 'dataset/5ded752ae47684676500201e',\n",
       "   'dev': {'fields_test1': 'dataset/5ded77247811dd6e9e001e7a',\n",
       "    'fields_test2': 'dataset/5ded77447811dd6e9e001e80',\n",
       "    'fields_test3': 'dataset/5ded775de47684676500202c',\n",
       "    'fields_test4': 'dataset/5ded78dfe476846765002035',\n",
       "    'fields_test5': 'dataset/5ded7906e476846765002038',\n",
       "    'fields_test6': 'dataset/5ded79257811dd6e9e001e8f'}},\n",
       "  'models': {'ensembles': {'fields_test1': 'ensemble/5ded7382e476846765002006',\n",
       "    'fields_test2': 'ensemble/5ded73d17811dd6e9e001e62',\n",
       "    'fields_test3': 'ensemble/5ded7433e476846765002012',\n",
       "    'fields_test4': 'ensemble/5ded74957811dd6e9e001e68',\n",
       "    'fields_test5': 'ensemble/5ded74fbe476846761000143',\n",
       "    'fields_test6': 'ensemble/5ded75407811dd6e9e001e6e'},\n",
       "   'deepnets': {'fields_test3': 'deepnet/5ded8c5fe476846765002072'}},\n",
       "  'evaluation': {'ensembles': {'fields_test1': 'evaluation/5ded8bf9e476846765002069',\n",
       "    'fields_test2': 'evaluation/5ded8c0a7811dd6e9e001ede',\n",
       "    'fields_test3': 'evaluation/5ded8c1be47684676500206c',\n",
       "    'fields_test4': 'evaluation/5ded8c2952996327d40023a4',\n",
       "    'fields_test5': 'evaluation/5ded8c3b52996327d40023a7',\n",
       "    'fields_test6': 'evaluation/5ded8c49e47684676500206f'},\n",
       "   'deepnets': {}}}}"
      ]
     },
     "execution_count": 3,
     "metadata": {},
     "output_type": "execute_result"
    }
   ],
   "source": [
    "project_files = json_load_project(project, version)\n",
    "project_files"
   ]
  },
  {
   "cell_type": "code",
   "execution_count": 4,
   "metadata": {},
   "outputs": [],
   "source": [
    "csv_suffix = version + '.csv'\n",
    "\n",
    "filename_fulltrain = 'conf3_fulltrain_gmsc_' + csv_suffix\n",
    "filename_test = 'conf3_test_gmsc_' + csv_suffix\n",
    "filename_prediction = 'kaggle_prediction_gmsc_' + csv_suffix"
   ]
  },
  {
   "cell_type": "code",
   "execution_count": 5,
   "metadata": {},
   "outputs": [],
   "source": [
    "fulltrain = read_csv(project_files['files']['prep_files']['fulltrain']['dossier'] +project_files['files']['prep_files']['fulltrain']['file_name'], index_col=0)\n",
    "test = read_csv(project_files['files']['prep_files']['test']['dossier'] +project_files['files']['prep_files']['test']['file_name'], index_col=0)"
   ]
  },
  {
   "cell_type": "code",
   "execution_count": 6,
   "metadata": {
    "scrolled": true
   },
   "outputs": [],
   "source": [
    "fulltrain = fulltrain[project_files['files']['test_fields_files']['fields_test3']['fields']]\n",
    "test = test[project_files['files']['test_fields_files']['fields_test3']['fields']]"
   ]
  },
  {
   "cell_type": "code",
   "execution_count": 7,
   "metadata": {},
   "outputs": [],
   "source": [
    "export_csv = fulltrain.to_csv (dossier_prep_file+ filename_fulltrain,header=True,index_label='Id')\n",
    "export_csv = test.to_csv (dossier_prep_file+ filename_test,header=True,index_label='Id')"
   ]
  },
  {
   "cell_type": "code",
   "execution_count": 8,
   "metadata": {},
   "outputs": [],
   "source": [
    "project_files['files']['prep_files']['fulltrain_conf3'] = {'dossier': dossier_prep_file, 'file_name': filename_fulltrain} \n",
    "project_files['files']['prep_files']['test_conf3'] = {'dossier': dossier_prep_file, 'file_name': filename_test}\n",
    " "
   ]
  },
  {
   "cell_type": "markdown",
   "metadata": {},
   "source": [
    "## Prediction in validation(test kaggle) set\n",
    "\n",
    "We keep the best number : 3 "
   ]
  },
  {
   "cell_type": "markdown",
   "metadata": {},
   "source": [
    "we train the ensemble in all the training test"
   ]
  },
  {
   "cell_type": "code",
   "execution_count": 9,
   "metadata": {},
   "outputs": [],
   "source": [
    "api = BigML(project=project_files['bigML_ressource']['project'])"
   ]
  },
  {
   "cell_type": "code",
   "execution_count": 14,
   "metadata": {},
   "outputs": [
    {
     "name": "stdout",
     "output_type": "stream",
     "text": [
      "Source created\n",
      "Dataset created\n",
      "Model ensemble created\n"
     ]
    }
   ],
   "source": [
    "source_full = api.create_source(project_files['files']['prep_files']['fulltrain_conf3']['dossier']+project_files['files']['prep_files']['fulltrain_conf3']['file_name'])\n",
    "# waiting for the source to be finished. Results will be stored in `source`\n",
    "api.ok(source_full)\n",
    "print('Source created')\n",
    "project_files['bigML_ressource']['sources']['fulltrain'] = source_full['resource']\n",
    "\n",
    "# step 3: creating a dataset from the previously created `source`\n",
    "dataset_full = api.create_dataset(source_full)\n",
    "# waiting for the dataset to be finished\n",
    "api.ok(dataset_full) \n",
    "print('Dataset created')\n",
    "project_files['bigML_ressource']['datasets']['fulltrain'] = dataset_full['resource']\n",
    "\n",
    "# step 5: creating an Ensemble\n",
    "ensemble_full = api.create_ensemble(dataset_full)\n",
    "# waiting for the ensemble to be finished\n",
    "api.ok(ensemble_full)\n",
    "print('Model ensemble created')\n",
    "project_files['bigML_ressource']['models']['ensembles']['fulltrain'] = ensemble_full['resource']\n",
    "    "
   ]
  },
  {
   "cell_type": "markdown",
   "metadata": {},
   "source": [
    "Make prediction in the validation (test kaggle) set "
   ]
  },
  {
   "cell_type": "code",
   "execution_count": 17,
   "metadata": {
    "scrolled": false
   },
   "outputs": [
    {
     "name": "stdout",
     "output_type": "stream",
     "text": [
      "Source created\n",
      "Dataset created\n",
      "Batch prediction created\n"
     ]
    }
   ],
   "source": [
    "# step 6: creating a source from the data\n",
    "test_source_validation = api.create_source(project_files['files']['prep_files']['test']['dossier'] +project_files['files']['prep_files']['test']['file_name'])\n",
    "# waiting for the source to be finished. Results will be stored in `source`\n",
    "api.ok(test_source_validation)\n",
    "print('Source created')\n",
    "project_files['bigML_ressource']['sources']['test'] = test_source_validation['resource']\n",
    "# step 8: creating a dataset from the previously created `source`\n",
    "test_dataset_validation = api.create_dataset(test_source_validation)\n",
    "# waiting for the dataset to be finished\n",
    "api.ok(test_dataset_validation)\n",
    "print('Dataset created')\n",
    "project_files['bigML_ressource']['datasets']['test'] = test_dataset_validation['resource']\n",
    "# step 10: creating a batch prediction\n",
    "batch_prediction_validation = api.create_batch_prediction(ensemble_full, test_dataset_validation,\n",
    "                                               {\"all_fields\": True,\n",
    "                                                \"header\": True,\n",
    "                                                \"confidence\": True,\n",
    "                                                \"probabilities\": True})\n",
    "# waiting for the batch_prediction to be finished\n",
    "api.ok(batch_prediction_validation)\n",
    "print('Batch prediction created')\n",
    "# downloading the results to your computer\n",
    "api.download_batch_prediction(batch_prediction_validation, filename=dossier_predictions+'ensemble_'+filename_prediction)\n",
    "project_files['files']['predictions']['ensembles']['kaggle_test_prediction'] = {'dossier': dossier_predictions, 'file_name': 'ensemble_'+filename_prediction}\n",
    "    "
   ]
  },
  {
   "cell_type": "markdown",
   "metadata": {},
   "source": [
    "We recover the prediction"
   ]
  },
  {
   "cell_type": "code",
   "execution_count": 18,
   "metadata": {},
   "outputs": [
    {
     "name": "stdout",
     "output_type": "stream",
     "text": [
      "['Id', 'SeriousDlqin2yrs', 'RevolvingUtilizationOfUnsecuredLines', 'age', 'NumberOfTime30-59DaysPastDueNotWorse', 'DebtRatio', 'MonthlyIncome', 'MonthlyDebt', 'DisposableIncome', 'BalancedIncome', 'BalancedIncomePerDependent', 'NumberOfOpenCreditLinesAndLoans', 'NumberOfTimes90DaysLate', 'NumberRealEstateLoansOrLines', 'WeightedOfLatePayment', 'NumberOfTime60-89DaysPastDueNotWorse', 'NumberOfDependents', 'SeriousDlqin2yrs.1', 'confidence', '0 probability', '1 probability']\n"
     ]
    }
   ],
   "source": [
    "prediction=read_csv(dossier_predictions+'ensemble_'+filename_prediction,index_col=False)\n",
    "print(list(prediction))"
   ]
  },
  {
   "cell_type": "markdown",
   "metadata": {},
   "source": [
    "We rename the columns for rendering"
   ]
  },
  {
   "cell_type": "code",
   "execution_count": 19,
   "metadata": {},
   "outputs": [],
   "source": [
    "kaggle_prediction=DataFrame()\n",
    "kaggle_prediction['Id']=prediction['Id']\n",
    "kaggle_prediction['Probability']=prediction['1 probability']"
   ]
  },
  {
   "cell_type": "markdown",
   "metadata": {},
   "source": [
    "We check the output"
   ]
  },
  {
   "cell_type": "code",
   "execution_count": 20,
   "metadata": {},
   "outputs": [
    {
     "data": {
      "text/html": [
       "<div>\n",
       "<style scoped>\n",
       "    .dataframe tbody tr th:only-of-type {\n",
       "        vertical-align: middle;\n",
       "    }\n",
       "\n",
       "    .dataframe tbody tr th {\n",
       "        vertical-align: top;\n",
       "    }\n",
       "\n",
       "    .dataframe thead th {\n",
       "        text-align: right;\n",
       "    }\n",
       "</style>\n",
       "<table border=\"1\" class=\"dataframe\">\n",
       "  <thead>\n",
       "    <tr style=\"text-align: right;\">\n",
       "      <th></th>\n",
       "      <th>Id</th>\n",
       "      <th>Probability</th>\n",
       "    </tr>\n",
       "  </thead>\n",
       "  <tbody>\n",
       "    <tr>\n",
       "      <th>0</th>\n",
       "      <td>1</td>\n",
       "      <td>0.04705</td>\n",
       "    </tr>\n",
       "    <tr>\n",
       "      <th>1</th>\n",
       "      <td>2</td>\n",
       "      <td>0.04610</td>\n",
       "    </tr>\n",
       "    <tr>\n",
       "      <th>2</th>\n",
       "      <td>3</td>\n",
       "      <td>0.01456</td>\n",
       "    </tr>\n",
       "    <tr>\n",
       "      <th>3</th>\n",
       "      <td>4</td>\n",
       "      <td>0.08689</td>\n",
       "    </tr>\n",
       "    <tr>\n",
       "      <th>4</th>\n",
       "      <td>5</td>\n",
       "      <td>0.11611</td>\n",
       "    </tr>\n",
       "  </tbody>\n",
       "</table>\n",
       "</div>"
      ],
      "text/plain": [
       "   Id  Probability\n",
       "0   1      0.04705\n",
       "1   2      0.04610\n",
       "2   3      0.01456\n",
       "3   4      0.08689\n",
       "4   5      0.11611"
      ]
     },
     "execution_count": 20,
     "metadata": {},
     "output_type": "execute_result"
    }
   ],
   "source": [
    "kaggle_prediction.head()"
   ]
  },
  {
   "cell_type": "markdown",
   "metadata": {},
   "source": [
    "Render preparation and sending for evaluation by Kaggle"
   ]
  },
  {
   "cell_type": "code",
   "execution_count": 22,
   "metadata": {
    "scrolled": true
   },
   "outputs": [
    {
     "name": "stderr",
     "output_type": "stream",
     "text": [
      "100%|██████████| 1.67M/1.67M [00:06<00:00, 252kB/s] \n"
     ]
    },
    {
     "data": {
      "text/plain": [
       "Successfully submitted to Give Me Some Credit"
      ]
     },
     "execution_count": 22,
     "metadata": {},
     "output_type": "execute_result"
    }
   ],
   "source": [
    "kaggle_prediction_file=dossier_predictions+'ensemble_'+filename_prediction\n",
    "kaggle_prediction.to_csv(kaggle_prediction_file,index=False)\n",
    "kaggle.api.competition_submit(kaggle_prediction_file, \"Prediction Bigml v1.3\", \"GiveMeSomeCredit\")"
   ]
  },
  {
   "cell_type": "markdown",
   "metadata": {},
   "source": [
    "Maud SONET"
   ]
  },
  {
   "cell_type": "code",
   "execution_count": null,
   "metadata": {},
   "outputs": [],
   "source": []
  }
 ],
 "metadata": {
  "kernelspec": {
   "display_name": "Python 3",
   "language": "python",
   "name": "python3"
  },
  "language_info": {
   "codemirror_mode": {
    "name": "ipython",
    "version": 3
   },
   "file_extension": ".py",
   "mimetype": "text/x-python",
   "name": "python",
   "nbconvert_exporter": "python",
   "pygments_lexer": "ipython3",
   "version": "3.7.3"
  },
  "toc": {
   "base_numbering": 1,
   "nav_menu": {},
   "number_sections": true,
   "sideBar": true,
   "skip_h1_title": false,
   "title_cell": "Table of Contents",
   "title_sidebar": "Contents",
   "toc_cell": false,
   "toc_position": {},
   "toc_section_display": true,
   "toc_window_display": false
  }
 },
 "nbformat": 4,
 "nbformat_minor": 2
}
