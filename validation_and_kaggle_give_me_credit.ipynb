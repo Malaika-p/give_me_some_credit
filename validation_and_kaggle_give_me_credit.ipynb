{
 "cells": [
  {
   "cell_type": "markdown",
   "metadata": {},
   "source": [
    "We import what will serve us"
   ]
  },
  {
   "cell_type": "code",
   "execution_count": 2,
   "metadata": {},
   "outputs": [],
   "source": [
    "from pandas import DataFrame, read_csv\n",
    "import bigml.api\n",
    "from bigml.api import BigML\n",
    "import kaggle\n"
   ]
  },
  {
   "cell_type": "markdown",
   "metadata": {},
   "source": [
    "## Prediction in validation set\n",
    "\n",
    "We keep the best number : 3 "
   ]
  },
  {
   "cell_type": "markdown",
   "metadata": {},
   "source": [
    "we train the ensemble in all the training test"
   ]
  },
  {
   "cell_type": "code",
   "execution_count": 3,
   "metadata": {},
   "outputs": [],
   "source": [
    "api = BigML(project='project/5db160c5f80b1640d6000224')"
   ]
  },
  {
   "cell_type": "code",
   "execution_count": 5,
   "metadata": {},
   "outputs": [
    {
     "data": {
      "text/plain": [
       "True"
      ]
     },
     "execution_count": 5,
     "metadata": {},
     "output_type": "execute_result"
    }
   ],
   "source": [
    "source_full = api.create_source('kaggle/fulltrain3.csv')\n",
    "# waiting for the source to be finished. Results will be stored in `source`\n",
    "api.ok(source_full)\n",
    "# step 3: creating a dataset from the previously created `source`\n",
    "dataset_full = api.create_dataset(source_full)\n",
    "# waiting for the dataset to be finished\n",
    "api.ok(dataset_full) \n",
    "# step 5: creating an Ensemble\n",
    "ensemble_full = api.create_ensemble(dataset_full)\n",
    "# waiting for the ensemble to be finished\n",
    "api.ok(ensemble_full)"
   ]
  },
  {
   "cell_type": "markdown",
   "metadata": {},
   "source": [
    "Make prediction in the validation set "
   ]
  },
  {
   "cell_type": "code",
   "execution_count": 8,
   "metadata": {},
   "outputs": [
    {
     "data": {
      "text/plain": [
       "'kaggle/kaggle_predictions3.csv'"
      ]
     },
     "execution_count": 8,
     "metadata": {},
     "output_type": "execute_result"
    }
   ],
   "source": [
    "# step 6: creating a source from the data in your local \"data/test_iris.csv\" file\n",
    "test_source_validation = api.create_source(\"kaggle/validation3.csv\")\n",
    "# waiting for the source to be finished. Results will be stored in `source`\n",
    "api.ok(test_source_validation)\n",
    "# step 8: creating a dataset from the previously created `source`\n",
    "test_dataset_validation = api.create_dataset(test_source_validation)\n",
    "# waiting for the dataset to be finished\n",
    "api.ok(test_dataset_validation)\n",
    "# step 10: creating a batch prediction\n",
    "batch_prediction_validation = api.create_batch_prediction(ensemble_full, test_dataset_validation,\n",
    "                                               {\"all_fields\": True,\n",
    "                                                 \"header\": True,\n",
    "                                                \"confidence\": True,\n",
    "                                                \"probabilities\": True})\n",
    "# waiting for the batch_prediction to be finished\n",
    "api.ok(batch_prediction_validation)\n",
    "# downloading the results to your computer\n",
    "api.download_batch_prediction(batch_prediction_validation,\n",
    "                              filename='kaggle/kaggle_predictions3.csv')"
   ]
  },
  {
   "cell_type": "markdown",
   "metadata": {},
   "source": [
    "We recover the prediction"
   ]
  },
  {
   "cell_type": "code",
   "execution_count": 9,
   "metadata": {},
   "outputs": [
    {
     "name": "stdout",
     "output_type": "stream",
     "text": [
      "['field1', 'RevolvingUtilizationOfUnsecuredLines', 'age', 'DebtRatio', 'MonthlyIncome', 'MonthlyDebt', 'DisposableIncome', 'BalancedIncome', 'NumberOfOpenCreditLinesAndLoans', 'NumberRealEstateLoansOrLines', 'NumberOfTime30-59DaysPastDueNotWorse', 'NumberOfTime60-89DaysPastDueNotWorse', 'NumberOfTimes90DaysLate', 'WeightedOfLatePayment', 'NumberOfDependents', 'SeriousDlqin2yrs', 'SeriousDlqin2yrs.1', 'confidence', '0 probability', '1 probability']\n"
     ]
    }
   ],
   "source": [
    "prediction=read_csv('kaggle/kaggle_predictions3.csv',index_col=False)\n",
    "print(list(prediction))"
   ]
  },
  {
   "cell_type": "markdown",
   "metadata": {},
   "source": [
    "We rename the columns for rendering"
   ]
  },
  {
   "cell_type": "code",
   "execution_count": 10,
   "metadata": {},
   "outputs": [],
   "source": [
    "kaggle_prediction=DataFrame()\n",
    "kaggle_prediction['Id']=prediction['field1']\n",
    "kaggle_prediction['Probability']=prediction['1 probability']"
   ]
  },
  {
   "cell_type": "markdown",
   "metadata": {},
   "source": [
    "We check the output"
   ]
  },
  {
   "cell_type": "code",
   "execution_count": 11,
   "metadata": {},
   "outputs": [
    {
     "data": {
      "text/html": [
       "<div>\n",
       "<style scoped>\n",
       "    .dataframe tbody tr th:only-of-type {\n",
       "        vertical-align: middle;\n",
       "    }\n",
       "\n",
       "    .dataframe tbody tr th {\n",
       "        vertical-align: top;\n",
       "    }\n",
       "\n",
       "    .dataframe thead th {\n",
       "        text-align: right;\n",
       "    }\n",
       "</style>\n",
       "<table border=\"1\" class=\"dataframe\">\n",
       "  <thead>\n",
       "    <tr style=\"text-align: right;\">\n",
       "      <th></th>\n",
       "      <th>Id</th>\n",
       "      <th>Probability</th>\n",
       "    </tr>\n",
       "  </thead>\n",
       "  <tbody>\n",
       "    <tr>\n",
       "      <td>0</td>\n",
       "      <td>1</td>\n",
       "      <td>0.05602</td>\n",
       "    </tr>\n",
       "    <tr>\n",
       "      <td>1</td>\n",
       "      <td>2</td>\n",
       "      <td>0.04954</td>\n",
       "    </tr>\n",
       "    <tr>\n",
       "      <td>2</td>\n",
       "      <td>3</td>\n",
       "      <td>0.02553</td>\n",
       "    </tr>\n",
       "    <tr>\n",
       "      <td>3</td>\n",
       "      <td>4</td>\n",
       "      <td>0.05403</td>\n",
       "    </tr>\n",
       "    <tr>\n",
       "      <td>4</td>\n",
       "      <td>5</td>\n",
       "      <td>0.13165</td>\n",
       "    </tr>\n",
       "  </tbody>\n",
       "</table>\n",
       "</div>"
      ],
      "text/plain": [
       "   Id  Probability\n",
       "0   1      0.05602\n",
       "1   2      0.04954\n",
       "2   3      0.02553\n",
       "3   4      0.05403\n",
       "4   5      0.13165"
      ]
     },
     "execution_count": 11,
     "metadata": {},
     "output_type": "execute_result"
    }
   ],
   "source": [
    "kaggle_prediction.head()"
   ]
  },
  {
   "cell_type": "markdown",
   "metadata": {},
   "source": [
    "Render preparation and sending for evaluation by Kaggle"
   ]
  },
  {
   "cell_type": "code",
   "execution_count": 12,
   "metadata": {
    "scrolled": true
   },
   "outputs": [
    {
     "name": "stderr",
     "output_type": "stream",
     "text": [
      "100%|██████████| 1.66M/1.66M [00:06<00:00, 278kB/s] \n"
     ]
    },
    {
     "data": {
      "text/plain": [
       "Successfully submitted to Give Me Some Credit"
      ]
     },
     "execution_count": 12,
     "metadata": {},
     "output_type": "execute_result"
    }
   ],
   "source": [
    "kaggle_prediction_file=\"kaggleprediction_3.csv\"\n",
    "kaggle_prediction.to_csv(kaggle_prediction_file,index=False)\n",
    "kaggle.api.competition_submit(kaggle_prediction_file, \"Prediction Bigml\", \"GiveMeSomeCredit\")"
   ]
  },
  {
   "cell_type": "markdown",
   "metadata": {},
   "source": [
    "Maud SONET"
   ]
  },
  {
   "cell_type": "code",
   "execution_count": null,
   "metadata": {},
   "outputs": [],
   "source": []
  }
 ],
 "metadata": {
  "kernelspec": {
   "display_name": "Python 3",
   "language": "python",
   "name": "python3"
  },
  "language_info": {
   "codemirror_mode": {
    "name": "ipython",
    "version": 3
   },
   "file_extension": ".py",
   "mimetype": "text/x-python",
   "name": "python",
   "nbconvert_exporter": "python",
   "pygments_lexer": "ipython3",
   "version": "3.7.3"
  }
 },
 "nbformat": 4,
 "nbformat_minor": 2
}
